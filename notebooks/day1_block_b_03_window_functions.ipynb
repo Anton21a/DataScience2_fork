{
 "cells": [
  {
   "cell_type": "markdown",
   "metadata": {},
   "source": [
    "# Day 1, Block B: Window Functions Primer\n",
    "\n",
    "**Duration:** 25-30 minutes  \n",
    "**Course:** ECBS5294 - Introduction to Data Science: Working with Data  \n",
    "**Instructor:** Eduardo Ariño de la Rubia\n",
    "\n",
    "---\n",
    "\n",
    "## Learning Objectives\n",
    "\n",
    "By the end of this session, you will be able to:\n",
    "\n",
    "1. **Explain the mental model:** Windows preserve rows; GROUP BY collapses rows\n",
    "2. **Decide when to use** window functions vs GROUP BY\n",
    "3. **Use ROW_NUMBER()** for \"latest record per group\" problems\n",
    "4. **Use LAG()** for period-over-period comparisons\n",
    "5. **Create moving averages** with ROWS BETWEEN\n",
    "6. **Understand window function syntax** (PARTITION BY, ORDER BY, frame)\n",
    "\n",
    "---"
   ]
  },
  {
   "cell_type": "markdown",
   "metadata": {},
   "source": [
    "## 1. Introduction: The Power of Windows\n",
    "\n",
    "### The Challenge\n",
    "\n",
    "You just learned GROUP BY. It's powerful:\n",
    "- \"Total revenue per product\" ✅\n",
    "- \"Count of transactions per month\" ✅\n",
    "\n",
    "But sometimes GROUP BY has a **limitation:**\n",
    "\n",
    "**Problem:** \"I want to see each transaction AND the total for that product.\"\n",
    "\n",
    "With GROUP BY:\n",
    "- You can see the total per product (1 row per product)\n",
    "- OR you can see all transactions (many rows)\n",
    "- But **not both at the same time!**\n",
    "\n",
    "GROUP BY **collapses** rows. What if you want the calculation **without collapsing**?\n",
    "\n",
    "**Enter: Window Functions**\n",
    "\n",
    "> **Window functions let you add aggregates to your data WITHOUT collapsing rows.**\n",
    "\n",
    "This is incredibly powerful for analytics!\n",
    "\n",
    "---"
   ]
  },
  {
   "cell_type": "markdown",
   "metadata": {},
   "source": [
    "## 2. Setup\n",
    "\n",
    "### Why a New Dataset?\n",
    "\n",
    "We're switching from cafe sales to **Superstore** data because:\n",
    "- Better **time series** (4 years of data)\n",
    "- Multiple orders **per customer** (great for ROW_NUMBER examples)\n",
    "- Daily data (perfect for moving averages)\n",
    "\n",
    "Superstore is a classic teaching dataset - it's clean, realistic, and perfect for window functions!"
   ]
  },
  {
   "cell_type": "code",
   "execution_count": null,
   "metadata": {
    "execution": {
     "iopub.execute_input": "2025-10-07T16:55:24.010907Z",
     "iopub.status.busy": "2025-10-07T16:55:24.010744Z",
     "iopub.status.idle": "2025-10-07T16:55:24.251673Z",
     "shell.execute_reply": "2025-10-07T16:55:24.250737Z"
    }
   },
   "outputs": [],
   "source": [
    "# Imports\n",
    "import duckdb\n",
    "import pandas as pd\n",
    "import numpy as np\n",
    "import warnings\n",
    "\n",
    "warnings.filterwarnings('ignore')\n",
    "\n",
    "print(\"✅ Libraries imported!\")"
   ]
  },
  {
   "cell_type": "code",
   "execution_count": null,
   "metadata": {
    "execution": {
     "iopub.execute_input": "2025-10-07T16:55:24.272720Z",
     "iopub.status.busy": "2025-10-07T16:55:24.272427Z",
     "iopub.status.idle": "2025-10-07T16:55:24.284054Z",
     "shell.execute_reply": "2025-10-07T16:55:24.283180Z"
    }
   },
   "outputs": [],
   "source": [
    "# Connect to DuckDB\n",
    "con = duckdb.connect(':memory:')\n",
    "\n",
    "print(\"✅ Connected to DuckDB!\")"
   ]
  },
  {
   "cell_type": "code",
   "execution_count": null,
   "metadata": {
    "execution": {
     "iopub.execute_input": "2025-10-07T16:55:24.286755Z",
     "iopub.status.busy": "2025-10-07T16:55:24.286550Z",
     "iopub.status.idle": "2025-10-07T16:55:24.326284Z",
     "shell.execute_reply": "2025-10-07T16:55:24.326032Z"
    }
   },
   "outputs": [],
   "source": [
    "# Load Superstore data\n",
    "# Note: Using encoding='latin-1' due to file encoding\n",
    "superstore = pd.read_csv('../data/day1/Sample - Superstore.csv', encoding='latin-1')\n",
    "\n",
    "# Cast Order Date to datetime for proper DATE_TRUNC support\n",
    "superstore['Order Date'] = pd.to_datetime(superstore['Order Date'])\n",
    "\n",
    "# Register with DuckDB\n",
    "con.register('superstore', superstore)\n",
    "\n",
    "print(f\"✅ Loaded {len(superstore):,} rows!\")"
   ]
  },
  {
   "cell_type": "code",
   "execution_count": null,
   "metadata": {
    "execution": {
     "iopub.execute_input": "2025-10-07T16:55:24.327340Z",
     "iopub.status.busy": "2025-10-07T16:55:24.327273Z",
     "iopub.status.idle": "2025-10-07T16:55:24.334378Z",
     "shell.execute_reply": "2025-10-07T16:55:24.334166Z"
    }
   },
   "outputs": [],
   "source": [
    "# Explore the data\n",
    "con.execute(\"\"\"\n",
    "    SELECT \n",
    "        \"Order ID\",\n",
    "        \"Order Date\",\n",
    "        \"Customer ID\",\n",
    "        \"Customer Name\",\n",
    "        Category,\n",
    "        \"Product Name\",\n",
    "        Sales\n",
    "    FROM superstore\n",
    "    LIMIT 5\n",
    "\"\"\").df()"
   ]
  },
  {
   "cell_type": "code",
   "execution_count": null,
   "metadata": {
    "execution": {
     "iopub.execute_input": "2025-10-07T16:55:24.335290Z",
     "iopub.status.busy": "2025-10-07T16:55:24.335224Z",
     "iopub.status.idle": "2025-10-07T16:55:24.340459Z",
     "shell.execute_reply": "2025-10-07T16:55:24.340255Z"
    }
   },
   "outputs": [],
   "source": [
    "# Check date range\n",
    "con.execute(\"\"\"\n",
    "    SELECT \n",
    "        MIN(\"Order Date\") as first_order,\n",
    "        MAX(\"Order Date\") as last_order,\n",
    "        COUNT(DISTINCT \"Customer ID\") as unique_customers,\n",
    "        COUNT(*) as total_orders\n",
    "    FROM superstore\n",
    "\"\"\").df()"
   ]
  },
  {
   "cell_type": "markdown",
   "metadata": {},
   "source": [
    "**Perfect!** ~10,000 orders across 4 years from ~800 customers. This is great data for learning window functions.\n",
    "\n",
    "---"
   ]
  },
  {
   "cell_type": "markdown",
   "metadata": {},
   "source": [
    "## 3. The Mental Model: Windows vs GROUP BY\n",
    "\n",
    "> **🚨 THIS IS THE MOST IMPORTANT CONCEPT**\n",
    "\n",
    "### The Core Difference\n",
    "\n",
    "| | GROUP BY | Window Functions |\n",
    "|---|---|---|\n",
    "| **What happens to rows?** | Collapses to summary | Keeps all rows |\n",
    "| **Output row count** | Fewer rows (one per group) | Same row count as input |\n",
    "| **Use when** | You want summary only | You want detail + calculation |\n",
    "| **Example** | \"Total sales per category\" | \"Each order + category total\" |\n",
    "\n",
    "Let's see this in action with real queries."
   ]
  },
  {
   "cell_type": "markdown",
   "metadata": {},
   "source": [
    "### Example: GROUP BY (Collapses Rows)"
   ]
  },
  {
   "cell_type": "code",
   "execution_count": null,
   "metadata": {
    "execution": {
     "iopub.execute_input": "2025-10-07T16:55:24.341568Z",
     "iopub.status.busy": "2025-10-07T16:55:24.341514Z",
     "iopub.status.idle": "2025-10-07T16:55:24.352162Z",
     "shell.execute_reply": "2025-10-07T16:55:24.351966Z"
    }
   },
   "outputs": [],
   "source": [
    "# ==============================================================================\n",
    "# THE CRITICAL DIFFERENCE: Side-by-Side Comparison\n",
    "# ==============================================================================\n",
    "\n",
    "print(\"=\"*70)\n",
    "print(\"APPROACH 1: GROUP BY (Collapses Rows)\")\n",
    "print(\"=\"*70)\n",
    "result_groupby = con.execute(\"\"\"\n",
    "    SELECT \n",
    "        Category,\n",
    "        COUNT(*) AS order_count\n",
    "    FROM superstore\n",
    "    GROUP BY Category\n",
    "    ORDER BY order_count DESC\n",
    "\"\"\").df()\n",
    "\n",
    "print(f\"\\n📊 Input: 9,994 rows\")\n",
    "print(f\"📉 Output: {len(result_groupby)} rows (one per category)\")\n",
    "print(f\"❌ We LOST all the details! Which products? Which customers? When?\\n\")\n",
    "display(result_groupby)\n",
    "\n",
    "print(\"\\n\" + \"=\"*70)\n",
    "print(\"APPROACH 2: WINDOW FUNCTION (Preserves Rows)\")\n",
    "print(\"=\"*70)\n",
    "result_window = con.execute(\"\"\"\n",
    "    SELECT \n",
    "        \"Order ID\",\n",
    "        \"Product Name\",\n",
    "        Category,\n",
    "        Sales,\n",
    "        COUNT(*) OVER (PARTITION BY Category) AS category_order_count\n",
    "    FROM superstore\n",
    "    LIMIT 10\n",
    "\"\"\").df()\n",
    "\n",
    "print(f\"\\n📊 Input: 9,994 rows\")\n",
    "print(f\"📈 Output: 9,994 rows (all kept!)\")\n",
    "print(f\"✅ We KEPT everything AND added the count!\\n\")\n",
    "print(\"(Showing first 10 rows)\\n\")\n",
    "display(result_window)\n",
    "\n",
    "print(\"\\n\" + \"=\"*70)\n",
    "print(\"🔑 KEY INSIGHT:\")\n",
    "print(\"=\"*70)\n",
    "print(\"   GROUP BY:  9,994 rows  →  3 rows      (COLLAPSED)\")\n",
    "print(\"   Window:    9,994 rows  →  9,994 rows  (PRESERVED)\")\n",
    "print(\"=\"*70)\n",
    "print(\"\\n💡 This is why window functions are powerful:\")\n",
    "print(\"   You get the DETAIL + the AGGREGATE in the same result!\")\n",
    "print(\"=\"*70)"
   ]
  },
  {
   "cell_type": "markdown",
   "metadata": {},
   "source": [
    "### Example: Window Function (Keeps All Rows)"
   ]
  },
  {
   "cell_type": "markdown",
   "metadata": {},
   "source": [
    "**See the difference?**\n",
    "- All detail rows are still there!\n",
    "- But we've added a new column: `category_order_count`\n",
    "- Every row in \"Furniture\" shows the same count (how many total Furniture orders)\n",
    "- Every row in \"Technology\" shows its count\n",
    "\n",
    "**The calculation happened \"over a window\" of rows, but we kept all rows!**"
   ]
  },
  {
   "cell_type": "markdown",
   "metadata": {},
   "source": [
    "---\n",
    "\n",
    "## 4. When to Use Each\n",
    "\n",
    "### Decision Guide\n",
    "\n",
    "**Use GROUP BY when:**\n",
    "- ✅ You want summary only (one row per group)\n",
    "- ✅ You don't need row-level details\n",
    "- ✅ Example: \"What's our revenue per region?\" (just the totals)\n",
    "\n",
    "**Use Window Functions when:**\n",
    "- ✅ You want detail + calculation\n",
    "- ✅ You need ranking (1st, 2nd, 3rd...)\n",
    "- ✅ You need row-to-row comparisons (\"this month vs last month\")\n",
    "- ✅ You need to filter AFTER calculating (\"show me the top 3 per category\")\n",
    "- ✅ Example: \"Show me all orders, with each order's rank within its category\"\n",
    "\n",
    "**Key insight:** If GROUP BY loses information you need, use window functions!\n",
    "\n",
    "---"
   ]
  },
  {
   "cell_type": "markdown",
   "metadata": {},
   "source": [
    "### Simple Example: No PARTITION or ORDER"
   ]
  },
  {
   "cell_type": "code",
   "execution_count": null,
   "metadata": {
    "execution": {
     "iopub.execute_input": "2025-10-07T16:55:24.353272Z",
     "iopub.status.busy": "2025-10-07T16:55:24.353222Z",
     "iopub.status.idle": "2025-10-07T16:55:24.357962Z",
     "shell.execute_reply": "2025-10-07T16:55:24.357780Z"
    }
   },
   "outputs": [],
   "source": [
    "# Add total order count to every row\n",
    "con.execute(\"\"\"\n",
    "    SELECT \n",
    "        \"Order ID\",\n",
    "        \"Product Name\",\n",
    "        COUNT(*) OVER () AS total_orders_in_dataset\n",
    "    FROM superstore\n",
    "    LIMIT 5\n",
    "\"\"\").df()"
   ]
  },
  {
   "cell_type": "markdown",
   "metadata": {},
   "source": [
    "**What happened:** `COUNT(*) OVER ()` with empty `()` means \"count ALL rows\" and add that number to every row."
   ]
  },
  {
   "cell_type": "markdown",
   "metadata": {},
   "source": [
    "### With PARTITION BY"
   ]
  },
  {
   "cell_type": "code",
   "execution_count": null,
   "metadata": {
    "execution": {
     "iopub.execute_input": "2025-10-07T16:55:24.358897Z",
     "iopub.status.busy": "2025-10-07T16:55:24.358848Z",
     "iopub.status.idle": "2025-10-07T16:55:24.364452Z",
     "shell.execute_reply": "2025-10-07T16:55:24.364254Z"
    }
   },
   "outputs": [],
   "source": [
    "# Add count PER CATEGORY to every row\n",
    "con.execute(\"\"\"\n",
    "    SELECT \n",
    "        \"Order ID\",\n",
    "        \"Product Name\",\n",
    "        Category,\n",
    "        COUNT(*) OVER (PARTITION BY Category) AS category_count\n",
    "    FROM superstore\n",
    "    LIMIT 10\n",
    "\"\"\").df()"
   ]
  },
  {
   "cell_type": "markdown",
   "metadata": {},
   "source": [
    "**PARTITION BY is like GROUP BY for window functions!**\n",
    "- \"PARTITION BY Category\" = \"For each category...\"\n",
    "- COUNT happens within each partition\n",
    "- But all rows are kept!"
   ]
  },
  {
   "cell_type": "markdown",
   "metadata": {},
   "source": [
    "---\n",
    "\n",
    "## 6. Use Case 1: ROW_NUMBER() for \"Latest Per Group\"\n",
    "\n",
    "### The Business Problem\n",
    "\n",
    "> **\"I want the most recent order for each customer.\"**\n",
    "\n",
    "This is a VERY common pattern in data analysis:\n",
    "- Latest transaction per customer\n",
    "- Most recent login per user\n",
    "- Current status per order\n",
    "\n",
    "### Why GROUP BY Fails"
   ]
  },
  {
   "cell_type": "code",
   "execution_count": null,
   "metadata": {
    "execution": {
     "iopub.execute_input": "2025-10-07T16:55:24.365428Z",
     "iopub.status.busy": "2025-10-07T16:55:24.365375Z",
     "iopub.status.idle": "2025-10-07T16:55:24.370627Z",
     "shell.execute_reply": "2025-10-07T16:55:24.370424Z"
    }
   },
   "outputs": [],
   "source": [
    "# Try with GROUP BY: Get latest date per customer\n",
    "con.execute(\"\"\"\n",
    "    SELECT \n",
    "        \"Customer ID\",\n",
    "        \"Customer Name\",\n",
    "        MAX(\"Order Date\") AS latest_order_date\n",
    "    FROM superstore\n",
    "    GROUP BY \"Customer ID\", \"Customer Name\"\n",
    "    LIMIT 5\n",
    "\"\"\").df()"
   ]
  },
  {
   "cell_type": "markdown",
   "metadata": {},
   "source": [
    "**Problem:** We got the date, but we **lost the order details!**\n",
    "- What was ordered?\n",
    "- What category?\n",
    "- Order ID?\n",
    "- Sales amount?\n",
    "\n",
    "GROUP BY collapsed everything. We need a different approach."
   ]
  },
  {
   "cell_type": "markdown",
   "metadata": {},
   "source": [
    "### Solution: ROW_NUMBER()\n",
    "\n",
    "> **ROW_NUMBER() assigns a sequential number to each row within a group**\n",
    "\n",
    "Strategy:\n",
    "1. For each customer, rank orders by date (newest = 1)\n",
    "2. Keep all the row details\n",
    "3. Filter to rank = 1"
   ]
  },
  {
   "cell_type": "code",
   "execution_count": null,
   "metadata": {
    "execution": {
     "iopub.execute_input": "2025-10-07T16:55:24.371631Z",
     "iopub.status.busy": "2025-10-07T16:55:24.371564Z",
     "iopub.status.idle": "2025-10-07T16:55:24.379595Z",
     "shell.execute_reply": "2025-10-07T16:55:24.379388Z"
    }
   },
   "outputs": [],
   "source": [
    "# Step 1: Add row numbers\n",
    "con.execute(\"\"\"\n",
    "    SELECT \n",
    "        \"Customer ID\",\n",
    "        \"Customer Name\",\n",
    "        \"Order ID\",\n",
    "        \"Order Date\",\n",
    "        Category,\n",
    "        Sales,\n",
    "        ROW_NUMBER() OVER (\n",
    "            PARTITION BY \"Customer ID\" \n",
    "            ORDER BY \"Order Date\" DESC\n",
    "        ) AS row_num\n",
    "    FROM superstore\n",
    "    LIMIT 20\n",
    "\"\"\").df()"
   ]
  },
  {
   "cell_type": "markdown",
   "metadata": {},
   "source": [
    "**Breaking it down:**\n",
    "- `PARTITION BY \"Customer ID\"` = For each customer...\n",
    "- `ORDER BY \"Order Date\" DESC` = Sort by date, newest first\n",
    "- `ROW_NUMBER()` = Assign 1, 2, 3, ...\n",
    "\n",
    "**Result:** Each customer's orders are numbered, 1 = most recent!"
   ]
  },
  {
   "cell_type": "markdown",
   "metadata": {},
   "source": [
    "### Step 2: Filter to Latest Only"
   ]
  },
  {
   "cell_type": "code",
   "execution_count": null,
   "metadata": {
    "execution": {
     "iopub.execute_input": "2025-10-07T16:55:24.380653Z",
     "iopub.status.busy": "2025-10-07T16:55:24.380601Z",
     "iopub.status.idle": "2025-10-07T16:55:24.388820Z",
     "shell.execute_reply": "2025-10-07T16:55:24.388599Z"
    }
   },
   "outputs": [],
   "source": [
    "# Now filter to row_num = 1 using a subquery\n",
    "con.execute(\"\"\"\n",
    "    SELECT \n",
    "        \"Customer ID\",\n",
    "        \"Customer Name\",\n",
    "        \"Order ID\",\n",
    "        \"Order Date\",\n",
    "        Category,\n",
    "        \"Product Name\",\n",
    "        Sales\n",
    "    FROM (\n",
    "        SELECT \n",
    "            \"Customer ID\",\n",
    "            \"Customer Name\",\n",
    "            \"Order ID\",\n",
    "            \"Order Date\",\n",
    "            Category,\n",
    "            \"Product Name\",\n",
    "            Sales,\n",
    "            ROW_NUMBER() OVER (\n",
    "                PARTITION BY \"Customer ID\" \n",
    "                ORDER BY \"Order Date\" DESC\n",
    "            ) AS row_num\n",
    "        FROM superstore\n",
    "    )\n",
    "    WHERE row_num = 1\n",
    "    ORDER BY \"Order Date\" DESC\n",
    "    LIMIT 10\n",
    "\"\"\").df()"
   ]
  },
  {
   "cell_type": "markdown",
   "metadata": {},
   "source": [
    "---\n",
    "\n",
    "### ⏸️ Pause and Try!\n",
    "\n",
    "**Your task:** Modify the ROW_NUMBER query from Cell 28 above to get the **TOP 3** orders per customer (not just the latest).\n",
    "\n",
    "**Requirements:**\n",
    "1. Use the same ROW_NUMBER pattern from the example above\n",
    "2. Change the `WHERE` filter to get top 3 instead of latest (hint: `<= 3`)\n",
    "3. Keep all the same columns in the output\n",
    "4. Order by Customer ID and row_num\n",
    "5. Limit to 15 rows total\n",
    "\n",
    "Replace the placeholder query in the cell below with your complete SQL query."
   ]
  },
  {
   "cell_type": "code",
   "execution_count": null,
   "metadata": {
    "execution": {
     "iopub.execute_input": "2025-10-07T16:55:24.389775Z",
     "iopub.status.busy": "2025-10-07T16:55:24.389723Z",
     "iopub.status.idle": "2025-10-07T16:55:24.391848Z",
     "shell.execute_reply": "2025-10-07T16:55:24.391657Z"
    }
   },
   "outputs": [],
   "source": [
    "# Your turn! Write your TOP 3 query here:\n",
    "con.execute(\"SELECT 1 AS todo\").df()  # Replace this entire query with your answer"
   ]
  },
  {
   "cell_type": "markdown",
   "metadata": {},
   "source": [
    "### Alternative: Top 3 Orders Per Customer"
   ]
  },
  {
   "cell_type": "code",
   "execution_count": null,
   "metadata": {
    "execution": {
     "iopub.execute_input": "2025-10-07T16:55:24.392832Z",
     "iopub.status.busy": "2025-10-07T16:55:24.392769Z",
     "iopub.status.idle": "2025-10-07T16:55:24.400041Z",
     "shell.execute_reply": "2025-10-07T16:55:24.399829Z"
    }
   },
   "outputs": [],
   "source": [
    "# Get top 3 most recent orders per customer\n",
    "con.execute(\"\"\"\n",
    "    SELECT \n",
    "        \"Customer ID\",\n",
    "        \"Customer Name\",\n",
    "        \"Order Date\",\n",
    "        Sales,\n",
    "        row_num\n",
    "    FROM (\n",
    "        SELECT \n",
    "            \"Customer ID\",\n",
    "            \"Customer Name\",\n",
    "            \"Order Date\",\n",
    "            Sales,\n",
    "            ROW_NUMBER() OVER (\n",
    "                PARTITION BY \"Customer ID\" \n",
    "                ORDER BY \"Order Date\" DESC\n",
    "            ) AS row_num\n",
    "        FROM superstore\n",
    "    )\n",
    "    WHERE row_num <= 3\n",
    "    ORDER BY \"Customer ID\", row_num\n",
    "    LIMIT 15\n",
    "\"\"\").df()"
   ]
  },
  {
   "cell_type": "markdown",
   "metadata": {},
   "source": [
    "**Just change the filter!** `WHERE row_num <= 3` gives top 3 per customer.\n",
    "\n",
    "**Use cases:**\n",
    "- Top 5 products per category\n",
    "- Latest 10 transactions per account\n",
    "- Most recent 3 logins per user\n",
    "\n",
    "---"
   ]
  },
  {
   "cell_type": "markdown",
   "metadata": {},
   "source": [
    "## 7. Use Case 2: LAG() for Period-over-Period Comparison\n",
    "\n",
    "### The Business Problem\n",
    "\n",
    "> **\"What's the month-over-month change in sales?\"**\n",
    "\n",
    "You want to compare:\n",
    "- This month vs last month\n",
    "- This quarter vs last quarter\n",
    "- Today vs yesterday\n",
    "\n",
    "You need to access the **previous row's value**. That's what LAG() does!"
   ]
  },
  {
   "cell_type": "markdown",
   "metadata": {},
   "source": [
    "### Step 1: Aggregate to Monthly Sales"
   ]
  },
  {
   "cell_type": "code",
   "execution_count": null,
   "metadata": {
    "execution": {
     "iopub.execute_input": "2025-10-07T16:55:24.401115Z",
     "iopub.status.busy": "2025-10-07T16:55:24.401064Z",
     "iopub.status.idle": "2025-10-07T16:55:24.406253Z",
     "shell.execute_reply": "2025-10-07T16:55:24.406071Z"
    }
   },
   "outputs": [],
   "source": [
    "# First, get monthly totals\n",
    "monthly_sales = con.execute(\"\"\"\n",
    "    SELECT \n",
    "        DATE_TRUNC('month', \"Order Date\") AS month,\n",
    "        ROUND(SUM(Sales), 2) AS monthly_sales\n",
    "    FROM superstore\n",
    "    GROUP BY month\n",
    "    ORDER BY month\n",
    "\"\"\").df()\n",
    "\n",
    "print(f\"Monthly sales for {len(monthly_sales)} months:\")\n",
    "monthly_sales.head(10)"
   ]
  },
  {
   "cell_type": "markdown",
   "metadata": {},
   "source": [
    "**Good!** We have one row per month. Now let's add the previous month's sales."
   ]
  },
  {
   "cell_type": "markdown",
   "metadata": {},
   "source": [
    "### Step 2: Add LAG() for Previous Month"
   ]
  },
  {
   "cell_type": "code",
   "execution_count": null,
   "metadata": {
    "execution": {
     "iopub.execute_input": "2025-10-07T16:55:24.407235Z",
     "iopub.status.busy": "2025-10-07T16:55:24.407164Z",
     "iopub.status.idle": "2025-10-07T16:55:24.412738Z",
     "shell.execute_reply": "2025-10-07T16:55:24.412540Z"
    }
   },
   "outputs": [],
   "source": [
    "# Add previous month's sales using LAG()\n",
    "con.execute(\"\"\"\n",
    "    SELECT \n",
    "        DATE_TRUNC('month', \"Order Date\") AS month,\n",
    "        ROUND(SUM(Sales), 2) AS monthly_sales,\n",
    "        LAG(ROUND(SUM(Sales), 2), 1) OVER (ORDER BY DATE_TRUNC('month', \"Order Date\")) AS prev_month_sales\n",
    "    FROM superstore\n",
    "    GROUP BY month\n",
    "    ORDER BY month\n",
    "    LIMIT 12\n",
    "\"\"\").df()"
   ]
  },
  {
   "cell_type": "markdown",
   "metadata": {},
   "source": [
    "**See that?**\n",
    "- `prev_month_sales` is the value from the row **before**\n",
    "- First row is NULL (no previous month)\n",
    "- Second row shows first month's value\n",
    "- And so on...\n",
    "\n",
    "**Syntax:**\n",
    "- `LAG(column, 1)` = Get value from 1 row before\n",
    "- `LAG(column, 2)` = Get value from 2 rows before\n",
    "- `ORDER BY month` = Defines what \"before\" means!"
   ]
  },
  {
   "cell_type": "markdown",
   "metadata": {},
   "source": [
    "### Step 3: Calculate Change"
   ]
  },
  {
   "cell_type": "code",
   "execution_count": null,
   "metadata": {
    "execution": {
     "iopub.execute_input": "2025-10-07T16:55:24.413748Z",
     "iopub.status.busy": "2025-10-07T16:55:24.413693Z",
     "iopub.status.idle": "2025-10-07T16:55:24.419935Z",
     "shell.execute_reply": "2025-10-07T16:55:24.419732Z"
    }
   },
   "outputs": [],
   "source": [
    "# Calculate month-over-month change\n",
    "con.execute(\"\"\"\n",
    "    WITH monthly AS (\n",
    "        SELECT \n",
    "            DATE_TRUNC('month', \"Order Date\") AS month,\n",
    "            ROUND(SUM(Sales), 2) AS monthly_sales\n",
    "        FROM superstore\n",
    "        GROUP BY month\n",
    "    )\n",
    "    SELECT \n",
    "        month,\n",
    "        monthly_sales,\n",
    "        LAG(monthly_sales, 1) OVER (ORDER BY month) AS prev_month,\n",
    "        ROUND(monthly_sales - LAG(monthly_sales, 1) OVER (ORDER BY month), 2) AS change,\n",
    "        ROUND(\n",
    "            100.0 * (monthly_sales - LAG(monthly_sales, 1) OVER (ORDER BY month)) / \n",
    "            LAG(monthly_sales, 1) OVER (ORDER BY month), \n",
    "            2\n",
    "        ) AS pct_change\n",
    "    FROM monthly\n",
    "    ORDER BY month\n",
    "    LIMIT 12\n",
    "\"\"\").df()"
   ]
  },
  {
   "cell_type": "markdown",
   "metadata": {},
   "source": [
    "**Business insights!**\n",
    "- See which months grew vs declined\n",
    "- Calculate percent change\n",
    "- Spot trends\n",
    "\n",
    "**Note:** Used `WITH` (Common Table Expression) to make query cleaner. This is advanced but useful!"
   ]
  },
  {
   "cell_type": "markdown",
   "metadata": {},
   "source": [
    "### Why ORDER BY Matters\n",
    "\n",
    "**Without ORDER BY, LAG() doesn't know what \"previous\" means!**\n",
    "\n",
    "```sql\n",
    "-- ❌ Wrong - undefined order\n",
    "LAG(sales) OVER ()\n",
    "\n",
    "-- ✅ Correct - ordered by time\n",
    "LAG(sales) OVER (ORDER BY month)\n",
    "```\n",
    "\n",
    "**Always ORDER BY the dimension you're comparing across** (usually time)."
   ]
  },
  {
   "cell_type": "markdown",
   "metadata": {},
   "source": [
    "### LEAD(): The Opposite\n",
    "\n",
    "`LEAD()` gets the value from rows **after** instead of before:"
   ]
  },
  {
   "cell_type": "code",
   "execution_count": null,
   "metadata": {
    "execution": {
     "iopub.execute_input": "2025-10-07T16:55:24.421016Z",
     "iopub.status.busy": "2025-10-07T16:55:24.420956Z",
     "iopub.status.idle": "2025-10-07T16:55:24.426128Z",
     "shell.execute_reply": "2025-10-07T16:55:24.425941Z"
    }
   },
   "outputs": [],
   "source": [
    "# Compare to NEXT month instead of previous\n",
    "con.execute(\"\"\"\n",
    "    WITH monthly AS (\n",
    "        SELECT \n",
    "            DATE_TRUNC('month', \"Order Date\") AS month,\n",
    "            ROUND(SUM(Sales), 2) AS monthly_sales\n",
    "        FROM superstore\n",
    "        GROUP BY month\n",
    "    )\n",
    "    SELECT \n",
    "        month,\n",
    "        monthly_sales,\n",
    "        LEAD(monthly_sales, 1) OVER (ORDER BY month) AS next_month_sales\n",
    "    FROM monthly\n",
    "    ORDER BY month\n",
    "    LIMIT 10\n",
    "\"\"\").df()"
   ]
  },
  {
   "cell_type": "markdown",
   "metadata": {},
   "source": [
    "**Use case:** \"Did we hit our forecast?\" Compare actual to next month's forecast.\n",
    "\n",
    "---"
   ]
  },
  {
   "cell_type": "markdown",
   "metadata": {},
   "source": [
    "## 8. Use Case 3: Moving Average\n",
    "\n",
    "### The Business Problem\n",
    "\n",
    "> **\"Daily sales are noisy - smooth them with a 7-day moving average.\"**\n",
    "\n",
    "**Why moving averages?**\n",
    "- Remove day-to-day volatility\n",
    "- See underlying trends\n",
    "- Common in time series analysis\n",
    "\n",
    "**What's a moving average?**\n",
    "- For each day, average that day + the 6 days before it\n",
    "- \"Window\" slides forward each day\n",
    "- Smooths out spikes and dips"
   ]
  },
  {
   "cell_type": "markdown",
   "metadata": {},
   "source": [
    "### Step 1: Aggregate to Daily Sales"
   ]
  },
  {
   "cell_type": "code",
   "execution_count": null,
   "metadata": {
    "execution": {
     "iopub.execute_input": "2025-10-07T16:55:24.427114Z",
     "iopub.status.busy": "2025-10-07T16:55:24.427064Z",
     "iopub.status.idle": "2025-10-07T16:55:24.432094Z",
     "shell.execute_reply": "2025-10-07T16:55:24.431877Z"
    }
   },
   "outputs": [],
   "source": [
    "# Get daily sales\n",
    "daily_sales = con.execute(\"\"\"\n",
    "    SELECT \n",
    "        \"Order Date\" AS date,\n",
    "        ROUND(SUM(Sales), 2) AS daily_sales\n",
    "    FROM superstore\n",
    "    GROUP BY date\n",
    "    ORDER BY date\n",
    "    LIMIT 20\n",
    "\"\"\").df()\n",
    "\n",
    "print(f\"Daily sales:\")\n",
    "daily_sales"
   ]
  },
  {
   "cell_type": "markdown",
   "metadata": {},
   "source": [
    "**See the volatility?** Some days high, some low. Hard to see the trend."
   ]
  },
  {
   "cell_type": "markdown",
   "metadata": {},
   "source": [
    "### Step 2: Add 7-Day Moving Average"
   ]
  },
  {
   "cell_type": "code",
   "execution_count": null,
   "metadata": {
    "execution": {
     "iopub.execute_input": "2025-10-07T16:55:24.433048Z",
     "iopub.status.busy": "2025-10-07T16:55:24.432976Z",
     "iopub.status.idle": "2025-10-07T16:55:24.438896Z",
     "shell.execute_reply": "2025-10-07T16:55:24.438694Z"
    }
   },
   "outputs": [],
   "source": [
    "# Add 7-day moving average\n",
    "con.execute(\"\"\"\n",
    "    WITH daily AS (\n",
    "        SELECT \n",
    "            \"Order Date\" AS date,\n",
    "            ROUND(SUM(Sales), 2) AS daily_sales\n",
    "        FROM superstore\n",
    "        GROUP BY date\n",
    "    )\n",
    "    SELECT \n",
    "        date,\n",
    "        daily_sales,\n",
    "        ROUND(\n",
    "            AVG(daily_sales) OVER (\n",
    "                ORDER BY date\n",
    "                ROWS BETWEEN 6 PRECEDING AND CURRENT ROW\n",
    "            ), \n",
    "            2\n",
    "        ) AS moving_avg_7day\n",
    "    FROM daily\n",
    "    ORDER BY date\n",
    "    LIMIT 20\n",
    "\"\"\").df()"
   ]
  },
  {
   "cell_type": "markdown",
   "metadata": {},
   "source": [
    "**Breaking down the syntax:**\n",
    "\n",
    "```sql\n",
    "AVG(daily_sales) OVER (\n",
    "    ORDER BY date\n",
    "    ROWS BETWEEN 6 PRECEDING AND CURRENT ROW\n",
    ")\n",
    "```\n",
    "\n",
    "- `AVG(daily_sales)` - Calculate average\n",
    "- `ORDER BY date` - Order matters! (need to know which rows are \"before\")\n",
    "- `ROWS BETWEEN 6 PRECEDING AND CURRENT ROW` - The magic part!\n",
    "  - `6 PRECEDING` = 6 rows before current\n",
    "  - `CURRENT ROW` = current row\n",
    "  - Total: 7 rows (6 before + current)\n",
    "\n",
    "**Visual:**\n",
    "```\n",
    "For row at day 10:\n",
    "[day 4][day 5][day 6][day 7][day 8][day 9][day 10]\n",
    " ↑                                            ↑\n",
    " 6 preceding                          current row\n",
    " \n",
    " Average these 7 days\n",
    "```"
   ]
  },
  {
   "cell_type": "markdown",
   "metadata": {},
   "source": [
    "### The Smoothing Effect"
   ]
  },
  {
   "cell_type": "code",
   "execution_count": null,
   "metadata": {
    "execution": {
     "iopub.execute_input": "2025-10-07T16:55:24.439916Z",
     "iopub.status.busy": "2025-10-07T16:55:24.439859Z",
     "iopub.status.idle": "2025-10-07T16:55:24.446387Z",
     "shell.execute_reply": "2025-10-07T16:55:24.446190Z"
    }
   },
   "outputs": [],
   "source": [
    "# Let's see more data to see the smoothing\n",
    "con.execute(\"\"\"\n",
    "    WITH daily AS (\n",
    "        SELECT \n",
    "            \"Order Date\" AS date,\n",
    "            ROUND(SUM(Sales), 2) AS daily_sales\n",
    "        FROM superstore\n",
    "        GROUP BY date\n",
    "    )\n",
    "    SELECT \n",
    "        date,\n",
    "        daily_sales,\n",
    "        ROUND(\n",
    "            AVG(daily_sales) OVER (\n",
    "                ORDER BY date\n",
    "                ROWS BETWEEN 6 PRECEDING AND CURRENT ROW\n",
    "            ), \n",
    "            2\n",
    "        ) AS moving_avg_7day,\n",
    "        ROUND(daily_sales - AVG(daily_sales) OVER (\n",
    "                ORDER BY date\n",
    "                ROWS BETWEEN 6 PRECEDING AND CURRENT ROW\n",
    "            ), 2) AS deviation_from_avg\n",
    "    FROM daily\n",
    "    ORDER BY date\n",
    "    LIMIT 30\n",
    "\"\"\").df()"
   ]
  },
  {
   "cell_type": "markdown",
   "metadata": {},
   "source": [
    "**Notice:**\n",
    "- Daily sales jumps around (high volatility)\n",
    "- Moving average is smoother (less volatile)\n",
    "- You can see the trend more clearly\n",
    "\n",
    "**Business use:** \"Is our sales trend up or down?\" Moving average makes it clear."
   ]
  },
  {
   "cell_type": "markdown",
   "metadata": {},
   "source": [
    "### Other Frame Options\n",
    "\n",
    "**Frame syntax:** `ROWS BETWEEN <start> AND <end>`\n",
    "\n",
    "Common patterns:\n",
    "\n",
    "```sql\n",
    "-- 7-day moving average\n",
    "ROWS BETWEEN 6 PRECEDING AND CURRENT ROW\n",
    "\n",
    "-- 3-day centered average (1 before, current, 1 after)\n",
    "ROWS BETWEEN 1 PRECEDING AND 1 FOLLOWING\n",
    "\n",
    "-- Running total (all rows from start to current)\n",
    "ROWS BETWEEN UNBOUNDED PRECEDING AND CURRENT ROW\n",
    "\n",
    "-- Next 5 days average\n",
    "ROWS BETWEEN CURRENT ROW AND 5 FOLLOWING\n",
    "```\n",
    "\n",
    "**Key:** ORDER BY defines what \"preceding\" and \"following\" mean!"
   ]
  },
  {
   "cell_type": "markdown",
   "metadata": {},
   "source": [
    "---\n",
    "\n",
    "## 9. Summary: Window Functions\n",
    "\n",
    "### The Three Use Cases We Learned\n",
    "\n",
    "1. **ROW_NUMBER()** - Ranking/Latest per group\n",
    "   - \"Latest order per customer\"\n",
    "   - \"Top 3 products per category\"\n",
    "   - Requires: PARTITION BY + ORDER BY\n",
    "\n",
    "2. **LAG()/LEAD()** - Row-to-row comparison\n",
    "   - \"Month-over-month change\"\n",
    "   - \"This year vs last year\"\n",
    "   - Requires: ORDER BY\n",
    "\n",
    "3. **Moving Average** - Smoothing/Rolling calculations\n",
    "   - \"7-day moving average\"\n",
    "   - \"Running total\"\n",
    "   - Requires: ORDER BY + ROWS BETWEEN\n",
    "\n",
    "### Syntax Template\n",
    "\n",
    "```sql\n",
    "SELECT \n",
    "    column1,\n",
    "    column2,\n",
    "    <function>() OVER (\n",
    "        PARTITION BY group_column    -- Optional: \"for each...\"\n",
    "        ORDER BY sort_column         -- When order matters\n",
    "        ROWS BETWEEN ... AND ...     -- For frames (moving avg)\n",
    "    ) AS result_column\n",
    "FROM table\n",
    "```\n",
    "\n",
    "### Key Takeaways\n",
    "\n",
    "1. ✅ **Windows preserve rows, GROUP BY collapses**\n",
    "2. ✅ **Use PARTITION BY for groups** (like GROUP BY)\n",
    "3. ✅ **Use ORDER BY when order matters** (almost always!)\n",
    "4. ✅ **Use ROWS BETWEEN for custom frames** (moving averages)\n",
    "5. ✅ **Pattern for filtering:** Use subquery to filter window results\n",
    "\n",
    "---"
   ]
  },
  {
   "cell_type": "markdown",
   "metadata": {},
   "source": [
    "## 10. Common Gotchas\n",
    "\n",
    "### ❌ Gotcha 1: Forgetting ORDER BY\n",
    "\n",
    "```sql\n",
    "-- ❌ Wrong - undefined order\n",
    "ROW_NUMBER() OVER (PARTITION BY customer_id)\n",
    "\n",
    "-- ✅ Correct\n",
    "ROW_NUMBER() OVER (PARTITION BY customer_id ORDER BY order_date DESC)\n",
    "```\n",
    "\n",
    "### ❌ Gotcha 2: Expecting Windows to Filter Rows\n",
    "\n",
    "Window functions **add columns**, they don't filter rows!\n",
    "\n",
    "```sql\n",
    "-- ❌ This doesn't filter - it adds a column\n",
    "SELECT *, ROW_NUMBER() OVER (...) AS rn\n",
    "FROM table\n",
    "-- Still get all rows!\n",
    "\n",
    "-- ✅ Use subquery to filter\n",
    "SELECT * FROM (\n",
    "    SELECT *, ROW_NUMBER() OVER (...) AS rn\n",
    "    FROM table\n",
    ")\n",
    "WHERE rn = 1  -- Now we filter\n",
    "```\n",
    "\n",
    "### ❌ Gotcha 3: Confusing PARTITION BY with GROUP BY\n",
    "\n",
    "```sql\n",
    "-- GROUP BY: Collapses rows\n",
    "SELECT category, COUNT(*)\n",
    "FROM sales\n",
    "GROUP BY category  -- 3 rows output (one per category)\n",
    "\n",
    "-- PARTITION BY: Keeps rows\n",
    "SELECT *, COUNT(*) OVER (PARTITION BY category)\n",
    "FROM sales  -- 10,000 rows output (all rows kept)\n",
    "```\n",
    "\n",
    "### ❌ Gotcha 4: Frame Definition Errors\n",
    "\n",
    "```sql\n",
    "-- ❌ Wrong - can't have FOLLOWING before PRECEDING\n",
    "ROWS BETWEEN 5 FOLLOWING AND 1 PRECEDING\n",
    "\n",
    "-- ✅ Correct - start must come before end\n",
    "ROWS BETWEEN 1 PRECEDING AND 5 FOLLOWING\n",
    "```\n",
    "\n",
    "---"
   ]
  },
  {
   "cell_type": "markdown",
   "metadata": {},
   "source": [
    "## 11. Decision Guide: GROUP BY vs Windows\n",
    "\n",
    "### Use GROUP BY when:\n",
    "- ✅ You want **summary only** (total, average, count)\n",
    "- ✅ You don't need detail rows\n",
    "- ✅ Result: Fewer rows (one per group)\n",
    "- ✅ Example: \"What's our revenue per region?\"\n",
    "\n",
    "### Use Window Functions when:\n",
    "- ✅ You want **detail + calculation**\n",
    "- ✅ You need **ranking** (1st, 2nd, 3rd per group)\n",
    "- ✅ You need **row-to-row comparison** (this vs previous)\n",
    "- ✅ You need **running totals** or moving averages\n",
    "- ✅ You need to **filter after calculation** (\"top 3 per group\")\n",
    "- ✅ Result: Same row count as input\n",
    "- ✅ Example: \"Show all orders with each order's rank in its category\"\n",
    "\n",
    "### Quick Test:\n",
    "\n",
    "**Ask:** \"Do I need to see individual rows, or just summaries?\"\n",
    "- Just summaries → GROUP BY\n",
    "- Individual rows → Window functions\n",
    "\n",
    "---"
   ]
  },
  {
   "cell_type": "markdown",
   "metadata": {},
   "source": [
    "## 12. Preview: HW1\n",
    "\n",
    "In your homework, you'll apply these concepts to a **525,000 row dataset**!\n",
    "\n",
    "You'll use:\n",
    "1. **Basic queries** - SELECT, WHERE, ORDER BY\n",
    "2. **Aggregations** - GROUP BY, HAVING\n",
    "3. **Window functions** - ROW_NUMBER, LAG, moving averages\n",
    "\n",
    "**Tips for success:**\n",
    "1. Use `LIMIT` while developing queries\n",
    "2. Build incrementally (start simple, add complexity)\n",
    "3. Check for NULLs (use `IS NULL`, not `= NULL`)\n",
    "4. Remember: WHERE filters rows, HAVING filters groups\n",
    "5. For window functions, always check ORDER BY\n",
    "\n",
    "**Why 525K rows?** To show you SQL + DuckDB's power!\n",
    "- Aggregations on 525K rows: ~0.1 seconds\n",
    "- This is why we use SQL for data analysis\n",
    "\n",
    "---"
   ]
  },
  {
   "cell_type": "markdown",
   "metadata": {},
   "source": [
    "## Summary: What We Learned Today\n",
    "\n",
    "### Notebook 1: SQL Foundations\n",
    "- SELECT, WHERE, ORDER BY\n",
    "- NULL handling (IS NULL, not = NULL)\n",
    "- Calculated columns\n",
    "- Pattern matching with LIKE\n",
    "\n",
    "### Notebook 2: Aggregations\n",
    "- COUNT, SUM, AVG, MIN, MAX\n",
    "- GROUP BY (collapses rows)\n",
    "- HAVING (filter groups)\n",
    "- WHERE vs HAVING (critical difference!)\n",
    "\n",
    "### Notebook 3: Window Functions\n",
    "- Windows preserve rows, GROUP BY collapses\n",
    "- ROW_NUMBER() for latest per group\n",
    "- LAG()/LEAD() for row-to-row comparison\n",
    "- Moving averages with ROWS BETWEEN\n",
    "\n",
    "### Most Important Concepts\n",
    "\n",
    "1. **NULL handling:** Use `IS NULL`, never `= NULL`\n",
    "2. **WHERE vs HAVING:** Rows vs groups\n",
    "3. **Windows vs GROUP BY:** Preserve vs collapse\n",
    "4. **ORDER BY in windows:** Required when order matters\n",
    "\n",
    "**You're now ready for HW1!** 🎉\n",
    "\n",
    "---\n",
    "\n",
    "**Excellent work!** Window functions are advanced SQL - the fact that you understand them puts you ahead of many data analysts. Practice these patterns - you'll use them constantly in real work."
   ]
  }
 ],
 "metadata": {
  "kernelspec": {
   "display_name": "Python 3 (ipykernel)",
   "language": "python",
   "name": "python3"
  },
  "language_info": {
   "codemirror_mode": {
    "name": "ipython",
    "version": 3
   },
   "file_extension": ".py",
   "mimetype": "text/x-python",
   "name": "python",
   "nbconvert_exporter": "python",
   "pygments_lexer": "ipython3",
   "version": "3.12.9"
  }
 },
 "nbformat": 4,
 "nbformat_minor": 4
}
