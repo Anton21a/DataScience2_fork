{
 "cells": [
  {
   "cell_type": "markdown",
   "id": "44cd8aa2",
   "metadata": {},
   "source": [
    "# Day 2, Block A: SQL Joins & Relational Modeling\n",
    "\n",
    "**Duration:** 60 minutes  \n",
    "**Course:** ECBS5294 - Introduction to Data Science: Working with Data  \n",
    "**Instructor:** Eduardo Ariño de la Rubia\n",
    "\n",
    "---\n",
    "\n",
    "## Learning Objectives\n",
    "\n",
    "By the end of this session, you will be able to:\n",
    "\n",
    "1. **Explain** primary keys and foreign keys in relational databases\n",
    "2. **Read** basic ERDs (entity-relationship diagrams)\n",
    "3. **Write INNER JOIN queries** to combine matching records\n",
    "4. **Write LEFT JOIN queries** to keep all records from one table\n",
    "5. **Use CTEs** (Common Table Expressions) for readable multi-step queries\n",
    "6. **Recognize duplicate inflation** and avoid it\n",
    "7. **Aggregate correctly** after joins with proper GROUP BY\n",
    "8. **Combine** joins with window functions for advanced analytics\n",
    "\n",
    "---"
   ]
  },
  {
   "cell_type": "markdown",
   "id": "584471cf",
   "metadata": {},
   "source": [
    "## Part 1: Setup & Motivation (⏱️ 5 minutes)\n",
    "\n",
    "### Why Joins Matter\n",
    "\n",
    "> **\"When you connect tables, you're connecting different aspects of the business. Joins are how organizations answer complex questions.\"**\n",
    "\n",
    "**The Business Reality:**\n",
    "- Your data lives in **multiple tables**, not one giant spreadsheet\n",
    "- **Customers** place **orders**\n",
    "- **Orders** contain **products**\n",
    "- **Products** come from **sellers**\n",
    "- Customers leave **reviews** about orders\n",
    "\n",
    "**To answer business questions, you need to JOIN these tables together:**\n",
    "- \"Which products generate the most revenue?\" → Join orders + products\n",
    "- \"Which sellers have the best ratings?\" → Join sellers + reviews\n",
    "- \"What percentage of orders lack reviews?\" → Join orders + reviews (carefully!)\n",
    "\n",
    "**Today's dataset:** Brazilian e-commerce marketplace (Olist) with real customer, product, and seller data.\n",
    "\n",
    "---"
   ]
  },
  {
   "cell_type": "markdown",
   "id": "21b5624f",
   "metadata": {},
   "source": [
    "### Setup: Connect to DuckDB and Load Data"
   ]
  },
  {
   "cell_type": "code",
   "execution_count": null,
   "id": "02b5676f",
   "metadata": {
    "execution": {
     "iopub.execute_input": "2025-10-13T11:25:04.036294Z",
     "iopub.status.busy": "2025-10-13T11:25:04.036065Z",
     "iopub.status.idle": "2025-10-13T11:25:04.288497Z",
     "shell.execute_reply": "2025-10-13T11:25:04.287627Z"
    }
   },
   "outputs": [],
   "source": [
    "# Import libraries\n",
    "import duckdb\n",
    "import pandas as pd\n",
    "import warnings\n",
    "warnings.filterwarnings('ignore')\n",
    "\n",
    "# Connect to in-memory database\n",
    "con = duckdb.connect(':memory:')\n",
    "\n",
    "print(\"✅ Connected to DuckDB!\")\n",
    "print(f\"DuckDB version: {duckdb.__version__}\")"
   ]
  },
  {
   "cell_type": "markdown",
   "id": "3913f1d6",
   "metadata": {},
   "source": [
    "### Load Olist Tables\n",
    "\n",
    "We'll load the core tables we need for today's session:"
   ]
  },
  {
   "cell_type": "code",
   "execution_count": null,
   "id": "606fa2be",
   "metadata": {
    "execution": {
     "iopub.execute_input": "2025-10-13T11:25:04.290898Z",
     "iopub.status.busy": "2025-10-13T11:25:04.290688Z",
     "iopub.status.idle": "2025-10-13T11:25:04.554029Z",
     "shell.execute_reply": "2025-10-13T11:25:04.553790Z"
    }
   },
   "outputs": [],
   "source": [
    "# Load orders (fact table)\n",
    "con.execute(\"\"\"\n",
    "    CREATE TABLE orders AS\n",
    "    SELECT * FROM '../../data/day2/block_a/olist_orders_dataset.csv'\n",
    "\"\"\")\n",
    "\n",
    "# Load customers (dimension table)\n",
    "con.execute(\"\"\"\n",
    "    CREATE TABLE customers AS\n",
    "    SELECT * FROM '../../data/day2/block_a/olist_customers_dataset.csv'\n",
    "\"\"\")\n",
    "\n",
    "# Load order_items (fact table)\n",
    "con.execute(\"\"\"\n",
    "    CREATE TABLE order_items AS\n",
    "    SELECT * FROM '../../data/day2/block_a/olist_order_items_dataset.csv'\n",
    "\"\"\")\n",
    "\n",
    "# Load products (dimension table)\n",
    "con.execute(\"\"\"\n",
    "    CREATE TABLE products AS\n",
    "    SELECT * FROM '../../data/day2/block_a/olist_products_dataset.csv'\n",
    "\"\"\")\n",
    "\n",
    "# Load sellers (dimension table)\n",
    "con.execute(\"\"\"\n",
    "    CREATE TABLE sellers AS\n",
    "    SELECT * FROM '../../data/day2/block_a/olist_sellers_dataset.csv'\n",
    "\"\"\")\n",
    "\n",
    "# Load reviews (for LEFT JOIN examples)\n",
    "con.execute(\"\"\"\n",
    "    CREATE TABLE reviews AS\n",
    "    SELECT * FROM '../../data/day2/block_a/olist_order_reviews_dataset.csv'\n",
    "\"\"\")\n",
    "\n",
    "# Load category translation (for readable category names)\n",
    "con.execute(\"\"\"\n",
    "    CREATE TABLE categories AS\n",
    "    SELECT * FROM '../../data/day2/block_a/product_category_name_translation.csv'\n",
    "\"\"\")\n",
    "\n",
    "print(\"✅ All tables loaded successfully!\")"
   ]
  },
  {
   "cell_type": "markdown",
   "id": "1934b286",
   "metadata": {},
   "source": [
    "### Verify Table Sizes"
   ]
  },
  {
   "cell_type": "code",
   "execution_count": null,
   "id": "dab6d246",
   "metadata": {
    "execution": {
     "iopub.execute_input": "2025-10-13T11:25:04.555138Z",
     "iopub.status.busy": "2025-10-13T11:25:04.555068Z",
     "iopub.status.idle": "2025-10-13T11:25:04.559857Z",
     "shell.execute_reply": "2025-10-13T11:25:04.559671Z"
    }
   },
   "outputs": [],
   "source": [
    "# Check row counts\n",
    "con.execute(\"\"\"\n",
    "    SELECT 'orders' as table_name, COUNT(*) as row_count FROM orders\n",
    "    UNION ALL\n",
    "    SELECT 'customers', COUNT(*) FROM customers\n",
    "    UNION ALL\n",
    "    SELECT 'order_items', COUNT(*) FROM order_items\n",
    "    UNION ALL\n",
    "    SELECT 'products', COUNT(*) FROM products\n",
    "    UNION ALL\n",
    "    SELECT 'sellers', COUNT(*) FROM sellers\n",
    "    UNION ALL\n",
    "    SELECT 'reviews', COUNT(*) FROM reviews\n",
    "    ORDER BY row_count DESC\n",
    "\"\"\").df()"
   ]
  },
  {
   "cell_type": "markdown",
   "id": "17b05a47",
   "metadata": {},
   "source": [
    "**Key observations:**\n",
    "- **99,441 orders** and **99,441 customers** → One customer per order (by design)\n",
    "- **112,650 order_items** → More items than orders (some orders have multiple items!)\n",
    "- **32,951 products** → Large catalog\n",
    "- **3,095 sellers** → Multi-seller marketplace\n",
    "- **~100K reviews** → Most orders have reviews, but not all\n",
    "\n",
    "---"
   ]
  },
  {
   "cell_type": "code",
   "execution_count": null,
   "id": "24f1648f",
   "metadata": {
    "execution": {
     "iopub.execute_input": "2025-10-13T11:25:04.560822Z",
     "iopub.status.busy": "2025-10-13T11:25:04.560748Z",
     "iopub.status.idle": "2025-10-13T11:25:04.563341Z",
     "shell.execute_reply": "2025-10-13T11:25:04.563182Z"
    }
   },
   "outputs": [],
   "source": [
    "# Verify join key types match across tables\n",
    "con.execute(\"\"\"\n",
    "    SELECT \n",
    "        'orders.customer_id' as column_name,\n",
    "        typeof((SELECT customer_id FROM orders LIMIT 1)) as data_type\n",
    "    UNION ALL\n",
    "    SELECT \n",
    "        'customers.customer_id',\n",
    "        typeof((SELECT customer_id FROM customers LIMIT 1))\n",
    "    UNION ALL\n",
    "    SELECT \n",
    "        'orders.order_id',\n",
    "        typeof((SELECT order_id FROM orders LIMIT 1))\n",
    "    UNION ALL\n",
    "    SELECT \n",
    "        'order_items.order_id',\n",
    "        typeof((SELECT order_id FROM order_items LIMIT 1))\n",
    "\"\"\").df()"
   ]
  },
  {
   "cell_type": "markdown",
   "id": "aa8bb605",
   "metadata": {},
   "source": [
    "**Perfect!** All join keys have matching types (VARCHAR). If types didn't match (e.g., one table had INTEGER and another had VARCHAR), joins would fail with type errors.\n",
    "\n",
    "**This is why you always check types before joining tables.**\n",
    "\n",
    "---"
   ]
  },
  {
   "cell_type": "markdown",
   "id": "e63aa6be",
   "metadata": {},
   "source": [
    "**Key observations:**\n",
    "- ✅ `order_id` and `customer_id` are **VARCHAR** (strings) - These are hash-based IDs, not sequential numbers!\n",
    "- ✅ Timestamps correctly inferred as **TIMESTAMP** (not text!)\n",
    "- ✅ Status is **VARCHAR** (categorical text)\n",
    "\n",
    "**Why are IDs strings?** Modern systems often use UUIDs or hash-based IDs (like `e481f51cbdc54678b7cc49136f2d6af7`) instead of auto-incrementing integers. This prevents:\n",
    "- Exposing business metrics (e.g., \"we have exactly 100,000 orders\")\n",
    "- ID conflicts when merging databases\n",
    "- Security issues from predictable IDs\n",
    "\n",
    "**Pro tip:** In production, you'd explicitly specify types in `CREATE TABLE`. But DuckDB's inference is quite good - just always verify!\n",
    "\n",
    "**Now let's verify that join keys have matching types across tables:**"
   ]
  },
  {
   "cell_type": "code",
   "execution_count": null,
   "id": "7df2c72c",
   "metadata": {
    "execution": {
     "iopub.execute_input": "2025-10-13T11:25:04.564334Z",
     "iopub.status.busy": "2025-10-13T11:25:04.564282Z",
     "iopub.status.idle": "2025-10-13T11:25:04.567090Z",
     "shell.execute_reply": "2025-10-13T11:25:04.566921Z"
    }
   },
   "outputs": [],
   "source": [
    "# Check inferred types for orders table\n",
    "con.execute(\"DESCRIBE orders\").df()"
   ]
  },
  {
   "cell_type": "markdown",
   "id": "efc42b85",
   "metadata": {},
   "source": [
    "### Verify Data Types\n",
    "\n",
    "**Always check what types were inferred!**\n",
    "\n",
    "DuckDB automatically infers column types from CSV files. Let's verify it understood our data correctly by looking at the full table structure:"
   ]
  },
  {
   "cell_type": "markdown",
   "id": "d273474a",
   "metadata": {
    "jp-MarkdownHeadingCollapsed": true
   },
   "source": [
    "### Understanding the Schema: ERD (Entity-Relationship Diagram)\n",
    "\n",
    "```\n",
    "┌─────────────────┐\n",
    "│   customers     │\n",
    "│  (99,441)       │\n",
    "│                 │\n",
    "│ customer_id (PK)│───┐\n",
    "└─────────────────┘   │\n",
    "                      │\n",
    "                      │\n",
    "┌─────────────────┐   │    ┌──────────────────┐\n",
    "│   orders        │   │    │  order_items     │\n",
    "│  (99,441)       │   │    │  (112,650)       │\n",
    "│                 │   │    │                  │\n",
    "│ order_id (PK)   │◄──┼────│ order_id (FK)    │\n",
    "│ customer_id(FK) │◄──┘    │ product_id (FK)  │───┐\n",
    "└─────────────────┘        │ seller_id (FK)   │───┼───┐\n",
    "       ▲                   └──────────────────┘   │   │\n",
    "       │                                          │   │\n",
    "       │                   ┌──────────────────┐   │   │\n",
    "       │                   │   products       │   │   │\n",
    "       │                   │  (32,951)        │   │   │\n",
    "       │                   │                  │   │   │\n",
    "       │                   │ product_id (PK)  │◄──┘   │\n",
    "       │                   └──────────────────┘       │\n",
    "       │                                              │\n",
    "       │                   ┌──────────────────┐       │\n",
    "       │                   │   sellers        │       │\n",
    "       │                   │  (3,095)         │       │\n",
    "       │                   │                  │       │\n",
    "       │                   │ seller_id (PK)   │◄──────┘\n",
    "       │                   └──────────────────┘\n",
    "       │\n",
    "       │\n",
    "┌──────▼──────────┐\n",
    "│   reviews       │\n",
    "│  (~100K)        │\n",
    "│                 │\n",
    "│ order_id (FK)   │\n",
    "└─────────────────┘\n",
    "```\n",
    "\n",
    "**Key concepts:**\n",
    "- **PK (Primary Key):** Uniquely identifies each row in a table\n",
    "- **FK (Foreign Key):** Points to a primary key in another table (creates the relationship)\n",
    "- **One-to-many:** One customer → many orders, one order → many items\n",
    "\n",
    "---"
   ]
  },
  {
   "cell_type": "markdown",
   "id": "e94a9885",
   "metadata": {},
   "source": [
    "### Primary Keys vs Foreign Keys\n",
    "\n",
    "> **Primary Key (PK):** \"This column uniquely identifies each row in THIS table\"\n",
    "> \n",
    "> **Foreign Key (FK):** \"This column points to a primary key in ANOTHER table\"\n",
    "\n",
    "**Example:**\n",
    "- `orders.order_id` is a **primary key** (each order has unique ID)\n",
    "- `orders.customer_id` is a **foreign key** (points to `customers.customer_id`)\n",
    "- `order_items.order_id` is a **foreign key** (points to `orders.order_id`)\n",
    "\n",
    "**Why this matters:**\n",
    "- Foreign keys tell you **how to join tables**\n",
    "- Join condition: `orders.customer_id = customers.customer_id`\n",
    "- This creates the \"connection\" between tables\n",
    "\n",
    "Let's explore the data before joining:"
   ]
  },
  {
   "cell_type": "code",
   "execution_count": null,
   "id": "3e7743c0",
   "metadata": {
    "execution": {
     "iopub.execute_input": "2025-10-13T11:25:04.568104Z",
     "iopub.status.busy": "2025-10-13T11:25:04.568044Z",
     "iopub.status.idle": "2025-10-13T11:25:04.570695Z",
     "shell.execute_reply": "2025-10-13T11:25:04.570530Z"
    }
   },
   "outputs": [],
   "source": [
    "# Look at orders table\n",
    "con.execute(\"\"\"\n",
    "    SELECT \n",
    "        order_id,\n",
    "        customer_id,\n",
    "        order_status,\n",
    "        order_purchase_timestamp\n",
    "    FROM orders\n",
    "    LIMIT 5\n",
    "\"\"\").df()"
   ]
  },
  {
   "cell_type": "code",
   "execution_count": null,
   "id": "12aacc88",
   "metadata": {
    "execution": {
     "iopub.execute_input": "2025-10-13T11:25:04.571594Z",
     "iopub.status.busy": "2025-10-13T11:25:04.571538Z",
     "iopub.status.idle": "2025-10-13T11:25:04.573918Z",
     "shell.execute_reply": "2025-10-13T11:25:04.573728Z"
    }
   },
   "outputs": [],
   "source": [
    "# Look at customers table\n",
    "con.execute(\"\"\"\n",
    "    SELECT \n",
    "        customer_id,\n",
    "        customer_city,\n",
    "        customer_state\n",
    "    FROM customers\n",
    "    LIMIT 5\n",
    "\"\"\").df()"
   ]
  },
  {
   "cell_type": "markdown",
   "id": "75456533",
   "metadata": {},
   "source": [
    "**Notice:** `customer_id` appears in BOTH tables. That's our join key!\n",
    "\n",
    "---"
   ]
  },
  {
   "cell_type": "markdown",
   "id": "cb75650a",
   "metadata": {},
   "source": [
    "## Part 2: The Core - Join Types (⏱️ 27 minutes)\n",
    "\n",
    "### INNER JOIN: Only Matching Records (⏱️ 12 minutes)\n",
    "\n",
    "> **INNER JOIN returns rows that have matches in BOTH tables**\n",
    "\n",
    "![INNER JOIN Venn Diagram](../../references/images/inner_join.svg)\n",
    "\n",
    "**Business use case:** \"Show me orders WITH customer details (only completed matches)\"\n",
    "\n",
    "---\n"
   ]
  },
  {
   "cell_type": "markdown",
   "id": "d58192de",
   "metadata": {},
   "source": [
    "### Example 1: Basic INNER JOIN\n",
    "\n",
    "**Business question:** \"Show me orders with customer location information\"\n",
    "\n",
    "**Query structure:**\n",
    "```sql\n",
    "SELECT columns\n",
    "FROM table1\n",
    "INNER JOIN table2 ON table1.key = table2.key\n",
    "```"
   ]
  },
  {
   "cell_type": "code",
   "execution_count": null,
   "id": "a1fd5de5",
   "metadata": {
    "execution": {
     "iopub.execute_input": "2025-10-13T11:25:04.574902Z",
     "iopub.status.busy": "2025-10-13T11:25:04.574845Z",
     "iopub.status.idle": "2025-10-13T11:25:04.581851Z",
     "shell.execute_reply": "2025-10-13T11:25:04.581664Z"
    }
   },
   "outputs": [],
   "source": [
    "# Join orders with customers\n",
    "con.execute(\"\"\"\n",
    "    SELECT \n",
    "        o.order_id,\n",
    "        o.order_status,\n",
    "        o.order_purchase_timestamp,\n",
    "        c.customer_city,\n",
    "        c.customer_state\n",
    "    FROM orders o\n",
    "    INNER JOIN customers c ON o.customer_id = c.customer_id\n",
    "    LIMIT 10\n",
    "\"\"\").df()"
   ]
  },
  {
   "cell_type": "markdown",
   "id": "10e61e80",
   "metadata": {},
   "source": [
    "**What happened:**\n",
    "1. DuckDB looked at each `order_id` in the `orders` table\n",
    "2. Found the matching `customer_id` in the `customers` table\n",
    "3. Combined columns from both tables into one result\n",
    "4. **Only returned rows where a match existed**\n",
    "\n",
    "**Table aliases:** `o` and `c` are shorthand for `orders` and `customers` (makes queries readable)\n",
    "\n",
    "---"
   ]
  },
  {
   "cell_type": "markdown",
   "id": "36297e1e",
   "metadata": {},
   "source": [
    "### Example 2: INNER JOIN with Aggregation\n",
    "\n",
    "**Business question:** \"How many orders came from each state?\""
   ]
  },
  {
   "cell_type": "code",
   "execution_count": null,
   "id": "ac712123",
   "metadata": {
    "execution": {
     "iopub.execute_input": "2025-10-13T11:25:04.582840Z",
     "iopub.status.busy": "2025-10-13T11:25:04.582772Z",
     "iopub.status.idle": "2025-10-13T11:25:04.590472Z",
     "shell.execute_reply": "2025-10-13T11:25:04.590282Z"
    }
   },
   "outputs": [],
   "source": [
    "# Count orders by customer state\n",
    "con.execute(\"\"\"\n",
    "    SELECT \n",
    "        c.customer_state,\n",
    "        COUNT(o.order_id) AS order_count\n",
    "    FROM orders o\n",
    "    INNER JOIN customers c ON o.customer_id = c.customer_id\n",
    "    GROUP BY c.customer_state\n",
    "    ORDER BY order_count DESC\n",
    "    LIMIT 10\n",
    "\"\"\").df()"
   ]
  },
  {
   "cell_type": "markdown",
   "id": "000dc255",
   "metadata": {},
   "source": [
    "**Insight:** São Paulo (SP) dominates with the most orders. This is Brazil's economic center.\n",
    "\n",
    "---"
   ]
  },
  {
   "cell_type": "markdown",
   "id": "1555f1a9",
   "metadata": {},
   "source": [
    "### Example 3: Multi-table INNER JOIN\n",
    "\n",
    "**Business question:** \"Show me revenue by product category (in English)\"\n",
    "\n",
    "This requires joining **three tables:**\n",
    "1. `order_items` (has price and product_id)\n",
    "2. `products` (has category name in Portuguese)\n",
    "3. `categories` (translates category to English)"
   ]
  },
  {
   "cell_type": "code",
   "execution_count": null,
   "id": "abf0dd62",
   "metadata": {
    "execution": {
     "iopub.execute_input": "2025-10-13T11:25:04.591447Z",
     "iopub.status.busy": "2025-10-13T11:25:04.591389Z",
     "iopub.status.idle": "2025-10-13T11:25:04.609314Z",
     "shell.execute_reply": "2025-10-13T11:25:04.609022Z"
    }
   },
   "outputs": [],
   "source": [
    "# Revenue by category (multi-table join)\n",
    "con.execute(\"\"\"\n",
    "    SELECT \n",
    "        cat.product_category_name_english AS category,\n",
    "        COUNT(DISTINCT oi.order_id) AS num_orders,\n",
    "        SUM(oi.price) AS total_revenue,\n",
    "        ROUND(AVG(oi.price), 2) AS avg_item_price\n",
    "    FROM order_items oi\n",
    "    INNER JOIN products p ON oi.product_id = p.product_id\n",
    "    INNER JOIN categories cat ON p.product_category_name = cat.product_category_name\n",
    "    GROUP BY cat.product_category_name_english\n",
    "    ORDER BY total_revenue DESC\n",
    "    LIMIT 10\n",
    "\"\"\").df()"
   ]
  },
  {
   "cell_type": "markdown",
   "id": "989e42ac",
   "metadata": {},
   "source": [
    "**What happened:**\n",
    "1. First join: `order_items` → `products` (via `product_id`)\n",
    "2. Second join: `products` → `categories` (via `product_category_name`)\n",
    "3. Aggregated: SUM(price) to get total revenue per category\n",
    "\n",
    "**Business insight:** Health & beauty, watches, and bed/bath products are top revenue generators.\n",
    "\n",
    "---"
   ]
  },
  {
   "cell_type": "markdown",
   "id": "6b2fde58",
   "metadata": {},
   "source": [
    "### Example 4: The Implicit INNER JOIN\n",
    "\n",
    "**Important note:** The keyword `INNER` is optional. `JOIN` alone defaults to `INNER JOIN`.\n",
    "\n",
    "These two queries are **identical:**"
   ]
  },
  {
   "cell_type": "code",
   "execution_count": null,
   "id": "143063d0",
   "metadata": {
    "execution": {
     "iopub.execute_input": "2025-10-13T11:25:04.610389Z",
     "iopub.status.busy": "2025-10-13T11:25:04.610318Z",
     "iopub.status.idle": "2025-10-13T11:25:04.619692Z",
     "shell.execute_reply": "2025-10-13T11:25:04.619457Z"
    }
   },
   "outputs": [],
   "source": [
    "# Explicit INNER JOIN\n",
    "result1 = con.execute(\"\"\"\n",
    "    SELECT COUNT(*) as count\n",
    "    FROM orders o\n",
    "    INNER JOIN customers c ON o.customer_id = c.customer_id\n",
    "\"\"\").df()\n",
    "\n",
    "# Implicit INNER JOIN (just \"JOIN\")\n",
    "result2 = con.execute(\"\"\"\n",
    "    SELECT COUNT(*) as count\n",
    "    FROM orders o\n",
    "    JOIN customers c ON o.customer_id = c.customer_id\n",
    "\"\"\").df()\n",
    "\n",
    "print(f\"Explicit INNER JOIN: {result1['count'][0]:,} rows\")\n",
    "print(f\"Implicit INNER JOIN: {result2['count'][0]:,} rows\")\n",
    "print(\"\\n✅ Both return the same results!\")"
   ]
  },
  {
   "cell_type": "markdown",
   "id": "980a06b3",
   "metadata": {},
   "source": [
    "**Best practice:** Be explicit in your code. Write `INNER JOIN` so readers know your intent.\n",
    "\n",
    "---"
   ]
  },
  {
   "cell_type": "markdown",
   "id": "0df86b9c",
   "metadata": {},
   "source": [
    "### LEFT JOIN: Keep All Records from Left Table (⏱️ 10 minutes)\n",
    "\n",
    "> **LEFT JOIN returns ALL rows from the left table, with matches from the right table (or NULL if no match)**\n",
    "\n",
    "![LEFT JOIN Venn Diagram](../../references/images/left_join.svg)\n",
    "\n",
    "**Business use case:** \"Show me ALL orders, even if they don't have reviews\"\n",
    "\n",
    "---\n"
   ]
  },
  {
   "cell_type": "markdown",
   "id": "e1fde564",
   "metadata": {},
   "source": [
    "### Example 5: Basic LEFT JOIN\n",
    "\n",
    "**Business question:** \"Show me all orders with their review scores (if they have one)\""
   ]
  },
  {
   "cell_type": "code",
   "execution_count": null,
   "id": "20a36df6",
   "metadata": {
    "execution": {
     "iopub.execute_input": "2025-10-13T11:25:04.620808Z",
     "iopub.status.busy": "2025-10-13T11:25:04.620744Z",
     "iopub.status.idle": "2025-10-13T11:25:04.632743Z",
     "shell.execute_reply": "2025-10-13T11:25:04.632548Z"
    }
   },
   "outputs": [],
   "source": [
    "# Demonstrate LEFT JOIN: Showing both matched and unmatched rows\n",
    "\n",
    "print(\"=\" * 70)\n",
    "print(\"Example A: Orders WITHOUT reviews (LEFT JOIN shows NULLs)\")\n",
    "print(\"=\" * 70)\n",
    "\n",
    "without_reviews = con.execute(\"\"\"\n",
    "    SELECT \n",
    "        o.order_id,\n",
    "        o.order_status,\n",
    "        r.review_score,\n",
    "        r.review_id\n",
    "    FROM orders o\n",
    "    LEFT JOIN reviews r ON o.order_id = r.order_id\n",
    "    WHERE r.review_id IS NULL\n",
    "    LIMIT 5\n",
    "\"\"\").df()\n",
    "\n",
    "print(without_reviews.to_string(index=False))\n",
    "\n",
    "print(\"\\n\" + \"=\" * 70)\n",
    "print(\"Example B: Orders WITH reviews (LEFT JOIN shows matches)\")\n",
    "print(\"=\" * 70)\n",
    "\n",
    "with_reviews = con.execute(\"\"\"\n",
    "    SELECT \n",
    "        o.order_id,\n",
    "        o.order_status,\n",
    "        r.review_score,\n",
    "        r.review_id\n",
    "    FROM orders o\n",
    "    LEFT JOIN reviews r ON o.order_id = r.order_id\n",
    "    WHERE r.review_id IS NOT NULL\n",
    "    LIMIT 5\n",
    "\"\"\").df()\n",
    "\n",
    "print(with_reviews.to_string(index=False))\n",
    "\n",
    "print(\"\\n✅ Key point: LEFT JOIN keeps ALL orders from the left table.\")\n",
    "print(\"   When no review exists, review columns show NULL (displayed as NaN).\")"
   ]
  },
  {
   "cell_type": "markdown",
   "id": "88e96410",
   "metadata": {},
   "source": [
    "**What happened:**\n",
    "\n",
    "**Example A (orders WITHOUT reviews):**\n",
    "- `review_score` and `review_id` are **NULL** (shown as `NaN` in pandas)\n",
    "- LEFT JOIN kept the order even though no matching review exists\n",
    "- This is the key difference from INNER JOIN (which would drop these rows)\n",
    "\n",
    "**Example B (orders WITH reviews):**\n",
    "- All columns are populated with real data\n",
    "- LEFT JOIN found matches in the reviews table\n",
    "\n",
    "**Why we filtered:** \n",
    "Only 0.77% of orders lack reviews in this dataset, so a random sample rarely shows NULLs. We filtered explicitly (WHERE IS NULL / IS NOT NULL) to demonstrate both cases clearly.\n",
    "\n",
    "**In practice:** You'd use LEFT JOIN without filtering to get ALL orders (both with and without reviews), then handle NULLs appropriately in your analysis.\n",
    "\n",
    "---"
   ]
  },
  {
   "cell_type": "markdown",
   "id": "89e36106",
   "metadata": {},
   "source": [
    "### Example 6: The Anti-Join Pattern (Finding Unmatched Records)\n",
    "\n",
    "**Business question:** \"Which orders DON'T have reviews yet?\"\n",
    "\n",
    "**Strategy:** LEFT JOIN + filter for NULLs in the right table"
   ]
  },
  {
   "cell_type": "code",
   "execution_count": null,
   "id": "183e38b4",
   "metadata": {
    "execution": {
     "iopub.execute_input": "2025-10-13T11:25:04.633782Z",
     "iopub.status.busy": "2025-10-13T11:25:04.633717Z",
     "iopub.status.idle": "2025-10-13T11:25:04.640801Z",
     "shell.execute_reply": "2025-10-13T11:25:04.640600Z"
    }
   },
   "outputs": [],
   "source": [
    "# Find orders without reviews (anti-join pattern)\n",
    "con.execute(\"\"\"\n",
    "    SELECT \n",
    "        o.order_id,\n",
    "        o.order_status,\n",
    "        o.order_purchase_timestamp\n",
    "    FROM orders o\n",
    "    LEFT JOIN reviews r ON o.order_id = r.order_id\n",
    "    WHERE r.review_id IS NULL\n",
    "    LIMIT 10\n",
    "\"\"\").df()"
   ]
  },
  {
   "cell_type": "markdown",
   "id": "f78066f3",
   "metadata": {},
   "source": [
    "**How it works:**\n",
    "1. LEFT JOIN keeps all orders\n",
    "2. Orders without reviews have `NULL` for `r.review_id`\n",
    "3. `WHERE r.review_id IS NULL` filters to only unmatched orders\n",
    "\n",
    "**Business insight:** These are orders that need follow-up for customer feedback!\n",
    "\n",
    "Let's see how many:"
   ]
  },
  {
   "cell_type": "code",
   "execution_count": null,
   "id": "1ecf4ed9",
   "metadata": {
    "execution": {
     "iopub.execute_input": "2025-10-13T11:25:04.641819Z",
     "iopub.status.busy": "2025-10-13T11:25:04.641750Z",
     "iopub.status.idle": "2025-10-13T11:25:04.648590Z",
     "shell.execute_reply": "2025-10-13T11:25:04.648403Z"
    }
   },
   "outputs": [],
   "source": [
    "# Count unreviewed orders\n",
    "con.execute(\"\"\"\n",
    "    SELECT \n",
    "        COUNT(*) AS unreviewed_orders,\n",
    "        ROUND(100.0 * COUNT(*) / (SELECT COUNT(*) FROM orders), 2) AS pct_unreviewed\n",
    "    FROM orders o\n",
    "    LEFT JOIN reviews r ON o.order_id = r.order_id\n",
    "    WHERE r.review_id IS NULL\n",
    "\"\"\").df()"
   ]
  },
  {
   "cell_type": "markdown",
   "id": "9eb95766",
   "metadata": {},
   "source": [
    "**Result:** About 0.77% of orders lack reviews. This is valuable data quality insight!\n",
    "\n",
    "---"
   ]
  },
  {
   "cell_type": "markdown",
   "id": "3f57121d",
   "metadata": {},
   "source": [
    "### Example 7: LEFT JOIN with Aggregation\n",
    "\n",
    "**Business question:** \"Show me average review score by order status (including orders without reviews)\""
   ]
  },
  {
   "cell_type": "code",
   "execution_count": null,
   "id": "63de882f",
   "metadata": {
    "execution": {
     "iopub.execute_input": "2025-10-13T11:25:04.649528Z",
     "iopub.status.busy": "2025-10-13T11:25:04.649479Z",
     "iopub.status.idle": "2025-10-13T11:25:04.663231Z",
     "shell.execute_reply": "2025-10-13T11:25:04.663015Z"
    }
   },
   "outputs": [],
   "source": [
    "# Average review score by order status\n",
    "con.execute(\"\"\"\n",
    "    SELECT \n",
    "        o.order_status,\n",
    "        COUNT(DISTINCT o.order_id) AS total_orders,\n",
    "        COUNT(r.review_id) AS reviewed_orders,\n",
    "        ROUND(AVG(r.review_score), 2) AS avg_review_score\n",
    "    FROM orders o\n",
    "    LEFT JOIN reviews r ON o.order_id = r.order_id\n",
    "    GROUP BY o.order_status\n",
    "    ORDER BY total_orders DESC\n",
    "\"\"\").df()"
   ]
  },
  {
   "cell_type": "markdown",
   "id": "5afb00a1",
   "metadata": {},
   "source": [
    "**Key observations:**\n",
    "- `COUNT(DISTINCT o.order_id)` counts all orders (including those without reviews)\n",
    "- `COUNT(r.review_id)` only counts orders WITH reviews (NULL excluded automatically)\n",
    "- `AVG(r.review_score)` automatically excludes NULLs\n",
    "\n",
    "**Business insight:** Delivered orders have excellent ratings (~4.1 stars), but many orders are still in process or canceled.\n",
    "\n",
    "---"
   ]
  },
  {
   "cell_type": "markdown",
   "id": "26019aa6",
   "metadata": {},
   "source": [
    "### RIGHT JOIN and FULL JOIN: Quick Mention (⏱️ 2 minutes)\n",
    "\n",
    "### RIGHT JOIN\n",
    "\n",
    "> **RIGHT JOIN is just a LEFT JOIN with tables flipped**\n",
    "\n",
    "```sql\n",
    "-- These are equivalent:\n",
    "SELECT * FROM orders o RIGHT JOIN customers c ON o.customer_id = c.customer_id\n",
    "SELECT * FROM customers c LEFT JOIN orders o ON c.customer_id = o.customer_id\n",
    "```\n",
    "\n",
    "**Industry reality:** RIGHT JOIN is rarely used. People just flip the table order and use LEFT JOIN instead.\n",
    "\n",
    "**Our dataset:** No natural RIGHT JOIN examples (all products have orders, all sellers have sales).\n",
    "\n",
    "---\n",
    "\n",
    "### FULL OUTER JOIN\n",
    "\n",
    "> **FULL OUTER JOIN returns ALL rows from BOTH tables, with NULLs where no match exists**\n",
    "\n",
    "```sql\n",
    "-- Keep everything from both tables\n",
    "SELECT * FROM orders o FULL OUTER JOIN reviews r ON o.order_id = r.order_id\n",
    "```\n",
    "\n",
    "**When you'd use this:** Rare! Typically when reconciling two sources and want to see what's in A but not B, and what's in B but not A.\n",
    "\n",
    "**Business example:** Comparing two inventory systems to find discrepancies.\n",
    "\n",
    "**For today:** Focus on INNER and LEFT—they cover 95% of real-world use cases.\n",
    "\n",
    "---"
   ]
  },
  {
   "cell_type": "markdown",
   "id": "839a8769",
   "metadata": {},
   "source": [
    "## Part 3: Modern SQL Pattern - CTEs (⏱️ 6 minutes)\n",
    "\n",
    "### Common Table Expressions (WITH clause)\n",
    "\n",
    "> **CTEs let you break complex queries into readable, named steps**\n",
    "\n",
    "**The problem:** Nested subqueries are hard to read and debug.\n",
    "\n",
    "**The solution:** CTEs (\"WITH\" clause) - temporary named result sets.\n",
    "\n",
    "**Think of it as:** \"First, calculate this intermediate result and give it a name. Then use it.\"\n",
    "\n",
    "---"
   ]
  },
  {
   "cell_type": "markdown",
   "id": "202f1edf",
   "metadata": {},
   "source": [
    "### Example 8: CTE for Multi-Step Analysis\n",
    "\n",
    "**Business question:** \"Show me sellers with total revenue > $10,000\"\n",
    "\n",
    "**Without CTE (messy nested query):**"
   ]
  },
  {
   "cell_type": "code",
   "execution_count": null,
   "id": "bebe0ce6",
   "metadata": {
    "execution": {
     "iopub.execute_input": "2025-10-13T11:25:04.664339Z",
     "iopub.status.busy": "2025-10-13T11:25:04.664277Z",
     "iopub.status.idle": "2025-10-13T11:25:04.670206Z",
     "shell.execute_reply": "2025-10-13T11:25:04.670025Z"
    }
   },
   "outputs": [],
   "source": [
    "# Without CTE - harder to read\n",
    "con.execute(\"\"\"\n",
    "    SELECT *\n",
    "    FROM (\n",
    "        SELECT \n",
    "            s.seller_id,\n",
    "            s.seller_state,\n",
    "            SUM(oi.price) AS total_revenue\n",
    "        FROM order_items oi\n",
    "        INNER JOIN sellers s ON oi.seller_id = s.seller_id\n",
    "        GROUP BY s.seller_id, s.seller_state\n",
    "    ) AS seller_revenue\n",
    "    WHERE total_revenue > 10000\n",
    "    ORDER BY total_revenue DESC\n",
    "    LIMIT 10\n",
    "\"\"\").df()"
   ]
  },
  {
   "cell_type": "markdown",
   "id": "03675510",
   "metadata": {},
   "source": [
    "**With CTE (much cleaner):**"
   ]
  },
  {
   "cell_type": "code",
   "execution_count": null,
   "id": "05aae9ec",
   "metadata": {
    "execution": {
     "iopub.execute_input": "2025-10-13T11:25:04.671121Z",
     "iopub.status.busy": "2025-10-13T11:25:04.671061Z",
     "iopub.status.idle": "2025-10-13T11:25:04.676930Z",
     "shell.execute_reply": "2025-10-13T11:25:04.676754Z"
    }
   },
   "outputs": [],
   "source": [
    "# With CTE - clear two-step logic\n",
    "con.execute(\"\"\"\n",
    "    WITH seller_revenue AS (\n",
    "        SELECT \n",
    "            s.seller_id,\n",
    "            s.seller_state,\n",
    "            SUM(oi.price) AS total_revenue\n",
    "        FROM order_items oi\n",
    "        INNER JOIN sellers s ON oi.seller_id = s.seller_id\n",
    "        GROUP BY s.seller_id, s.seller_state\n",
    "    )\n",
    "    SELECT *\n",
    "    FROM seller_revenue\n",
    "    WHERE total_revenue > 10000\n",
    "    ORDER BY total_revenue DESC\n",
    "    LIMIT 10\n",
    "\"\"\").df()"
   ]
  },
  {
   "cell_type": "markdown",
   "id": "e782373c",
   "metadata": {},
   "source": [
    "**What happened:**\n",
    "1. **Step 1 (WITH clause):** Calculate revenue per seller → name it `seller_revenue`\n",
    "2. **Step 2 (main query):** Filter `seller_revenue` for high earners\n",
    "\n",
    "**Why this is better:**\n",
    "- ✅ Reads top-to-bottom (like a recipe)\n",
    "- ✅ Each step is clearly named\n",
    "- ✅ Easier to debug (test each CTE separately)\n",
    "- ✅ Can chain multiple CTEs\n",
    "\n",
    "**This is how professionals write SQL.** Use CTEs for complex queries!\n",
    "\n",
    "---"
   ]
  },
  {
   "cell_type": "markdown",
   "id": "705e3a4b",
   "metadata": {},
   "source": [
    "### Example 9: Multiple CTEs\n",
    "\n",
    "**Business question:** \"Compare seller performance in São Paulo vs other states\"\n",
    "\n",
    "You can chain multiple CTEs:"
   ]
  },
  {
   "cell_type": "code",
   "execution_count": null,
   "id": "5503efc5",
   "metadata": {
    "execution": {
     "iopub.execute_input": "2025-10-13T11:25:04.677919Z",
     "iopub.status.busy": "2025-10-13T11:25:04.677865Z",
     "iopub.status.idle": "2025-10-13T11:25:04.684035Z",
     "shell.execute_reply": "2025-10-13T11:25:04.683849Z"
    }
   },
   "outputs": [],
   "source": [
    "# Multiple CTEs - building up complexity\n",
    "con.execute(\"\"\"\n",
    "    WITH seller_revenue AS (\n",
    "        -- Step 1: Calculate revenue per seller\n",
    "        SELECT \n",
    "            s.seller_id,\n",
    "            s.seller_state,\n",
    "            SUM(oi.price) AS total_revenue\n",
    "        FROM order_items oi\n",
    "        INNER JOIN sellers s ON oi.seller_id = s.seller_id\n",
    "        GROUP BY s.seller_id, s.seller_state\n",
    "    ),\n",
    "    state_summary AS (\n",
    "        -- Step 2: Aggregate by state\n",
    "        SELECT \n",
    "            seller_state,\n",
    "            COUNT(*) AS num_sellers,\n",
    "            ROUND(AVG(total_revenue), 2) AS avg_revenue_per_seller,\n",
    "            ROUND(SUM(total_revenue), 2) AS total_state_revenue\n",
    "        FROM seller_revenue\n",
    "        GROUP BY seller_state\n",
    "    )\n",
    "    -- Step 3: Compare SP to others\n",
    "    SELECT \n",
    "        CASE \n",
    "            WHEN seller_state = 'SP' THEN 'São Paulo'\n",
    "            ELSE 'Other States'\n",
    "        END AS region,\n",
    "        SUM(num_sellers) AS total_sellers,\n",
    "        ROUND(AVG(avg_revenue_per_seller), 2) AS avg_revenue\n",
    "    FROM state_summary\n",
    "    GROUP BY region\n",
    "    ORDER BY avg_revenue DESC\n",
    "\"\"\").df()"
   ]
  },
  {
   "cell_type": "markdown",
   "id": "3468ab21",
   "metadata": {},
   "source": [
    "**Three clear steps:**\n",
    "1. Calculate seller-level revenue\n",
    "2. Aggregate to state level\n",
    "3. Compare SP vs others\n",
    "\n",
    "**Business insight:** São Paulo sellers perform similarly to sellers in other states on average.\n",
    "\n",
    "---"
   ]
  },
  {
   "cell_type": "markdown",
   "id": "78f1f396",
   "metadata": {},
   "source": [
    "## 🛑 BREAK POINT - Questions?\n",
    "\n",
    "**So far we've covered:**\n",
    "- ✅ ERDs and PK/FK relationships\n",
    "- ✅ INNER JOIN (matching records only)\n",
    "- ✅ LEFT JOIN (all from left table)\n",
    "- ✅ Anti-join pattern (finding unmatched records)\n",
    "- ✅ CTEs for readable multi-step queries\n",
    "\n",
    "**Next up:**\n",
    "- ⚠️ The dangers: duplicate inflation and aggregation mistakes\n",
    "- 🎯 The grand finale: putting it all together with window functions\n",
    "\n",
    "---\n",
    "\n",
    "**Take a moment to ask questions before we continue!**\n",
    "\n",
    "---"
   ]
  },
  {
   "cell_type": "markdown",
   "id": "a0eda882",
   "metadata": {},
   "source": [
    "## Part 4: The Dangers (⏱️ 12 minutes)\n",
    "\n",
    "### Duplicate Inflation: The Silent Killer (⏱️ 7 minutes)\n",
    "\n",
    "> **⚠️ WARNING: Joins can multiply your rows if you're not careful!**\n",
    "\n",
    "**The problem:** When you join tables with one-to-many relationships, rows get duplicated.\n",
    "\n",
    "**Why this matters:** \n",
    "- Your counts will be WRONG\n",
    "- Your aggregations will be WRONG\n",
    "- You'll report incorrect business metrics\n",
    "\n",
    "**This is the #1 mistake beginners make with joins.**\n",
    "\n",
    "---"
   ]
  },
  {
   "cell_type": "markdown",
   "id": "e033732c",
   "metadata": {},
   "source": [
    "### Example 10: Demonstrating the Problem\n",
    "\n",
    "**Business question:** \"How many orders do we have?\"\n",
    "\n",
    "**Let's count orders three different ways:**"
   ]
  },
  {
   "cell_type": "code",
   "execution_count": null,
   "id": "387cb1a6",
   "metadata": {
    "execution": {
     "iopub.execute_input": "2025-10-13T11:25:04.685037Z",
     "iopub.status.busy": "2025-10-13T11:25:04.684988Z",
     "iopub.status.idle": "2025-10-13T11:25:04.686836Z",
     "shell.execute_reply": "2025-10-13T11:25:04.686658Z"
    }
   },
   "outputs": [],
   "source": [
    "# Method 1: Count orders directly (correct)\n",
    "direct_count = con.execute(\"\"\"\n",
    "    SELECT COUNT(*) AS order_count\n",
    "    FROM orders\n",
    "\"\"\").df()\n",
    "\n",
    "print(\"Method 1 - Direct count from orders table:\")\n",
    "print(direct_count)\n",
    "print()"
   ]
  },
  {
   "cell_type": "code",
   "execution_count": null,
   "id": "66213fa0",
   "metadata": {
    "execution": {
     "iopub.execute_input": "2025-10-13T11:25:04.687669Z",
     "iopub.status.busy": "2025-10-13T11:25:04.687615Z",
     "iopub.status.idle": "2025-10-13T11:25:04.693210Z",
     "shell.execute_reply": "2025-10-13T11:25:04.693011Z"
    }
   },
   "outputs": [],
   "source": [
    "# Method 2: Count after joining to order_items (WRONG!)\n",
    "wrong_count = con.execute(\"\"\"\n",
    "    SELECT COUNT(*) AS order_count\n",
    "    FROM orders o\n",
    "    INNER JOIN order_items oi ON o.order_id = oi.order_id\n",
    "\"\"\").df()\n",
    "\n",
    "print(\"Method 2 - Count after joining to order_items (WRONG):\")\n",
    "print(wrong_count)\n",
    "print(\"\\n⚠️ This is INFLATED because orders with multiple items are counted multiple times!\")\n",
    "print()"
   ]
  },
  {
   "cell_type": "code",
   "execution_count": null,
   "id": "296bbd5c",
   "metadata": {
    "execution": {
     "iopub.execute_input": "2025-10-13T11:25:04.694079Z",
     "iopub.status.busy": "2025-10-13T11:25:04.694025Z",
     "iopub.status.idle": "2025-10-13T11:25:04.703973Z",
     "shell.execute_reply": "2025-10-13T11:25:04.703745Z"
    }
   },
   "outputs": [],
   "source": [
    "# Method 3: Count DISTINCT after joining (correct)\n",
    "correct_count = con.execute(\"\"\"\n",
    "    SELECT COUNT(DISTINCT o.order_id) AS order_count\n",
    "    FROM orders o\n",
    "    INNER JOIN order_items oi ON o.order_id = oi.order_id\n",
    "\"\"\").df()\n",
    "\n",
    "print(\"Method 3 - Count DISTINCT after joining (CORRECT):\")\n",
    "print(correct_count)\n",
    "print(\"\\n⚠️ DISTINCT prevents double-counting, but notice we still lost orders!\")"
   ]
  },
  {
   "cell_type": "markdown",
   "id": "f638260c",
   "metadata": {},
   "source": [
    "**What happened:**\n",
    "- **Direct count:** 99,441 orders ✅\n",
    "- **After join:** 112,650 \"orders\" ❌ (this is actually counting items!)\n",
    "- **DISTINCT count:** 98,666 orders ⚠️ (wait, where did 775 orders go?)\n",
    "\n",
    "**Why the inflation?**\n",
    "- `orders` has 99,441 rows (one per order)\n",
    "- `order_items` has 112,650 rows (multiple items per order)\n",
    "- When you join them, orders with 2 items appear twice!\n",
    "\n",
    "**Important:** Using `COUNT(DISTINCT ...)` prevents counting the same order multiple times, which is good! BUT notice we still get **98,666 instead of 99,441**. We lost **775 orders** because **INNER JOIN drops orders that don't have items** in `order_items`.\n",
    "\n",
    "**This is a data quality issue** (orphaned orders without items) that `DISTINCT` can't fix. To preserve ALL orders while avoiding duplication, we'd need:\n",
    "- `LEFT JOIN` (keeps all orders, even without items) + `DISTINCT` (prevents double-counting)\n",
    "\n",
    "**The lesson:** `DISTINCT` solves duplicate counting, but doesn't solve data loss from INNER JOIN. Always check your row counts at each step!\n",
    "\n",
    "---"
   ]
  },
  {
   "cell_type": "markdown",
   "id": "9ed97394",
   "metadata": {},
   "source": [
    "### Example 11: Seeing the Duplication\n",
    "\n",
    "Let's look at a specific order with multiple items:"
   ]
  },
  {
   "cell_type": "code",
   "execution_count": null,
   "id": "1f4db209",
   "metadata": {
    "execution": {
     "iopub.execute_input": "2025-10-13T11:25:04.704971Z",
     "iopub.status.busy": "2025-10-13T11:25:04.704919Z",
     "iopub.status.idle": "2025-10-13T11:25:04.712331Z",
     "shell.execute_reply": "2025-10-13T11:25:04.712149Z"
    }
   },
   "outputs": [],
   "source": [
    "# Find an order with multiple items\n",
    "multi_item_order = con.execute(\"\"\"\n",
    "    SELECT \n",
    "        o.order_id,\n",
    "        o.order_status,\n",
    "        oi.order_item_id,\n",
    "        oi.product_id,\n",
    "        oi.price\n",
    "    FROM orders o\n",
    "    INNER JOIN order_items oi ON o.order_id = oi.order_id\n",
    "    WHERE o.order_id IN (\n",
    "        SELECT order_id \n",
    "        FROM order_items \n",
    "        GROUP BY order_id \n",
    "        HAVING COUNT(*) > 1\n",
    "        LIMIT 1\n",
    "    )\n",
    "\"\"\").df()\n",
    "\n",
    "print(\"One order, multiple items (order gets duplicated):\")\n",
    "multi_item_order"
   ]
  },
  {
   "cell_type": "markdown",
   "id": "aa92f725",
   "metadata": {},
   "source": [
    "**See?** The same `order_id` appears multiple times! \n",
    "\n",
    "If you count rows, you're counting items, not orders.\n",
    "\n",
    "**The fix: Always use `COUNT(DISTINCT ...)` when counting after joins across one-to-many relationships.**\n",
    "\n",
    "---"
   ]
  },
  {
   "cell_type": "markdown",
   "id": "328d481d",
   "metadata": {},
   "source": [
    "### Aggregating Correctly After Joins (⏱️ 5 minutes)\n",
    "\n",
    "> **Key principle: Aggregate at the correct GRAIN**\n",
    "\n",
    "**Grain = the level of detail in your result**\n",
    "\n",
    "**Example questions with different grains:**\n",
    "- \"Revenue per order\" → Order grain (one row per order)\n",
    "- \"Revenue per product\" → Product grain (one row per product)\n",
    "- \"Revenue per seller per state\" → Seller-state grain (one row per seller-state combo)\n",
    "\n",
    "**Your GROUP BY clause defines the grain!**\n",
    "\n",
    "---"
   ]
  },
  {
   "cell_type": "markdown",
   "id": "0890846b",
   "metadata": {},
   "source": [
    "### Example 12: Correct Aggregation\n",
    "\n",
    "**Business question:** \"What's the total revenue per order?\"\n",
    "\n",
    "**Grain: One row per order**"
   ]
  },
  {
   "cell_type": "code",
   "execution_count": null,
   "id": "e6f8e74c",
   "metadata": {
    "execution": {
     "iopub.execute_input": "2025-10-13T11:25:04.713320Z",
     "iopub.status.busy": "2025-10-13T11:25:04.713253Z",
     "iopub.status.idle": "2025-10-13T11:25:04.726330Z",
     "shell.execute_reply": "2025-10-13T11:25:04.726134Z"
    }
   },
   "outputs": [],
   "source": [
    "# Revenue per order (correct grain)\n",
    "con.execute(\"\"\"\n",
    "    SELECT \n",
    "        o.order_id,\n",
    "        o.order_status,\n",
    "        COUNT(oi.order_item_id) AS num_items,\n",
    "        ROUND(SUM(oi.price), 2) AS total_revenue\n",
    "    FROM orders o\n",
    "    INNER JOIN order_items oi ON o.order_id = oi.order_id\n",
    "    GROUP BY o.order_id, o.order_status\n",
    "    ORDER BY total_revenue DESC\n",
    "    LIMIT 10\n",
    "\"\"\").df()"
   ]
  },
  {
   "cell_type": "markdown",
   "id": "d8947e78",
   "metadata": {},
   "source": [
    "**Why this works:**\n",
    "- `GROUP BY o.order_id` collapses multiple items back to one row per order\n",
    "- `SUM(oi.price)` adds up all items in each order\n",
    "- Result: One row per order ✅\n",
    "\n",
    "**Business insight:** The highest-value orders have 10-20 items each and generate $5K-13K in revenue.\n",
    "\n",
    "---"
   ]
  },
  {
   "cell_type": "markdown",
   "id": "a9b8737d",
   "metadata": {},
   "source": [
    "### Example 13: Multi-Level Aggregation\n",
    "\n",
    "**Business question:** \"What's the average order value per seller state?\"\n",
    "\n",
    "**Strategy:** \n",
    "1. First, calculate order value (order grain)\n",
    "2. Then, average by seller state (state grain)\n",
    "\n",
    "**This is perfect for a CTE!**"
   ]
  },
  {
   "cell_type": "code",
   "execution_count": null,
   "id": "97e55f0d",
   "metadata": {
    "execution": {
     "iopub.execute_input": "2025-10-13T11:25:04.727324Z",
     "iopub.status.busy": "2025-10-13T11:25:04.727273Z",
     "iopub.status.idle": "2025-10-13T11:25:04.742489Z",
     "shell.execute_reply": "2025-10-13T11:25:04.742268Z"
    }
   },
   "outputs": [],
   "source": [
    "# Multi-level aggregation with CTE\n",
    "con.execute(\"\"\"\n",
    "    WITH order_revenue AS (\n",
    "        -- Step 1: Calculate revenue per order\n",
    "        SELECT \n",
    "            o.order_id,\n",
    "            s.seller_state,\n",
    "            SUM(oi.price) AS order_value\n",
    "        FROM orders o\n",
    "        INNER JOIN order_items oi ON o.order_id = oi.order_id\n",
    "        INNER JOIN sellers s ON oi.seller_id = s.seller_id\n",
    "        GROUP BY o.order_id, s.seller_state\n",
    "    )\n",
    "    -- Step 2: Average by state\n",
    "    SELECT \n",
    "        seller_state,\n",
    "        COUNT(DISTINCT order_id) AS num_orders,\n",
    "        ROUND(AVG(order_value), 2) AS avg_order_value\n",
    "    FROM order_revenue\n",
    "    GROUP BY seller_state\n",
    "    ORDER BY avg_order_value DESC\n",
    "    LIMIT 10\n",
    "\"\"\").df()"
   ]
  },
  {
   "cell_type": "markdown",
   "id": "7580df85",
   "metadata": {},
   "source": [
    "**Key technique:**\n",
    "- CTE aggregates at order grain first\n",
    "- Main query aggregates at state grain second\n",
    "- Clear two-step logic prevents mistakes\n",
    "\n",
    "**Business insight:** Seller states have similar average order values (~$130-160), but volumes differ dramatically.\n",
    "\n",
    "---"
   ]
  },
  {
   "cell_type": "markdown",
   "id": "c4a91b88",
   "metadata": {},
   "source": [
    "## Part 5: The Grand Finale - Everything Together (⏱️ 7 minutes)\n",
    "\n",
    "### 🎯 Synthesis Example: Day 1 + Day 2 Combined\n",
    "\n",
    "> **\"Top 3 sellers per state by revenue\"**\n",
    "\n",
    "**This query combines EVERYTHING we've learned:**\n",
    "- ✅ **Multi-table INNER JOIN** (today)\n",
    "- ✅ **CTE** for readable structure (today)\n",
    "- ✅ **GROUP BY + aggregation** (Day 1 Block B)\n",
    "- ✅ **ROW_NUMBER() OVER (PARTITION BY...)** (Day 1 Block B)\n",
    "- ✅ **Filtering on window function result** (Day 1 Block B)\n",
    "\n",
    "**This is the kind of query you'll write constantly in analytics roles.**\n",
    "\n",
    "Let's build it step by step:\n",
    "\n",
    "---"
   ]
  },
  {
   "cell_type": "code",
   "execution_count": null,
   "id": "109b455e",
   "metadata": {
    "execution": {
     "iopub.execute_input": "2025-10-13T11:25:04.743502Z",
     "iopub.status.busy": "2025-10-13T11:25:04.743440Z",
     "iopub.status.idle": "2025-10-13T11:25:04.759181Z",
     "shell.execute_reply": "2025-10-13T11:25:04.758984Z"
    }
   },
   "outputs": [],
   "source": [
    "# The Grand Finale: Top 3 sellers per state\n",
    "con.execute(\"\"\"\n",
    "    WITH seller_revenue AS (\n",
    "        -- Step 1: Calculate total revenue per seller\n",
    "        SELECT \n",
    "            s.seller_id,\n",
    "            s.seller_state,\n",
    "            s.seller_city,\n",
    "            COUNT(DISTINCT oi.order_id) AS num_orders,\n",
    "            ROUND(SUM(oi.price), 2) AS total_revenue\n",
    "        FROM order_items oi\n",
    "        INNER JOIN sellers s ON oi.seller_id = s.seller_id\n",
    "        GROUP BY s.seller_id, s.seller_state, s.seller_city\n",
    "    ),\n",
    "    ranked_sellers AS (\n",
    "        -- Step 2: Rank sellers within each state\n",
    "        SELECT \n",
    "            seller_id,\n",
    "            seller_state,\n",
    "            seller_city,\n",
    "            num_orders,\n",
    "            total_revenue,\n",
    "            ROW_NUMBER() OVER (\n",
    "                PARTITION BY seller_state \n",
    "                ORDER BY total_revenue DESC\n",
    "            ) AS rank_in_state\n",
    "        FROM seller_revenue\n",
    "    )\n",
    "    -- Step 3: Filter to top 3 per state\n",
    "    SELECT \n",
    "        seller_state,\n",
    "        rank_in_state,\n",
    "        seller_city,\n",
    "        num_orders,\n",
    "        total_revenue\n",
    "    FROM ranked_sellers\n",
    "    WHERE rank_in_state <= 3\n",
    "    ORDER BY seller_state, rank_in_state\n",
    "    LIMIT 30\n",
    "\"\"\").df()"
   ]
  },
  {
   "cell_type": "markdown",
   "id": "7cc889f4",
   "metadata": {},
   "source": [
    "### Breaking Down the Magic\n",
    "\n",
    "**Step 1: Calculate seller revenue**\n",
    "```sql\n",
    "WITH seller_revenue AS (\n",
    "    SELECT seller_id, seller_state, SUM(price) AS total_revenue\n",
    "    FROM order_items JOIN sellers ...\n",
    "    GROUP BY seller_id, seller_state\n",
    ")\n",
    "```\n",
    "- **INNER JOIN** combines items with sellers\n",
    "- **GROUP BY** aggregates to seller grain (one row per seller)\n",
    "- **SUM** calculates total revenue\n",
    "\n",
    "**Step 2: Rank within states**\n",
    "```sql\n",
    "ranked_sellers AS (\n",
    "    SELECT *, ROW_NUMBER() OVER (PARTITION BY seller_state ORDER BY total_revenue DESC)\n",
    "    FROM seller_revenue\n",
    ")\n",
    "```\n",
    "- **ROW_NUMBER()** assigns ranks (1, 2, 3...)\n",
    "- **PARTITION BY seller_state** restarts ranking for each state\n",
    "- **ORDER BY total_revenue DESC** ranks by revenue (highest first)\n",
    "\n",
    "**Step 3: Filter to top 3**\n",
    "```sql\n",
    "SELECT * FROM ranked_sellers WHERE rank_in_state <= 3\n",
    "```\n",
    "- Keep only ranks 1, 2, 3 per state\n",
    "\n",
    "---"
   ]
  },
  {
   "cell_type": "markdown",
   "id": "dca3b1fd",
   "metadata": {},
   "source": [
    "### Why This Query is Beautiful\n",
    "\n",
    "**Readability:**\n",
    "- Three clear steps, each with a purpose\n",
    "- Named CTEs explain what each step does\n",
    "- Easy to debug (test each CTE independently)\n",
    "\n",
    "**Power:**\n",
    "- Answers complex business question in ~20 lines\n",
    "- Combines multiple advanced techniques\n",
    "- Scales to millions of rows efficiently\n",
    "\n",
    "**Business value:**\n",
    "- \"Who are our top performers in each region?\"\n",
    "- Informs regional sales strategies\n",
    "- Identifies high-value partners\n",
    "\n",
    "**This is analytics in the real world.** 🎯\n",
    "\n",
    "---"
   ]
  },
  {
   "cell_type": "markdown",
   "id": "c1a98b89",
   "metadata": {},
   "source": [
    "## Part 6: Wrap-Up & Quick Tips (⏱️ 3 minutes)\n",
    "\n",
    "### Key Takeaways\n",
    "\n",
    "**Join Types:**\n",
    "- **INNER JOIN** - Only matching rows (most common)\n",
    "- **LEFT JOIN** - All from left table + matches from right\n",
    "- **Anti-join pattern** - LEFT JOIN + IS NULL (find unmatched)\n",
    "- RIGHT/FULL - Exist but rarely used\n",
    "\n",
    "**Modern Patterns:**\n",
    "- **CTEs** - Break complex queries into readable steps\n",
    "- **Window functions + joins** - Powerful combo for ranking/analytics\n",
    "\n",
    "**Critical Warnings:**\n",
    "- ⚠️ **Duplicate inflation** - Use COUNT(DISTINCT) after joins\n",
    "- ⚠️ **Aggregation grain** - GROUP BY defines your result grain\n",
    "- ⚠️ **NULL behavior** - Remember LEFT JOIN creates NULLs\n",
    "\n",
    "---"
   ]
  },
  {
   "cell_type": "markdown",
   "id": "434ad119",
   "metadata": {},
   "source": [
    "### Quick Tips for Writing Joins\n",
    "\n",
    "**1. Start simple, build complexity**\n",
    "- Write the join first, verify row counts\n",
    "- Add GROUP BY and aggregations second\n",
    "- Test at each step\n",
    "\n",
    "**2. Always check row counts**\n",
    "```sql\n",
    "-- Before join\n",
    "SELECT COUNT(*) FROM table1;  -- 100 rows\n",
    "\n",
    "-- After join  \n",
    "SELECT COUNT(*) FROM table1 JOIN table2 ...;  -- 150 rows?\n",
    "-- Why the increase? One-to-many relationship!\n",
    "```\n",
    "\n",
    "**3. Use CTEs for multi-step logic**\n",
    "- Makes queries readable\n",
    "- Easier to debug\n",
    "- Self-documenting\n",
    "\n",
    "**4. Name your tables with aliases**\n",
    "```sql\n",
    "-- Good\n",
    "FROM orders o\n",
    "JOIN customers c ON o.customer_id = c.customer_id\n",
    "\n",
    "-- Bad\n",
    "FROM orders\n",
    "JOIN customers ON orders.customer_id = customers.customer_id\n",
    "```\n",
    "\n",
    "**5. When in doubt, use LEFT JOIN**\n",
    "- Safer than INNER (won't lose data silently)\n",
    "- Shows you which records don't match\n",
    "- Can always filter NULLs later if needed\n",
    "\n",
    "---"
   ]
  },
  {
   "cell_type": "markdown",
   "id": "4861a1aa",
   "metadata": {},
   "source": [
    "## Next: In-Class Exercise\n",
    "\n",
    "**You'll now practice these concepts with a real business scenario:**\n",
    "\n",
    "- Paula Costa, VP of Marketplace Operations at Olist, needs insights for a board meeting\n",
    "- You'll write queries to answer her business questions\n",
    "- Apply INNER JOIN, LEFT JOIN, CTEs, and aggregations\n",
    "- Deliver stakeholder-ready analysis\n",
    "\n",
    "**Open:** `day2_exercise_joins.ipynb`\n",
    "\n",
    "**You have 25 minutes for the first 3 queries. Let's go!**\n",
    "\n",
    "---"
   ]
  }
 ],
 "metadata": {
  "kernelspec": {
   "display_name": "Python 3 (ipykernel)",
   "language": "python",
   "name": "python3"
  },
  "language_info": {
   "codemirror_mode": {
    "name": "ipython",
    "version": 3
   },
   "file_extension": ".py",
   "mimetype": "text/x-python",
   "name": "python",
   "nbconvert_exporter": "python",
   "pygments_lexer": "ipython3",
   "version": "3.12.9"
  }
 },
 "nbformat": 4,
 "nbformat_minor": 5
}
