{
 "cells": [
  {
   "cell_type": "markdown",
   "metadata": {},
   "source": [
    "# Day 1, Block B: SQL Foundations with DuckDB\n",
    "\n",
    "**Duration:** 30-40 minutes  \n",
    "**Course:** ECBS5294 - Introduction to Data Science: Working with Data  \n",
    "**Instructor:** Eduardo Ariño de la Rubia\n",
    "\n",
    "---\n",
    "\n",
    "## Learning Objectives\n",
    "\n",
    "By the end of this session, you will be able to:\n",
    "\n",
    "1. **Explain** why SQL is valuable for data analysis\n",
    "2. **Write basic SQL queries** using SELECT, WHERE, and ORDER BY\n",
    "3. **Filter data** using comparison operators, AND/OR logic, and pattern matching\n",
    "4. **Handle NULL values** correctly (IS NULL, not = NULL)\n",
    "5. **Create calculated columns** in query results\n",
    "6. **Sort results** with ORDER BY\n",
    "7. **Build complex queries** combining multiple concepts\n",
    "\n",
    "---"
   ]
  },
  {
   "cell_type": "markdown",
   "metadata": {},
   "source": [
    "## 0. Connecting to This Morning\n",
    "\n",
    "Earlier today in **Block A**, we learned to make data **tidy**. We:\n",
    "- Structured data properly (each variable a column, each observation a row)\n",
    "- Fixed types (converted strings to numbers, dates)\n",
    "- Handled missing values (NaN, NULL)\n",
    "- Validated primary keys\n",
    "\n",
    "**Now in Block B**, we **query** that tidy data with SQL.\n",
    "\n",
    "> **Key insight:** Tidy data makes SQL queries straightforward. Messy data makes them painful.\n",
    "\n",
    "This is why data cleaning comes first!\n",
    "\n",
    "---"
   ]
  },
  {
   "cell_type": "markdown",
   "metadata": {},
   "source": [
    "## 1. Why SQL?\n",
    "\n",
    "### The Hook\n",
    "\n",
    "> **\"SQL lets you ask questions of data in the language of business logic, not programming loops.\"**\n",
    "\n",
    "Think about it: Instead of writing loops and if-statements to find \"all coffee sales over $5,\" you just write:\n",
    "\n",
    "```sql\n",
    "SELECT * FROM sales WHERE category = 'Coffee' AND price > 5\n",
    "```\n",
    "\n",
    "You **declare what you want**, not how to get it. The database figures out the most efficient way to get your answer.\n",
    "\n",
    "### Why SQL Matters\n",
    "\n",
    "**1. Declarative, Not Procedural**\n",
    "- Say *what* you want, not *how* to get it\n",
    "- Database optimizes the query for you\n",
    "- Focus on business logic, not algorithms\n",
    "\n",
    "**2. Set-Based Operations**\n",
    "- Operate on entire sets of rows at once\n",
    "- Not row-by-row loops (which are slow)\n",
    "- Optimized for bulk operations\n",
    "\n",
    "**3. Standard and Portable**\n",
    "- SQL skills transfer across systems\n",
    "- PostgreSQL, MySQL, BigQuery, Snowflake, DuckDB all use SQL\n",
    "- Learn once, use everywhere\n",
    "\n",
    "**4. Foundation for Advanced Concepts**\n",
    "- Required for joins (Day 2)\n",
    "- Common Table Expressions (CTEs)\n",
    "- Window functions\n",
    "- Subqueries\n",
    "\n",
    "### Example: Python vs SQL\n",
    "\n",
    "**Python (procedural):**\n",
    "```python\n",
    "total = 0\n",
    "for row in data:\n",
    "    if row['category'] == 'Coffee' and row['price'] > 5:\n",
    "        total += row['price'] * row['quantity']\n",
    "```\n",
    "\n",
    "**SQL (declarative):**\n",
    "```sql\n",
    "SELECT SUM(price * quantity) AS total_revenue\n",
    "FROM data\n",
    "WHERE category = 'Coffee' AND price > 5\n",
    "```\n",
    "\n",
    "**Which is clearer? Which reads more like English?**\n",
    "\n",
    "---"
   ]
  },
  {
   "cell_type": "markdown",
   "metadata": {},
   "source": [
    "## 2. Why DuckDB?\n",
    "\n",
    "### What is DuckDB?\n",
    "\n",
    "DuckDB is an **embedded analytical database**. Think of it as \"SQLite for analytics.\"\n",
    "\n",
    "**Key Features:**\n",
    "- **No server required** - runs in your Python process\n",
    "- **Query files directly** - CSVs, Parquet, no loading step!\n",
    "- **Fast** - columnar storage, optimized for analytics\n",
    "- **Full SQL support** - including window functions, CTEs, complex joins\n",
    "- **Works with pandas** - easy conversion to/from DataFrames\n",
    "\n",
    "### When to Use DuckDB\n",
    "\n",
    "✅ **Use DuckDB when:**\n",
    "- Analyzing data locally (CSVs, Parquet files)\n",
    "- Exploring datasets (millions of rows)\n",
    "- Building data pipelines\n",
    "- Learning SQL\n",
    "- You need speed without server setup\n",
    "\n",
    "❌ **Don't use DuckDB when:**\n",
    "- You need a web application database (use PostgreSQL)\n",
    "- You need multi-user concurrent writes (use PostgreSQL)\n",
    "- You're building a production transactional system\n",
    "\n",
    "### Why We're Teaching DuckDB\n",
    "\n",
    "1. **Zero setup** - just `pip install duckdb`\n",
    "2. **Same SQL** - skills transfer to PostgreSQL, BigQuery, etc.\n",
    "3. **Real performance** - handles millions of rows on a laptop\n",
    "4. **Modern tool** - used by data teams at companies like Mozilla, Datadog\n",
    "\n",
    "---"
   ]
  },
  {
   "cell_type": "markdown",
   "metadata": {},
   "source": [
    "## 3. Setup\n",
    "\n",
    "Let's install DuckDB and get connected."
   ]
  },
  {
   "cell_type": "code",
   "execution_count": null,
   "metadata": {
    "execution": {
     "iopub.execute_input": "2025-10-13T14:25:26.300892Z",
     "iopub.status.busy": "2025-10-13T14:25:26.300818Z",
     "iopub.status.idle": "2025-10-13T14:25:26.873631Z",
     "shell.execute_reply": "2025-10-13T14:25:26.873307Z"
    }
   },
   "outputs": [],
   "source": [
    "# Install DuckDB (run once)\n",
    "!pip install duckdb -q"
   ]
  },
  {
   "cell_type": "code",
   "execution_count": null,
   "metadata": {
    "execution": {
     "iopub.execute_input": "2025-10-13T14:25:26.874991Z",
     "iopub.status.busy": "2025-10-13T14:25:26.874911Z",
     "iopub.status.idle": "2025-10-13T14:25:27.127893Z",
     "shell.execute_reply": "2025-10-13T14:25:27.125921Z"
    }
   },
   "outputs": [],
   "source": [
    "# Import libraries\n",
    "import duckdb\n",
    "import pandas as pd\n",
    "import numpy as np\n",
    "import warnings\n",
    "\n",
    "# Suppress warnings for cleaner output\n",
    "warnings.filterwarnings('ignore')\n",
    "\n",
    "print(\"✅ Libraries imported successfully!\")"
   ]
  },
  {
   "cell_type": "markdown",
   "metadata": {},
   "source": [
    "### Connect to DuckDB\n",
    "\n",
    "We'll create an **in-memory database** - it exists only while this notebook is running."
   ]
  },
  {
   "cell_type": "code",
   "execution_count": null,
   "metadata": {
    "execution": {
     "iopub.execute_input": "2025-10-13T14:25:27.142451Z",
     "iopub.status.busy": "2025-10-13T14:25:27.142090Z",
     "iopub.status.idle": "2025-10-13T14:25:27.149265Z",
     "shell.execute_reply": "2025-10-13T14:25:27.148597Z"
    }
   },
   "outputs": [],
   "source": [
    "# Connect to in-memory database\n",
    "con = duckdb.connect(':memory:')\n",
    "\n",
    "print(\"✅ Connected to DuckDB!\")\n",
    "print(f\"DuckDB version: {duckdb.__version__}\")"
   ]
  },
  {
   "cell_type": "markdown",
   "metadata": {},
   "source": [
    "### DuckDB's Superpower: Query Files Directly!\n",
    "\n",
    "Most databases require you to:\n",
    "1. Load data into the database\n",
    "2. Then query it\n",
    "\n",
    "DuckDB can **query CSV files directly** without loading them first. Let's try it:"
   ]
  },
  {
   "cell_type": "code",
   "execution_count": null,
   "metadata": {
    "execution": {
     "iopub.execute_input": "2025-10-13T14:25:27.151647Z",
     "iopub.status.busy": "2025-10-13T14:25:27.151303Z",
     "iopub.status.idle": "2025-10-13T14:25:27.179261Z",
     "shell.execute_reply": "2025-10-13T14:25:27.179027Z"
    }
   },
   "outputs": [],
   "source": [
    "# Query a CSV file directly!\n",
    "result = con.execute(\"\"\"\n",
    "    SELECT * \n",
    "    FROM '../../data/day1/dirty_cafe_sales.csv' \n",
    "    LIMIT 5\n",
    "\"\"\").df()  # .df() converts result to pandas DataFrame\n",
    "\n",
    "result"
   ]
  },
  {
   "cell_type": "markdown",
   "metadata": {},
   "source": [
    "**What just happened?**\n",
    "\n",
    "1. We wrote SQL: `SELECT * FROM 'file.csv' LIMIT 5`\n",
    "2. DuckDB read the CSV directly (no loading!)\n",
    "3. We got back the first 5 rows\n",
    "4. `.df()` converted it to a pandas DataFrame\n",
    "\n",
    "This is **much faster** than `pd.read_csv()` for large files, especially when you only need some rows or columns.\n",
    "\n",
    "---"
   ]
  },
  {
   "cell_type": "markdown",
   "metadata": {},
   "source": [
    "## 4. Quick Data Prep: Types Matter!\n",
    "\n",
    "For this notebook, we'll use the cafe sales dataset from Block A. \n",
    "\n",
    "**Critical Block A Callback:** Remember **Block A, Section 5 (Types & Pitfalls)**? How CSV files often load everything as text? We need to fix that with SQL!\n",
    "\n",
    "*If you need a refresher, open `day1_block_a_tidy_foundations.ipynb` and jump to Section 5.*\n",
    "\n",
    "Let's load the data and see what we're working with."
   ]
  },
  {
   "cell_type": "code",
   "execution_count": null,
   "metadata": {
    "execution": {
     "iopub.execute_input": "2025-10-13T14:25:27.180419Z",
     "iopub.status.busy": "2025-10-13T14:25:27.180354Z",
     "iopub.status.idle": "2025-10-13T14:25:27.201813Z",
     "shell.execute_reply": "2025-10-13T14:25:27.201583Z"
    }
   },
   "outputs": [],
   "source": [
    "# First, let's see what DuckDB infers from the CSV\n",
    "con.execute(\"DESCRIBE SELECT * FROM '../../data/day1/dirty_cafe_sales.csv'\").df()"
   ]
  },
  {
   "cell_type": "markdown",
   "metadata": {},
   "source": [
    "**Uh oh!** Everything is `VARCHAR` (text). This is exactly what we learned about in Block A!\n",
    "\n",
    "**The problem:**\n",
    "- Can't do math on text: `\"5.00\" + \"3.00\"` doesn't work!\n",
    "- Can't sort properly: `\"10\"` comes before `\"2\"` alphabetically\n",
    "- Can't compare: `WHERE \"Price Per Unit\" > 5` will fail\n",
    "\n",
    "**The solution:** Cast columns to proper types when we load the data."
   ]
  },
  {
   "cell_type": "code",
   "execution_count": null,
   "metadata": {
    "execution": {
     "iopub.execute_input": "2025-10-13T14:25:27.202973Z",
     "iopub.status.busy": "2025-10-13T14:25:27.202907Z",
     "iopub.status.idle": "2025-10-13T14:25:27.226811Z",
     "shell.execute_reply": "2025-10-13T14:25:27.226612Z"
    }
   },
   "outputs": [],
   "source": [
    "# Create a clean table with proper types\n",
    "# We use TRY_CAST so bad values become NULL instead of causing errors\n",
    "con.execute(\"\"\"\n",
    "    CREATE OR REPLACE TABLE cafe AS\n",
    "    SELECT \n",
    "        \"Transaction ID\",\n",
    "        Item,\n",
    "        TRY_CAST(Quantity AS INTEGER) AS Quantity,\n",
    "        TRY_CAST(\"Price Per Unit\" AS DECIMAL(10,2)) AS \"Price Per Unit\",\n",
    "        TRY_CAST(\"Total Spent\" AS DECIMAL(10,2)) AS \"Total Spent\",\n",
    "        \"Payment Method\",\n",
    "        Location,\n",
    "        TRY_CAST(\"Transaction Date\" AS DATE) AS \"Transaction Date\"\n",
    "    FROM '../../data/day1/dirty_cafe_sales.csv'\n",
    "\"\"\")\n",
    "\n",
    "print(\"✅ Table 'cafe' created with proper types!\")"
   ]
  },
  {
   "cell_type": "markdown",
   "metadata": {},
   "source": [
    "**What we did:**\n",
    "- `TRY_CAST(column AS type)` - Convert column to specified type\n",
    "- **INTEGER** for whole numbers (Quantity)\n",
    "- **DECIMAL(10,2)** for money (10 total digits, 2 after decimal)\n",
    "- **DATE** for dates\n",
    "\n",
    "**Why TRY_CAST instead of CAST?**\n",
    "- `CAST` errors if conversion fails\n",
    "- `TRY_CAST` returns NULL if conversion fails\n",
    "- Safer for dirty data!\n",
    "\n",
    "Let's verify the types are fixed:"
   ]
  },
  {
   "cell_type": "code",
   "execution_count": null,
   "metadata": {
    "execution": {
     "iopub.execute_input": "2025-10-13T14:25:27.227783Z",
     "iopub.status.busy": "2025-10-13T14:25:27.227719Z",
     "iopub.status.idle": "2025-10-13T14:25:27.230644Z",
     "shell.execute_reply": "2025-10-13T14:25:27.230436Z"
    }
   },
   "outputs": [],
   "source": [
    "# Check the types of our clean table\n",
    "con.execute(\"DESCRIBE cafe\").df()"
   ]
  },
  {
   "cell_type": "markdown",
   "metadata": {},
   "source": [
    "**Perfect!** Now:\n",
    "- Quantity is INTEGER ✅\n",
    "- \"Price Per Unit\" is DECIMAL ✅  \n",
    "- \"Transaction Date\" is DATE ✅\n",
    "\n",
    "We can now do math, comparisons, and sorting properly. This is what you learned in Block A - **types matter**!\n",
    "\n",
    "---"
   ]
  },
  {
   "cell_type": "code",
   "execution_count": null,
   "metadata": {
    "execution": {
     "iopub.execute_input": "2025-10-13T14:25:27.231621Z",
     "iopub.status.busy": "2025-10-13T14:25:27.231562Z",
     "iopub.status.idle": "2025-10-13T14:25:27.233338Z",
     "shell.execute_reply": "2025-10-13T14:25:27.233165Z"
    }
   },
   "outputs": [],
   "source": [
    "# Check how many rows we have\n",
    "row_count = con.execute(\"SELECT COUNT(*) as total FROM cafe\").df()\n",
    "print(f\"Total rows: {row_count['total'][0]:,}\")"
   ]
  },
  {
   "cell_type": "code",
   "execution_count": null,
   "metadata": {
    "execution": {
     "iopub.execute_input": "2025-10-13T14:25:27.234171Z",
     "iopub.status.busy": "2025-10-13T14:25:27.234117Z",
     "iopub.status.idle": "2025-10-13T14:25:27.237709Z",
     "shell.execute_reply": "2025-10-13T14:25:27.237524Z"
    }
   },
   "outputs": [],
   "source": [
    "# Check column names\n",
    "con.execute(\"SELECT * FROM cafe LIMIT 3\").df()"
   ]
  },
  {
   "cell_type": "markdown",
   "metadata": {},
   "source": [
    "**Note:** This data is \"dirty\" - it has missing values, inconsistent formats, etc. That's intentional! Real data is messy. In Block A, you learned how to clean it. Now we'll learn how to query it.\n",
    "\n",
    "---"
   ]
  },
  {
   "cell_type": "markdown",
   "metadata": {},
   "source": [
    "## 5. SELECT Basics\n",
    "\n",
    "### The SELECT Statement\n",
    "\n",
    "> **SELECT tells SQL what columns to return**\n",
    "\n",
    "Basic structure:\n",
    "```sql\n",
    "SELECT column1, column2, column3\n",
    "FROM table_name\n",
    "```\n",
    "\n",
    "Let's start simple:"
   ]
  },
  {
   "cell_type": "markdown",
   "metadata": {},
   "source": [
    "### Example 1: Select Specific Columns\n",
    "\n",
    "**Business question:** \"Show me just the item names and prices.\""
   ]
  },
  {
   "cell_type": "code",
   "execution_count": null,
   "metadata": {
    "execution": {
     "iopub.execute_input": "2025-10-13T14:25:27.238666Z",
     "iopub.status.busy": "2025-10-13T14:25:27.238604Z",
     "iopub.status.idle": "2025-10-13T14:25:27.241127Z",
     "shell.execute_reply": "2025-10-13T14:25:27.240952Z"
    }
   },
   "outputs": [],
   "source": [
    "con.execute(\"\"\"\n",
    "    SELECT \n",
    "        Item,\n",
    "        \"Price Per Unit\" FROM cafe\n",
    "    LIMIT 10\n",
    "\"\"\").df()"
   ]
  },
  {
   "cell_type": "markdown",
   "metadata": {},
   "source": [
    "**Note:** We used `LIMIT 10` to get just 10 rows. This is great for exploring data quickly."
   ]
  },
  {
   "cell_type": "markdown",
   "metadata": {},
   "source": [
    "### Example 2: Select Multiple Columns\n",
    "\n",
    "**Business question:** \"Show me transaction details - what was ordered, how much, and when.\""
   ]
  },
  {
   "cell_type": "code",
   "execution_count": null,
   "metadata": {
    "execution": {
     "iopub.execute_input": "2025-10-13T14:25:27.242063Z",
     "iopub.status.busy": "2025-10-13T14:25:27.242010Z",
     "iopub.status.idle": "2025-10-13T14:25:27.245143Z",
     "shell.execute_reply": "2025-10-13T14:25:27.244968Z"
    }
   },
   "outputs": [],
   "source": [
    "con.execute(\"\"\"\n",
    "    SELECT \n",
    "        \"Transaction ID\",\n",
    "        Item,\n",
    "        Quantity,\n",
    "        \"Price Per Unit\",\n",
    "        \"Transaction Date\"\n",
    "    FROM cafe\n",
    "    LIMIT 10\n",
    "\"\"\").df()"
   ]
  },
  {
   "cell_type": "markdown",
   "metadata": {},
   "source": [
    "### Example 3: SELECT * (All Columns)\n",
    "\n",
    "The `*` wildcard means \"all columns.\""
   ]
  },
  {
   "cell_type": "code",
   "execution_count": null,
   "metadata": {
    "execution": {
     "iopub.execute_input": "2025-10-13T14:25:27.246028Z",
     "iopub.status.busy": "2025-10-13T14:25:27.245965Z",
     "iopub.status.idle": "2025-10-13T14:25:27.249303Z",
     "shell.execute_reply": "2025-10-13T14:25:27.249133Z"
    }
   },
   "outputs": [],
   "source": [
    "con.execute(\"\"\"\n",
    "    SELECT * \n",
    "    FROM cafe\n",
    "    LIMIT 5\n",
    "\"\"\").df()"
   ]
  },
  {
   "cell_type": "markdown",
   "metadata": {},
   "source": [
    "**When to use SELECT *:**\n",
    "- ✅ Exploring data (\"What columns do I have?\")\n",
    "- ✅ Development/prototyping\n",
    "- ❌ Production code (slow, unclear what you're getting)\n",
    "- ❌ Large tables (returns too much data)\n",
    "\n",
    "**Best practice:** Be explicit about columns in production queries."
   ]
  },
  {
   "cell_type": "markdown",
   "metadata": {},
   "source": [
    "### Example 4: Column Aliases with AS\n",
    "\n",
    "Rename columns in your results using `AS`:"
   ]
  },
  {
   "cell_type": "code",
   "execution_count": null,
   "metadata": {
    "execution": {
     "iopub.execute_input": "2025-10-13T14:25:27.250176Z",
     "iopub.status.busy": "2025-10-13T14:25:27.250121Z",
     "iopub.status.idle": "2025-10-13T14:25:27.252810Z",
     "shell.execute_reply": "2025-10-13T14:25:27.252626Z"
    }
   },
   "outputs": [],
   "source": [
    "con.execute(\"\"\"\n",
    "    SELECT \n",
    "        \"Transaction ID\" AS txn_id,\n",
    "        Item AS product_name,\n",
    "        \"Price Per Unit\" AS unit_price\n",
    "    FROM cafe\n",
    "    LIMIT 10\n",
    "\"\"\").df()"
   ]
  },
  {
   "cell_type": "markdown",
   "metadata": {},
   "source": [
    "**Why use aliases?**\n",
    "- Shorter names for convenience\n",
    "- More descriptive names\n",
    "- Rename calculated columns (we'll see this soon)\n",
    "\n",
    "---"
   ]
  },
  {
   "cell_type": "markdown",
   "metadata": {},
   "source": [
    "## 6. WHERE: Filtering Rows\n",
    "\n",
    "> **WHERE filters which rows to return**\n",
    "\n",
    "Think of it as: \"Show me transactions **where** [condition is true]\"\n",
    "\n",
    "Structure:\n",
    "```sql\n",
    "SELECT columns\n",
    "FROM table\n",
    "WHERE condition\n",
    "```"
   ]
  },
  {
   "cell_type": "markdown",
   "metadata": {},
   "source": [
    "### Comparison Operators\n",
    "\n",
    "| Operator | Meaning |\n",
    "|----------|--------|\n",
    "| `=` | Equal to |\n",
    "| `!=` or `<>` | Not equal to |\n",
    "| `>` | Greater than |\n",
    "| `<` | Less than |\n",
    "| `>=` | Greater than or equal |\n",
    "| `<=` | Less than or equal |"
   ]
  },
  {
   "cell_type": "markdown",
   "metadata": {},
   "source": [
    "### Example 1: Filter by Price\n",
    "\n",
    "**Business question:** \"Show me all premium items ($4 or more).\""
   ]
  },
  {
   "cell_type": "code",
   "execution_count": null,
   "metadata": {
    "execution": {
     "iopub.execute_input": "2025-10-13T14:25:27.253896Z",
     "iopub.status.busy": "2025-10-13T14:25:27.253836Z",
     "iopub.status.idle": "2025-10-13T14:25:27.256534Z",
     "shell.execute_reply": "2025-10-13T14:25:27.256363Z"
    }
   },
   "outputs": [],
   "source": [
    "con.execute(\"\"\"\n",
    "    SELECT \n",
    "        \"Transaction ID\",\n",
    "        Item,\n",
    "        \"Price Per Unit\"\n",
    "    FROM cafe\n",
    "    WHERE \"Price Per Unit\" >= 4.00\n",
    "    LIMIT 10\n",
    "\"\"\").df()"
   ]
  },
  {
   "cell_type": "markdown",
   "metadata": {},
   "source": [
    "### Example 2: Filter by Category\n",
    "\n",
    "**Business question:** \"Show me only coffee sales.\""
   ]
  },
  {
   "cell_type": "code",
   "execution_count": null,
   "metadata": {
    "execution": {
     "iopub.execute_input": "2025-10-13T14:25:27.257459Z",
     "iopub.status.busy": "2025-10-13T14:25:27.257405Z",
     "iopub.status.idle": "2025-10-13T14:25:27.259903Z",
     "shell.execute_reply": "2025-10-13T14:25:27.259733Z"
    }
   },
   "outputs": [],
   "source": [
    "con.execute(\"\"\"\n",
    "    SELECT \n",
    "        \"Transaction ID\",\n",
    "        Item,\n",
    "        \"Price Per Unit\" FROM cafe\n",
    "    WHERE Item = 'Coffee'\n",
    "    LIMIT 10\n",
    "\"\"\").df()"
   ]
  },
  {
   "cell_type": "markdown",
   "metadata": {},
   "source": [
    "**Note:** Text values need **single quotes**: `'Coffee'`, not `Coffee`"
   ]
  },
  {
   "cell_type": "markdown",
   "metadata": {},
   "source": [
    "### Example 3: Multiple Conditions with AND\n",
    "\n",
    "**Business question:** \"Show me salad items priced at $4 or more.\"\n",
    "\n",
    "**Both conditions must be true:**"
   ]
  },
  {
   "cell_type": "code",
   "execution_count": null,
   "metadata": {
    "execution": {
     "iopub.execute_input": "2025-10-13T14:25:27.260874Z",
     "iopub.status.busy": "2025-10-13T14:25:27.260818Z",
     "iopub.status.idle": "2025-10-13T14:25:27.263343Z",
     "shell.execute_reply": "2025-10-13T14:25:27.263171Z"
    }
   },
   "outputs": [],
   "source": [
    "con.execute(\"\"\"\n",
    "    SELECT \n",
    "        \"Transaction ID\",\n",
    "        Item,\n",
    "        \"Price Per Unit\"\n",
    "    FROM cafe\n",
    "    WHERE Item = 'Salad' \n",
    "      AND \"Price Per Unit\" >= 4.00\n",
    "    LIMIT 10\n",
    "\"\"\").df()"
   ]
  },
  {
   "cell_type": "markdown",
   "metadata": {},
   "source": [
    "### Example 4: Multiple Conditions with OR\n",
    "\n",
    "**Business question:** \"Show me coffee OR tea sales.\"\n",
    "\n",
    "**Either condition can be true:**"
   ]
  },
  {
   "cell_type": "code",
   "execution_count": null,
   "metadata": {
    "execution": {
     "iopub.execute_input": "2025-10-13T14:25:27.264223Z",
     "iopub.status.busy": "2025-10-13T14:25:27.264170Z",
     "iopub.status.idle": "2025-10-13T14:25:27.266987Z",
     "shell.execute_reply": "2025-10-13T14:25:27.266840Z"
    }
   },
   "outputs": [],
   "source": [
    "con.execute(\"\"\"\n",
    "    SELECT \n",
    "        \"Transaction ID\",\n",
    "        Item,\n",
    "        \"Price Per Unit\" FROM cafe\n",
    "    WHERE Item = 'Coffee' \n",
    "       OR Item = 'Tea'\n",
    "    LIMIT 10\n",
    "\"\"\").df()"
   ]
  },
  {
   "cell_type": "markdown",
   "metadata": {},
   "source": [
    "### Example 5: IN Operator (Cleaner OR)\n",
    "\n",
    "Instead of multiple ORs, use `IN`:"
   ]
  },
  {
   "cell_type": "code",
   "execution_count": null,
   "metadata": {
    "execution": {
     "iopub.execute_input": "2025-10-13T14:25:27.267851Z",
     "iopub.status.busy": "2025-10-13T14:25:27.267799Z",
     "iopub.status.idle": "2025-10-13T14:25:27.270518Z",
     "shell.execute_reply": "2025-10-13T14:25:27.270349Z"
    }
   },
   "outputs": [],
   "source": [
    "con.execute(\"\"\"\n",
    "    SELECT \n",
    "        \"Transaction ID\",\n",
    "        Item,\n",
    "        \"Price Per Unit\" FROM cafe\n",
    "    WHERE Item IN ('Coffee', 'Tea', 'Espresso')\n",
    "    LIMIT 10\n",
    "\"\"\").df()"
   ]
  },
  {
   "cell_type": "markdown",
   "metadata": {},
   "source": [
    "**Much cleaner!** Especially with many values."
   ]
  },
  {
   "cell_type": "markdown",
   "metadata": {},
   "source": [
    "### Example 6: BETWEEN for Ranges\n",
    "\n",
    "**Business question:** \"Show me transactions between $3 and $7.\""
   ]
  },
  {
   "cell_type": "code",
   "execution_count": null,
   "metadata": {
    "execution": {
     "iopub.execute_input": "2025-10-13T14:25:27.271331Z",
     "iopub.status.busy": "2025-10-13T14:25:27.271281Z",
     "iopub.status.idle": "2025-10-13T14:25:27.273819Z",
     "shell.execute_reply": "2025-10-13T14:25:27.273647Z"
    }
   },
   "outputs": [],
   "source": [
    "con.execute(\"\"\"\n",
    "    SELECT \n",
    "        \"Transaction ID\",\n",
    "        Item,\n",
    "        \"Price Per Unit\" FROM cafe\n",
    "    WHERE \"Price Per Unit\" BETWEEN 3.00 AND 7.00\n",
    "    LIMIT 10\n",
    "\"\"\").df()"
   ]
  },
  {
   "cell_type": "markdown",
   "metadata": {},
   "source": [
    "---\n",
    "\n",
    "### ⏸️ Pause and Try!\n",
    "\n",
    "**Your task:** Write a query from scratch to find transactions where:\n",
    "1. Price is between **$3 and $6** (use `BETWEEN`)\n",
    "2. Item is **NOT 'Coffee'** (use `!=` or `<>`)\n",
    "\n",
    "**Requirements:**\n",
    "- Use the `cafe` table\n",
    "- Combine both conditions with `AND`\n",
    "- Show: Transaction ID, Item, and Price Per Unit\n",
    "- Limit to 10 results\n",
    "\n",
    "Replace the placeholder query in the cell below with your complete SQL query."
   ]
  },
  {
   "cell_type": "code",
   "execution_count": null,
   "metadata": {
    "execution": {
     "iopub.execute_input": "2025-10-13T14:25:27.274699Z",
     "iopub.status.busy": "2025-10-13T14:25:27.274647Z",
     "iopub.status.idle": "2025-10-13T14:25:27.276712Z",
     "shell.execute_reply": "2025-10-13T14:25:27.276544Z"
    }
   },
   "outputs": [],
   "source": [
    "# Your turn! Write your query here:\n",
    "con.execute(\"SELECT 1 AS todo\").df()  # Replace this entire query with your answer"
   ]
  },
  {
   "cell_type": "markdown",
   "metadata": {},
   "source": [
    "---\n",
    "\n",
    "### ⏸️ Pause and Try!\n",
    "\n",
    "Before moving on, modify the query above to find transactions where:\n",
    "- Price is between **$3 and $6** (use BETWEEN)\n",
    "- Item is **NOT 'Coffee'** (use `!=` or `<>`)\n",
    "\n",
    "Try it in the cell below before continuing!\n",
    "\n",
    "**Hint:** You'll need `AND` to combine both conditions."
   ]
  },
  {
   "cell_type": "markdown",
   "metadata": {},
   "source": [
    "### Example 7: LIKE for Pattern Matching\n",
    "\n",
    "**Business question:** \"Find all items with 'Salad' in the name.\"\n",
    "\n",
    "**Wildcards:**\n",
    "- `%` = any number of characters\n",
    "- `_` = exactly one character"
   ]
  },
  {
   "cell_type": "code",
   "execution_count": null,
   "metadata": {
    "execution": {
     "iopub.execute_input": "2025-10-13T14:25:27.277551Z",
     "iopub.status.busy": "2025-10-13T14:25:27.277502Z",
     "iopub.status.idle": "2025-10-13T14:25:27.280092Z",
     "shell.execute_reply": "2025-10-13T14:25:27.279926Z"
    }
   },
   "outputs": [],
   "source": [
    "con.execute(\"\"\"\n",
    "    SELECT DISTINCT\n",
    "        Item\n",
    "    FROM cafe\n",
    "    WHERE Item LIKE '%Salad%'\n",
    "    LIMIT 10\n",
    "\"\"\").df()"
   ]
  },
  {
   "cell_type": "markdown",
   "metadata": {},
   "source": [
    "**Pattern examples:**\n",
    "- `'%Latte%'` - Contains \"Latte\" anywhere\n",
    "- `'Latte%'` - Starts with \"Latte\"\n",
    "- `'%Latte'` - Ends with \"Latte\"\n",
    "- `'_offee'` - Exactly 6 characters, ends with \"offee\""
   ]
  },
  {
   "cell_type": "markdown",
   "metadata": {},
   "source": [
    "### Example 8: CRITICAL - NULL Handling\n",
    "\n",
    "> **🚨 MOST IMPORTANT CONCEPT: NULL is special**\n",
    "\n",
    "**NULL means \"unknown\" or \"missing.\" It is NOT:**\n",
    "- Zero\n",
    "- Empty string\n",
    "- False\n",
    "\n",
    "**THE #1 MISTAKE: Using = NULL**"
   ]
  },
  {
   "cell_type": "code",
   "execution_count": null,
   "metadata": {
    "execution": {
     "iopub.execute_input": "2025-10-13T14:25:27.280921Z",
     "iopub.status.busy": "2025-10-13T14:25:27.280874Z",
     "iopub.status.idle": "2025-10-13T14:25:27.282800Z",
     "shell.execute_reply": "2025-10-13T14:25:27.282620Z"
    }
   },
   "outputs": [],
   "source": [
    "# ❌ WRONG - This doesn't work!\n",
    "con.execute(\"\"\"\n",
    "    SELECT COUNT(*) as count\n",
    "    FROM cafe\n",
    "    WHERE \"Payment Method\" = NULL\n",
    "\"\"\").df()"
   ]
  },
  {
   "cell_type": "markdown",
   "metadata": {},
   "source": [
    "**Result: 0 rows.** This is WRONG! We have NULL values, but `= NULL` doesn't find them.\n",
    "\n",
    "**Why?** In SQL, NULL is not equal to anything, not even NULL!"
   ]
  },
  {
   "cell_type": "code",
   "execution_count": null,
   "metadata": {
    "execution": {
     "iopub.execute_input": "2025-10-13T14:25:27.283590Z",
     "iopub.status.busy": "2025-10-13T14:25:27.283539Z",
     "iopub.status.idle": "2025-10-13T14:25:27.285518Z",
     "shell.execute_reply": "2025-10-13T14:25:27.285366Z"
    }
   },
   "outputs": [],
   "source": [
    "# ✅ CORRECT - Use IS NULL\n",
    "con.execute(\"\"\"\n",
    "    SELECT COUNT(*) as count\n",
    "    FROM cafe\n",
    "    WHERE \"Payment Method\" IS NULL\n",
    "\"\"\").df()"
   ]
  },
  {
   "cell_type": "markdown",
   "metadata": {},
   "source": [
    "**Much better!** Now we found the missing payment methods."
   ]
  },
  {
   "cell_type": "code",
   "execution_count": null,
   "metadata": {
    "execution": {
     "iopub.execute_input": "2025-10-13T14:25:27.286337Z",
     "iopub.status.busy": "2025-10-13T14:25:27.286277Z",
     "iopub.status.idle": "2025-10-13T14:25:27.288250Z",
     "shell.execute_reply": "2025-10-13T14:25:27.288078Z"
    }
   },
   "outputs": [],
   "source": [
    "# Check for non-NULL values\n",
    "con.execute(\"\"\"\n",
    "    SELECT COUNT(*) as count\n",
    "    FROM cafe\n",
    "    WHERE \"Payment Method\" IS NOT NULL\n",
    "\"\"\").df()"
   ]
  },
  {
   "cell_type": "markdown",
   "metadata": {},
   "source": [
    "**NULL in comparisons:**"
   ]
  },
  {
   "cell_type": "code",
   "execution_count": null,
   "metadata": {
    "execution": {
     "iopub.execute_input": "2025-10-13T14:25:27.289181Z",
     "iopub.status.busy": "2025-10-13T14:25:27.289124Z",
     "iopub.status.idle": "2025-10-13T14:25:27.291292Z",
     "shell.execute_reply": "2025-10-13T14:25:27.291129Z"
    }
   },
   "outputs": [],
   "source": [
    "# WHERE \"Price Per Unit\" > 0 automatically excludes NULLs\n",
    "result_with_nulls = con.execute(\"\"\"\n",
    "    SELECT COUNT(*) as total_rows FROM cafe WHERE \"Price Per Unit\" IS NOT NULL\n",
    "\"\"\").df()\n",
    "\n",
    "result_filtered = con.execute(\"\"\"\n",
    "    SELECT COUNT(*) as filtered_rows FROM cafe WHERE \"Price Per Unit\" > 0\n",
    "\"\"\").df()\n",
    "\n",
    "print(f\"Total non-NULL prices: {result_with_nulls['total_rows'][0]:,}\")\n",
    "print(f\"Prices > 0: {result_filtered['filtered_rows'][0]:,}\")\n",
    "print(\"\\n⚠️  Comparison operators automatically exclude NULLs!\")"
   ]
  },
  {
   "cell_type": "markdown",
   "metadata": {},
   "source": [
    "**Key Takeaways:**\n",
    "1. ❌ **NEVER use `= NULL`** - it doesn't work\n",
    "2. ✅ **Use `IS NULL`** to find NULL values\n",
    "3. ✅ **Use `IS NOT NULL`** to exclude NULL values\n",
    "4. ⚠️ Comparison operators (`>`, `<`, `=`) automatically exclude NULLs\n",
    "\n",
    "---"
   ]
  },
  {
   "cell_type": "markdown",
   "metadata": {},
   "source": [
    "## 7. Calculated Columns\n",
    "\n",
    "> **Create new columns in your query results**\n",
    "\n",
    "You can perform calculations and create new columns on-the-fly."
   ]
  },
  {
   "cell_type": "markdown",
   "metadata": {},
   "source": [
    "### Example 1: Basic Calculation\n",
    "\n",
    "**Business question:** \"What's the total revenue per transaction?\""
   ]
  },
  {
   "cell_type": "code",
   "execution_count": null,
   "metadata": {
    "execution": {
     "iopub.execute_input": "2025-10-13T14:25:27.292307Z",
     "iopub.status.busy": "2025-10-13T14:25:27.292244Z",
     "iopub.status.idle": "2025-10-13T14:25:27.295442Z",
     "shell.execute_reply": "2025-10-13T14:25:27.295266Z"
    }
   },
   "outputs": [],
   "source": [
    "con.execute(\"\"\"\n",
    "    SELECT \n",
    "        \"Transaction ID\",\n",
    "        Item,\n",
    "        \"Price Per Unit\",\n",
    "        Quantity,\n",
    "        \"Price Per Unit\"* Quantity AS total_revenue\n",
    "    FROM cafe\n",
    "    LIMIT 10\n",
    "\"\"\").df()"
   ]
  },
  {
   "cell_type": "markdown",
   "metadata": {},
   "source": [
    "**Note:** The `AS total_revenue` gives our calculation a name. Without it, the column would be called something ugly like `Price * Quantity`."
   ]
  },
  {
   "cell_type": "markdown",
   "metadata": {},
   "source": [
    "### Example 2: Multiple Calculations\n",
    "\n",
    "**Business question:** \"Show revenue and estimated tax per transaction.\""
   ]
  },
  {
   "cell_type": "code",
   "execution_count": null,
   "metadata": {
    "execution": {
     "iopub.execute_input": "2025-10-13T14:25:27.296385Z",
     "iopub.status.busy": "2025-10-13T14:25:27.296333Z",
     "iopub.status.idle": "2025-10-13T14:25:27.299879Z",
     "shell.execute_reply": "2025-10-13T14:25:27.299702Z"
    }
   },
   "outputs": [],
   "source": [
    "con.execute(\"\"\"\n",
    "    SELECT \n",
    "        \"Transaction ID\",\n",
    "        Item,\n",
    "        \"Price Per Unit\",\n",
    "        Quantity,\n",
    "        \"Price Per Unit\"* Quantity AS revenue,\n",
    "        \"Price Per Unit\"* Quantity * 0.10 AS tax,\n",
    "        \"Price Per Unit\"* Quantity * 1.10 AS total_with_tax\n",
    "    FROM cafe\n",
    "    WHERE \"Price Per Unit\"IS NOT NULL AND Quantity IS NOT NULL\n",
    "    LIMIT 10\n",
    "\"\"\").df()"
   ]
  },
  {
   "cell_type": "markdown",
   "metadata": {},
   "source": [
    "### Example 3: Using ROUND for Clean Output\n",
    "\n",
    "**Clean up decimal places:**"
   ]
  },
  {
   "cell_type": "code",
   "execution_count": null,
   "metadata": {
    "execution": {
     "iopub.execute_input": "2025-10-13T14:25:27.300717Z",
     "iopub.status.busy": "2025-10-13T14:25:27.300661Z",
     "iopub.status.idle": "2025-10-13T14:25:27.304052Z",
     "shell.execute_reply": "2025-10-13T14:25:27.303889Z"
    }
   },
   "outputs": [],
   "source": [
    "con.execute(\"\"\"\n",
    "    SELECT \n",
    "        \"Transaction ID\",\n",
    "        Item,\n",
    "        \"Price Per Unit\",\n",
    "        Quantity,\n",
    "        ROUND(\"Price Per Unit\"* Quantity, 2) AS revenue,\n",
    "        ROUND(\"Price Per Unit\"* Quantity * 0.10, 2) AS tax\n",
    "    FROM cafe\n",
    "    WHERE \"Price Per Unit\"IS NOT NULL AND Quantity IS NOT NULL\n",
    "    LIMIT 10\n",
    "\"\"\").df()"
   ]
  },
  {
   "cell_type": "markdown",
   "metadata": {},
   "source": [
    "**Common calculations:**\n",
    "- Arithmetic: `+`, `-`, `*`, `/`\n",
    "- Rounding: `ROUND(value, decimals)`\n",
    "- Absolute value: `ABS(value)`\n",
    "- String concatenation: `||` (e.g., `first_name || ' ' || last_name`)\n",
    "\n",
    "---"
   ]
  },
  {
   "cell_type": "markdown",
   "metadata": {},
   "source": [
    "## 8. ORDER BY: Sorting Results\n",
    "\n",
    "> **ORDER BY sorts your results**\n",
    "\n",
    "Structure:\n",
    "```sql\n",
    "SELECT columns\n",
    "FROM table\n",
    "WHERE conditions\n",
    "ORDER BY column [ASC|DESC]\n",
    "```\n",
    "\n",
    "**Important:** `ORDER BY` happens **last** - after filtering, after calculations."
   ]
  },
  {
   "cell_type": "markdown",
   "metadata": {},
   "source": [
    "### Example 1: Sort Ascending (Default)\n",
    "\n",
    "**Business question:** \"Show me items sorted by price, lowest first.\""
   ]
  },
  {
   "cell_type": "code",
   "execution_count": null,
   "metadata": {
    "execution": {
     "iopub.execute_input": "2025-10-13T14:25:27.304981Z",
     "iopub.status.busy": "2025-10-13T14:25:27.304927Z",
     "iopub.status.idle": "2025-10-13T14:25:27.307810Z",
     "shell.execute_reply": "2025-10-13T14:25:27.307622Z"
    }
   },
   "outputs": [],
   "source": [
    "con.execute(\"\"\"\n",
    "    SELECT \n",
    "        Item,\n",
    "        \"Price Per Unit\" FROM cafe\n",
    "    WHERE \"Price Per Unit\"IS NOT NULL\n",
    "    ORDER BY \"Price Per Unit\" ASC\n",
    "    LIMIT 10\n",
    "\"\"\").df()"
   ]
  },
  {
   "cell_type": "markdown",
   "metadata": {},
   "source": [
    "**Note:** `ASC` is optional - it's the default. This is the same:\n",
    "```sql\n",
    "ORDER BY Price\n",
    "```"
   ]
  },
  {
   "cell_type": "markdown",
   "metadata": {},
   "source": [
    "### Example 2: Sort Descending\n",
    "\n",
    "**Business question:** \"Show me the most expensive items first.\""
   ]
  },
  {
   "cell_type": "code",
   "execution_count": null,
   "metadata": {
    "execution": {
     "iopub.execute_input": "2025-10-13T14:25:27.308722Z",
     "iopub.status.busy": "2025-10-13T14:25:27.308666Z",
     "iopub.status.idle": "2025-10-13T14:25:27.311507Z",
     "shell.execute_reply": "2025-10-13T14:25:27.311335Z"
    }
   },
   "outputs": [],
   "source": [
    "con.execute(\"\"\"\n",
    "    SELECT \n",
    "        Item,\n",
    "        \"Price Per Unit\" FROM cafe\n",
    "    WHERE \"Price Per Unit\"IS NOT NULL\n",
    "    ORDER BY \"Price Per Unit\" DESC\n",
    "    LIMIT 10\n",
    "\"\"\").df()"
   ]
  },
  {
   "cell_type": "markdown",
   "metadata": {},
   "source": [
    "### Example 3: Sort by Multiple Columns\n",
    "\n",
    "**Business question:** \"Sort by payment method, then by price within each payment method.\""
   ]
  },
  {
   "cell_type": "code",
   "execution_count": null,
   "metadata": {
    "execution": {
     "iopub.execute_input": "2025-10-13T14:25:27.312387Z",
     "iopub.status.busy": "2025-10-13T14:25:27.312338Z",
     "iopub.status.idle": "2025-10-13T14:25:27.315645Z",
     "shell.execute_reply": "2025-10-13T14:25:27.315464Z"
    }
   },
   "outputs": [],
   "source": [
    "con.execute(\"\"\"\n",
    "    SELECT \n",
    "        \"Payment Method\",\n",
    "        Item,\n",
    "        \"Price Per Unit\" FROM cafe\n",
    "    WHERE \"Price Per Unit\"IS NOT NULL AND \"Payment Method\" IS NOT NULL\n",
    "    ORDER BY \"Payment Method\" ASC, \"Price Per Unit\" DESC\n",
    "    LIMIT 20\n",
    "\"\"\").df()"
   ]
  },
  {
   "cell_type": "markdown",
   "metadata": {},
   "source": [
    "**How it works:**\n",
    "1. First, sort by `Payment_Method` (A to Z)\n",
    "2. Within each payment method, sort by `Price` (high to low)\n",
    "\n",
    "**Use case:** \"Top products in each category\""
   ]
  },
  {
   "cell_type": "markdown",
   "metadata": {},
   "source": [
    "### Example 4: Sort by Calculated Column\n",
    "\n",
    "**Business question:** \"Show highest revenue transactions first.\""
   ]
  },
  {
   "cell_type": "code",
   "execution_count": null,
   "metadata": {
    "execution": {
     "iopub.execute_input": "2025-10-13T14:25:27.316531Z",
     "iopub.status.busy": "2025-10-13T14:25:27.316474Z",
     "iopub.status.idle": "2025-10-13T14:25:27.319916Z",
     "shell.execute_reply": "2025-10-13T14:25:27.319747Z"
    }
   },
   "outputs": [],
   "source": [
    "con.execute(\"\"\"\n",
    "    SELECT \n",
    "        \"Transaction ID\",\n",
    "        Item,\n",
    "        \"Price Per Unit\",\n",
    "        Quantity,\n",
    "        \"Price Per Unit\"* Quantity AS revenue\n",
    "    FROM cafe\n",
    "    WHERE \"Price Per Unit\"IS NOT NULL AND Quantity IS NOT NULL\n",
    "    ORDER BY revenue DESC\n",
    "    LIMIT 10\n",
    "\"\"\").df()"
   ]
  },
  {
   "cell_type": "markdown",
   "metadata": {},
   "source": [
    "**Note:** You can reference the alias (`revenue`) in ORDER BY, even though the calculation happens in SELECT!\n",
    "\n",
    "---"
   ]
  },
  {
   "cell_type": "markdown",
   "metadata": {},
   "source": [
    "## 9. Putting It All Together\n",
    "\n",
    "Let's combine everything we've learned into more complex queries."
   ]
  },
  {
   "cell_type": "markdown",
   "metadata": {},
   "source": [
    "### Example 1: Complex Business Query\n",
    "\n",
    "**Business question:** \n",
    "> \"Show me all salad sales priced at $4 or more, paid by credit card, with revenue calculated, sorted by revenue descending.\""
   ]
  },
  {
   "cell_type": "code",
   "execution_count": null,
   "metadata": {
    "execution": {
     "iopub.execute_input": "2025-10-13T14:25:27.320895Z",
     "iopub.status.busy": "2025-10-13T14:25:27.320844Z",
     "iopub.status.idle": "2025-10-13T14:25:27.324963Z",
     "shell.execute_reply": "2025-10-13T14:25:27.324789Z"
    }
   },
   "outputs": [],
   "source": [
    "con.execute(\"\"\"\n",
    "    SELECT \n",
    "        \"Transaction ID\",\n",
    "        Item,\n",
    "        \"Price Per Unit\",\n",
    "        Quantity,\n",
    "        \"Payment Method\",\n",
    "        ROUND(\"Price Per Unit\" * Quantity, 2) AS revenue\n",
    "    FROM cafe\n",
    "    WHERE Item = 'Salad'\n",
    "      AND \"Price Per Unit\" >= 4.00\n",
    "      AND \"Payment Method\" = 'Credit Card'\n",
    "      AND \"Price Per Unit\" IS NOT NULL\n",
    "      AND Quantity IS NOT NULL\n",
    "    ORDER BY revenue DESC\n",
    "    LIMIT 20\n",
    "\"\"\").df()"
   ]
  },
  {
   "cell_type": "markdown",
   "metadata": {},
   "source": [
    "**Breaking it down:**\n",
    "1. **SELECT** - Choose columns and calculate revenue\n",
    "2. **FROM** - Which table\n",
    "3. **WHERE** - Filter to salad, price >= $4, credit card, non-NULLs\n",
    "4. **ORDER BY** - Sort by revenue, highest first\n",
    "5. **LIMIT** - Show top 20\n",
    "\n",
    "This reads almost like English!"
   ]
  },
  {
   "cell_type": "markdown",
   "metadata": {},
   "source": [
    "### Example 2: Find High-Value Transactions\n",
    "\n",
    "**Business question:**\n",
    "> \"What are our largest transactions (revenue $20+)? Show item, revenue, and payment method.\""
   ]
  },
  {
   "cell_type": "code",
   "execution_count": null,
   "metadata": {
    "execution": {
     "iopub.execute_input": "2025-10-13T14:25:27.325900Z",
     "iopub.status.busy": "2025-10-13T14:25:27.325848Z",
     "iopub.status.idle": "2025-10-13T14:25:27.329314Z",
     "shell.execute_reply": "2025-10-13T14:25:27.329123Z"
    }
   },
   "outputs": [],
   "source": [
    "con.execute(\"\"\"\n",
    "    SELECT \n",
    "        \"Transaction ID\",\n",
    "        Item,\n",
    "        \"Payment Method\",\n",
    "        ROUND(\"Price Per Unit\" * Quantity, 2) AS revenue\n",
    "    FROM cafe\n",
    "    WHERE \"Price Per Unit\" * Quantity >= 20\n",
    "      AND \"Price Per Unit\" IS NOT NULL\n",
    "      AND Quantity IS NOT NULL\n",
    "    ORDER BY revenue DESC\n",
    "    LIMIT 15\n",
    "\"\"\").df()"
   ]
  },
  {
   "cell_type": "markdown",
   "metadata": {},
   "source": [
    "**Note:** We can use calculations in WHERE clause! `WHERE \"Price Per Unit\" * Quantity >= 20`"
   ]
  },
  {
   "cell_type": "markdown",
   "metadata": {},
   "source": [
    "## 10. Query Building Strategy\n",
    "\n",
    "When writing complex queries, build them incrementally:\n",
    "\n",
    "### Step 1: Start Simple\n",
    "```sql\n",
    "SELECT * FROM cafe LIMIT 5\n",
    "```\n",
    "\n",
    "### Step 2: Add Specific Columns\n",
    "```sql\n",
    "SELECT Item, Price, Quantity FROM cafe LIMIT 5\n",
    "```\n",
    "\n",
    "### Step 3: Add Filtering\n",
    "```sql\n",
    "SELECT Item, Price, Quantity \n",
    "FROM cafe \n",
    "WHERE Price > 5\n",
    "LIMIT 5\n",
    "```\n",
    "\n",
    "### Step 4: Add Calculations\n",
    "```sql\n",
    "SELECT Item, Price, Quantity, Price * Quantity AS revenue\n",
    "FROM cafe \n",
    "WHERE Price > 5\n",
    "LIMIT 5\n",
    "```\n",
    "\n",
    "### Step 5: Add Sorting\n",
    "```sql\n",
    "SELECT Item, Price, Quantity, Price * Quantity AS revenue\n",
    "FROM cafe \n",
    "WHERE Price > 5\n",
    "ORDER BY revenue DESC\n",
    "LIMIT 5\n",
    "```\n",
    "\n",
    "### Step 6: Remove LIMIT (or increase it)\n",
    "```sql\n",
    "SELECT Item, Price, Quantity, Price * Quantity AS revenue\n",
    "FROM cafe \n",
    "WHERE Price > 5\n",
    "ORDER BY revenue DESC\n",
    "```\n",
    "\n",
    "**Key tip:** Always use `LIMIT` while developing. Remove it only when you're ready for full results.\n",
    "\n",
    "---"
   ]
  },
  {
   "cell_type": "markdown",
   "metadata": {},
   "source": [
    "## 11. Common Mistakes Summary\n",
    "\n",
    "### ❌ Mistake 1: Using = NULL\n",
    "```sql\n",
    "WHERE column = NULL  -- ❌ Doesn't work!\n",
    "WHERE column IS NULL -- ✅ Correct\n",
    "```\n",
    "\n",
    "### ❌ Mistake 2: Forgetting Quotes on Strings\n",
    "```sql\n",
    "WHERE Item = Coffee     -- ❌ Error\n",
    "WHERE Item = 'Coffee'   -- ✅ Correct\n",
    "```\n",
    "\n",
    "### ❌ Mistake 3: Confusing AND vs OR\n",
    "```sql\n",
    "-- \"Coffee AND Tea\" = rows that are BOTH (impossible!)\n",
    "WHERE Item = 'Coffee' AND Item = 'Tea'  -- ❌ Returns nothing\n",
    "\n",
    "-- \"Coffee OR Tea\" = rows that are EITHER\n",
    "WHERE Item = 'Coffee' OR Item = 'Tea'   -- ✅ Correct\n",
    "-- Or better:\n",
    "WHERE Item IN ('Coffee', 'Tea')         -- ✅ Even better\n",
    "```\n",
    "\n",
    "### ❌ Mistake 4: Missing Parentheses in Complex Conditions\n",
    "```sql\n",
    "-- This might not mean what you think:\n",
    "WHERE Price > 5 AND Item = 'Coffee' OR Item = 'Tea'\n",
    "-- AND binds tighter than OR!\n",
    "\n",
    "-- Use parentheses for clarity:\n",
    "WHERE Price > 5 AND (Item = 'Coffee' OR Item = 'Tea')\n",
    "```\n",
    "\n",
    "### ❌ Mistake 5: Forgetting ORDER BY is Optional\n",
    "Without `ORDER BY`, results are in **arbitrary order**. Don't assume any default sorting!\n",
    "\n",
    "---"
   ]
  },
  {
   "cell_type": "markdown",
   "metadata": {},
   "source": [
    "## 12. Summary: What We Learned\n",
    "\n",
    "### SQL Fundamentals\n",
    "1. **Why SQL?** - Declarative, set-based, standard, optimized\n",
    "2. **Why DuckDB?** - No server, query files directly, fast, modern\n",
    "\n",
    "### Core Concepts\n",
    "3. **SELECT** - Choose which columns to return\n",
    "4. **WHERE** - Filter which rows to return\n",
    "   - Comparison operators: `=`, `>`, `<`, `>=`, `<=`, `!=`\n",
    "   - Logical operators: `AND`, `OR`, `NOT`\n",
    "   - Special operators: `IN`, `BETWEEN`, `LIKE`\n",
    "   - **NULL handling:** `IS NULL`, `IS NOT NULL` (never `= NULL`!)\n",
    "5. **Calculated columns** - Create new columns with expressions\n",
    "6. **ORDER BY** - Sort results (ASC or DESC)\n",
    "\n",
    "### Query Building\n",
    "7. Build incrementally: Start simple, add complexity\n",
    "8. Use `LIMIT` while developing\n",
    "9. Check for NULLs in WHERE clauses\n",
    "\n",
    "### Most Important Takeaway\n",
    "> **🚨 NEVER use `= NULL` - Always use `IS NULL` or `IS NOT NULL`**\n",
    "\n",
    "This is the #1 mistake beginners make. Don't be that person!\n",
    "\n",
    "---"
   ]
  },
  {
   "cell_type": "markdown",
   "metadata": {},
   "source": [
    "## Next: Aggregations & GROUP BY\n",
    "\n",
    "In the next notebook, we'll learn how to:\n",
    "- **Summarize data** with COUNT, SUM, AVG, MIN, MAX\n",
    "- **Group data** with GROUP BY\n",
    "- **Filter groups** with HAVING\n",
    "- Understand the critical difference between **WHERE and HAVING**\n",
    "\n",
    "You'll go from \"Show me transactions\" to \"Show me total revenue by category\" - that's when SQL gets really powerful!\n",
    "\n",
    "**Ready?** Open `day1_block_b_02_aggregations.ipynb`\n",
    "\n",
    "---\n",
    "\n",
    "**Great work!** 🎉 You've learned the foundations of SQL. Practice these concepts - they're the building blocks for everything else."
   ]
  }
 ],
 "metadata": {
  "kernelspec": {
   "display_name": "Python 3 (ipykernel)",
   "language": "python",
   "name": "python3"
  },
  "language_info": {
   "codemirror_mode": {
    "name": "ipython",
    "version": 3
   },
   "file_extension": ".py",
   "mimetype": "text/x-python",
   "name": "python",
   "nbconvert_exporter": "python",
   "pygments_lexer": "ipython3",
   "version": "3.12.9"
  }
 },
 "nbformat": 4,
 "nbformat_minor": 4
}
