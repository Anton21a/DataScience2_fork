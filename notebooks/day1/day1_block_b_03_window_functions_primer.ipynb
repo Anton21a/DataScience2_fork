{
 "cells": [
  {
   "cell_type": "markdown",
   "id": "cell-0",
   "metadata": {},
   "source": [
    "# Day 1, Block B: Window Functions Primer\n",
    "\n",
    "**Duration:** 20 minutes  \n",
    "**Course:** ECBS5294 - Introduction to Data Science: Working with Data  \n",
    "**Instructor:** Eduardo Ariño de la Rubia\n",
    "\n",
    "**Note:** This is a focused primer covering the essentials. For advanced topics like LAG(), LEAD(), and moving averages, see the **Window Functions Deep Dive** notebook.\n",
    "\n",
    "---\n",
    "\n",
    "## Learning Objectives\n",
    "\n",
    "By the end of this primer, you will be able to:\n",
    "\n",
    "1. **Explain the mental model:** Windows preserve rows; GROUP BY collapses rows\n",
    "2. **Decide when to use** window functions vs GROUP BY\n",
    "3. **Use ROW_NUMBER()** for \"latest record per group\" problems\n",
    "4. **Understand basic window function syntax** (PARTITION BY, ORDER BY)\n",
    "\n",
    "---"
   ]
  },
  {
   "cell_type": "markdown",
   "id": "cell-1",
   "metadata": {},
   "source": [
    "## 1. Introduction: The Problem Window Functions Solve\n",
    "\n",
    "### The Challenge\n",
    "\n",
    "You just learned GROUP BY. It's powerful:\n",
    "- \"Total revenue per product\" ✅\n",
    "- \"Count of transactions per month\" ✅\n",
    "\n",
    "But sometimes GROUP BY has a **limitation:**\n",
    "\n",
    "**Problem:** \"I want to see each transaction AND the total for that product.\"\n",
    "\n",
    "With GROUP BY:\n",
    "- You can see the total per product (1 row per product)\n",
    "- OR you can see all transactions (many rows)\n",
    "- But **not both at the same time!**\n",
    "\n",
    "GROUP BY **collapses** rows. What if you want the calculation **without collapsing**?\n",
    "\n",
    "**Enter: Window Functions**\n",
    "\n",
    "> **Window functions let you add calculations to your data WITHOUT collapsing rows.**\n",
    "\n",
    "This is incredibly powerful for analytics!\n",
    "\n",
    "---"
   ]
  },
  {
   "cell_type": "markdown",
   "id": "cell-2",
   "metadata": {},
   "source": [
    "## 2. Setup\n",
    "\n",
    "We're using **Superstore** data because:\n",
    "- Multiple orders **per customer** (great for ROW_NUMBER examples)\n",
    "- 4 years of time series data\n",
    "- ~10,000 rows - perfect for learning"
   ]
  },
  {
   "cell_type": "code",
   "execution_count": null,
   "id": "cell-3",
   "metadata": {
    "execution": {
     "iopub.execute_input": "2025-10-13T14:25:31.193065Z",
     "iopub.status.busy": "2025-10-13T14:25:31.192962Z",
     "iopub.status.idle": "2025-10-13T14:25:31.429323Z",
     "shell.execute_reply": "2025-10-13T14:25:31.428856Z"
    }
   },
   "outputs": [],
   "source": [
    "# Imports\n",
    "import duckdb\n",
    "import pandas as pd\n",
    "import warnings\n",
    "\n",
    "warnings.filterwarnings('ignore')\n",
    "\n",
    "print(\"✅ Libraries imported!\")"
   ]
  },
  {
   "cell_type": "code",
   "execution_count": null,
   "id": "cell-4",
   "metadata": {
    "execution": {
     "iopub.execute_input": "2025-10-13T14:25:31.431704Z",
     "iopub.status.busy": "2025-10-13T14:25:31.431431Z",
     "iopub.status.idle": "2025-10-13T14:25:31.442377Z",
     "shell.execute_reply": "2025-10-13T14:25:31.441920Z"
    }
   },
   "outputs": [],
   "source": [
    "# Connect to DuckDB\n",
    "con = duckdb.connect(':memory:')\n",
    "\n",
    "print(\"✅ Connected to DuckDB!\")"
   ]
  },
  {
   "cell_type": "code",
   "execution_count": null,
   "id": "cell-5",
   "metadata": {
    "execution": {
     "iopub.execute_input": "2025-10-13T14:25:31.445481Z",
     "iopub.status.busy": "2025-10-13T14:25:31.444275Z",
     "iopub.status.idle": "2025-10-13T14:25:31.480409Z",
     "shell.execute_reply": "2025-10-13T14:25:31.479155Z"
    }
   },
   "outputs": [],
   "source": [
    "# Load Superstore data\n",
    "# Note: Using encoding='latin-1' due to file encoding\n",
    "superstore = pd.read_csv('../../data/day1/Sample - Superstore.csv', encoding='latin-1')\n",
    "\n",
    "# Cast Order Date to datetime for proper DATE_TRUNC support\n",
    "superstore['Order Date'] = pd.to_datetime(superstore['Order Date'])\n",
    "\n",
    "# Register with DuckDB\n",
    "con.register('superstore', superstore)\n",
    "\n",
    "print(f\"✅ Loaded {len(superstore):,} rows!\")"
   ]
  },
  {
   "cell_type": "code",
   "execution_count": null,
   "id": "cell-6",
   "metadata": {
    "execution": {
     "iopub.execute_input": "2025-10-13T14:25:31.482383Z",
     "iopub.status.busy": "2025-10-13T14:25:31.482270Z",
     "iopub.status.idle": "2025-10-13T14:25:31.489331Z",
     "shell.execute_reply": "2025-10-13T14:25:31.489132Z"
    }
   },
   "outputs": [],
   "source": [
    "# Explore the data\n",
    "con.execute(\"\"\"\n",
    "    SELECT \n",
    "        \"Order ID\",\n",
    "        \"Order Date\",\n",
    "        \"Customer ID\",\n",
    "        \"Customer Name\",\n",
    "        Category,\n",
    "        \"Product Name\",\n",
    "        Sales\n",
    "    FROM superstore\n",
    "    LIMIT 5\n",
    "\"\"\").df()"
   ]
  },
  {
   "cell_type": "code",
   "execution_count": null,
   "id": "cell-7",
   "metadata": {
    "execution": {
     "iopub.execute_input": "2025-10-13T14:25:31.490373Z",
     "iopub.status.busy": "2025-10-13T14:25:31.490312Z",
     "iopub.status.idle": "2025-10-13T14:25:31.495561Z",
     "shell.execute_reply": "2025-10-13T14:25:31.495368Z"
    }
   },
   "outputs": [],
   "source": [
    "# Check date range\n",
    "con.execute(\"\"\"\n",
    "    SELECT \n",
    "        MIN(\"Order Date\") as first_order,\n",
    "        MAX(\"Order Date\") as last_order,\n",
    "        COUNT(DISTINCT \"Customer ID\") as unique_customers,\n",
    "        COUNT(*) as total_orders\n",
    "    FROM superstore\n",
    "\"\"\").df()"
   ]
  },
  {
   "cell_type": "markdown",
   "id": "cell-8",
   "metadata": {},
   "source": [
    "**Perfect!** ~10,000 orders across 4 years from ~800 customers. Great data for learning window functions.\n",
    "\n",
    "---"
   ]
  },
  {
   "cell_type": "markdown",
   "id": "cell-9",
   "metadata": {},
   "source": [
    "## 3. The Mental Model: Windows vs GROUP BY\n",
    "\n",
    "> **🚨 THIS IS THE MOST IMPORTANT CONCEPT**\n",
    "\n",
    "### The Core Difference\n",
    "\n",
    "| | GROUP BY | Window Functions |\n",
    "|---|---|---|\n",
    "| **What happens to rows?** | Collapses to summary | Keeps all rows |\n",
    "| **Output row count** | Fewer rows (one per group) | Same row count as input |\n",
    "| **Use when** | You want summary only | You want detail + calculation |\n",
    "| **Example** | \"Total sales per category\" | \"Each order + category total\" |\n",
    "\n",
    "Let's see this in action with real queries."
   ]
  },
  {
   "cell_type": "code",
   "execution_count": null,
   "id": "cell-10",
   "metadata": {
    "execution": {
     "iopub.execute_input": "2025-10-13T14:25:31.496592Z",
     "iopub.status.busy": "2025-10-13T14:25:31.496539Z",
     "iopub.status.idle": "2025-10-13T14:25:31.508024Z",
     "shell.execute_reply": "2025-10-13T14:25:31.507715Z"
    }
   },
   "outputs": [],
   "source": [
    "# ==============================================================================\n",
    "# THE CRITICAL DIFFERENCE: Side-by-Side Comparison\n",
    "# ==============================================================================\n",
    "\n",
    "from IPython.display import display\n",
    "\n",
    "print(\"=\"*70)\n",
    "print(\"APPROACH 1: GROUP BY (Collapses Rows)\")\n",
    "print(\"=\"*70)\n",
    "result_groupby = con.execute(\"\"\"\n",
    "    SELECT \n",
    "        Category,\n",
    "        COUNT(*) AS order_count\n",
    "    FROM superstore\n",
    "    GROUP BY Category\n",
    "    ORDER BY order_count DESC\n",
    "\"\"\").df()\n",
    "\n",
    "print(f\"\\n📊 Input: 9,994 rows\")\n",
    "print(f\"📉 Output: {len(result_groupby)} rows (one per category)\")\n",
    "print(f\"❌ We LOST all the details! Which products? Which customers? When?\\n\")\n",
    "display(result_groupby)\n",
    "\n",
    "print(\"\\n\" + \"=\"*70)\n",
    "print(\"APPROACH 2: WINDOW FUNCTION (Preserves Rows)\")\n",
    "print(\"=\"*70)\n",
    "result_window = con.execute(\"\"\"\n",
    "    SELECT \n",
    "        \"Order ID\",\n",
    "        \"Product Name\",\n",
    "        Category,\n",
    "        Sales,\n",
    "        COUNT(*) OVER (PARTITION BY Category) AS category_order_count\n",
    "    FROM superstore\n",
    "    LIMIT 10\n",
    "\"\"\").df()\n",
    "\n",
    "print(f\"\\n📊 Input: 9,994 rows\")\n",
    "print(f\"📈 Output: 9,994 rows (all kept!)\")\n",
    "print(f\"✅ We KEPT everything AND added the count!\\n\")\n",
    "print(\"(Showing first 10 rows)\\n\")\n",
    "display(result_window)\n",
    "\n",
    "print(\"\\n\" + \"=\"*70)\n",
    "print(\"🔑 KEY INSIGHT:\")\n",
    "print(\"=\"*70)\n",
    "print(\"   GROUP BY:  9,994 rows  →  3 rows      (COLLAPSED)\")\n",
    "print(\"   Window:    9,994 rows  →  9,994 rows  (PRESERVED)\")\n",
    "print(\"=\"*70)\n",
    "print(\"\\n💡 This is why window functions are powerful:\")\n",
    "print(\"   You get the DETAIL + the AGGREGATE in the same result!\")\n",
    "print(\"=\"*70)"
   ]
  },
  {
   "cell_type": "markdown",
   "id": "cell-11",
   "metadata": {},
   "source": [
    "**See the difference?**\n",
    "- All detail rows are still there!\n",
    "- But we've added a new column: `category_order_count`\n",
    "- Every row in \"Furniture\" shows the same count\n",
    "- Every row in \"Technology\" shows its count\n",
    "\n",
    "**The calculation happened \"over a window\" of rows, but we kept all rows!**\n",
    "\n",
    "---"
   ]
  },
  {
   "cell_type": "markdown",
   "id": "cell-12",
   "metadata": {},
   "source": [
    "## 4. When to Use Each\n",
    "\n",
    "### Decision Guide\n",
    "\n",
    "**Use GROUP BY when:**\n",
    "- ✅ You want summary only (one row per group)\n",
    "- ✅ You don't need row-level details\n",
    "- ✅ Example: \"What's our revenue per region?\" (just the totals)\n",
    "\n",
    "**Use Window Functions when:**\n",
    "- ✅ You want detail + calculation\n",
    "- ✅ You need ranking (1st, 2nd, 3rd...)\n",
    "- ✅ You need row-to-row comparisons (\"this month vs last month\")\n",
    "- ✅ You need to filter AFTER calculating (\"show me the top 3 per category\")\n",
    "- ✅ Example: \"Show me all orders, with each order's rank within its category\"\n",
    "\n",
    "**Key insight:** If GROUP BY loses information you need, use window functions!\n",
    "\n",
    "---"
   ]
  },
  {
   "cell_type": "markdown",
   "id": "cell-13",
   "metadata": {},
   "source": [
    "## 5. Basic Window Function Syntax\n",
    "\n",
    "### Simple Example: No PARTITION or ORDER"
   ]
  },
  {
   "cell_type": "code",
   "execution_count": null,
   "id": "cell-14",
   "metadata": {
    "execution": {
     "iopub.execute_input": "2025-10-13T14:25:31.509063Z",
     "iopub.status.busy": "2025-10-13T14:25:31.508991Z",
     "iopub.status.idle": "2025-10-13T14:25:31.513701Z",
     "shell.execute_reply": "2025-10-13T14:25:31.513504Z"
    }
   },
   "outputs": [],
   "source": [
    "# Add total order count to every row\n",
    "con.execute(\"\"\"\n",
    "    SELECT \n",
    "        \"Order ID\",\n",
    "        \"Product Name\",\n",
    "        COUNT(*) OVER () AS total_orders_in_dataset\n",
    "    FROM superstore\n",
    "    LIMIT 5\n",
    "\"\"\").df()"
   ]
  },
  {
   "cell_type": "markdown",
   "id": "cell-15",
   "metadata": {},
   "source": [
    "**What happened:** `COUNT(*) OVER ()` with empty `()` means \"count ALL rows\" and add that number to every row."
   ]
  },
  {
   "cell_type": "markdown",
   "id": "cell-16",
   "metadata": {},
   "source": [
    "### With PARTITION BY"
   ]
  },
  {
   "cell_type": "code",
   "execution_count": null,
   "id": "cell-17",
   "metadata": {
    "execution": {
     "iopub.execute_input": "2025-10-13T14:25:31.514674Z",
     "iopub.status.busy": "2025-10-13T14:25:31.514616Z",
     "iopub.status.idle": "2025-10-13T14:25:31.520652Z",
     "shell.execute_reply": "2025-10-13T14:25:31.520442Z"
    }
   },
   "outputs": [],
   "source": [
    "# Add count PER CATEGORY to every row\n",
    "con.execute(\"\"\"\n",
    "    SELECT \n",
    "        \"Order ID\",\n",
    "        \"Product Name\",\n",
    "        Category,\n",
    "        COUNT(*) OVER (PARTITION BY Category) AS category_count\n",
    "    FROM superstore\n",
    "    LIMIT 10\n",
    "\"\"\").df()"
   ]
  },
  {
   "cell_type": "markdown",
   "id": "cell-18",
   "metadata": {},
   "source": [
    "**PARTITION BY is like GROUP BY for window functions!**\n",
    "- \"PARTITION BY Category\" = \"For each category...\"\n",
    "- COUNT happens within each partition\n",
    "- But all rows are kept!\n",
    "\n",
    "### Window Function Syntax Template\n",
    "\n",
    "```sql\n",
    "<function>() OVER (\n",
    "    PARTITION BY group_column    -- Optional: \"for each...\"\n",
    "    ORDER BY sort_column         -- When order matters (required for some functions)\n",
    ")\n",
    "```\n",
    "\n",
    "---"
   ]
  },
  {
   "cell_type": "markdown",
   "id": "cell-19",
   "metadata": {},
   "source": [
    "## 6. The Most Common Use Case: ROW_NUMBER()\n",
    "\n",
    "### The Business Problem\n",
    "\n",
    "> **\"I want the most recent order for each customer.\"**\n",
    "\n",
    "This is a VERY common pattern in data analysis:\n",
    "- Latest transaction per customer\n",
    "- Most recent login per user\n",
    "- Current status per order\n",
    "\n",
    "### Why GROUP BY Fails"
   ]
  },
  {
   "cell_type": "code",
   "execution_count": null,
   "id": "cell-20",
   "metadata": {
    "execution": {
     "iopub.execute_input": "2025-10-13T14:25:31.521719Z",
     "iopub.status.busy": "2025-10-13T14:25:31.521653Z",
     "iopub.status.idle": "2025-10-13T14:25:31.526685Z",
     "shell.execute_reply": "2025-10-13T14:25:31.526521Z"
    }
   },
   "outputs": [],
   "source": [
    "# Try with GROUP BY: Get latest date per customer\n",
    "con.execute(\"\"\"\n",
    "    SELECT \n",
    "        \"Customer ID\",\n",
    "        \"Customer Name\",\n",
    "        MAX(\"Order Date\") AS latest_order_date\n",
    "    FROM superstore\n",
    "    GROUP BY \"Customer ID\", \"Customer Name\"\n",
    "    LIMIT 5\n",
    "\"\"\").df()"
   ]
  },
  {
   "cell_type": "markdown",
   "id": "cell-21",
   "metadata": {},
   "source": [
    "**Problem:** We got the date, but we **lost the order details!**\n",
    "- What was ordered?\n",
    "- What category?\n",
    "- Order ID?\n",
    "- Sales amount?\n",
    "\n",
    "GROUP BY collapsed everything. We need a different approach."
   ]
  },
  {
   "cell_type": "markdown",
   "id": "cell-22",
   "metadata": {},
   "source": [
    "### Solution: ROW_NUMBER()\n",
    "\n",
    "> **ROW_NUMBER() assigns a sequential number to each row within a group**\n",
    "\n",
    "Strategy:\n",
    "1. For each customer, rank orders by date (newest = 1)\n",
    "2. Keep all the row details\n",
    "3. Filter to rank = 1"
   ]
  },
  {
   "cell_type": "markdown",
   "id": "cell-23",
   "metadata": {},
   "source": [
    "### Step 1: Add Row Numbers"
   ]
  },
  {
   "cell_type": "code",
   "execution_count": null,
   "id": "cell-24",
   "metadata": {
    "execution": {
     "iopub.execute_input": "2025-10-13T14:25:31.527623Z",
     "iopub.status.busy": "2025-10-13T14:25:31.527566Z",
     "iopub.status.idle": "2025-10-13T14:25:31.535648Z",
     "shell.execute_reply": "2025-10-13T14:25:31.535407Z"
    }
   },
   "outputs": [],
   "source": [
    "# Add row numbers\n",
    "con.execute(\"\"\"\n",
    "    SELECT \n",
    "        \"Customer ID\",\n",
    "        \"Customer Name\",\n",
    "        \"Order ID\",\n",
    "        \"Order Date\",\n",
    "        Category,\n",
    "        Sales,\n",
    "        ROW_NUMBER() OVER (\n",
    "            PARTITION BY \"Customer ID\" \n",
    "            ORDER BY \"Order Date\" DESC\n",
    "        ) AS row_num\n",
    "    FROM superstore\n",
    "    LIMIT 20\n",
    "\"\"\").df()"
   ]
  },
  {
   "cell_type": "markdown",
   "id": "cell-25",
   "metadata": {},
   "source": [
    "**Breaking it down:**\n",
    "- `PARTITION BY \"Customer ID\"` = For each customer...\n",
    "- `ORDER BY \"Order Date\" DESC` = Sort by date, newest first\n",
    "- `ROW_NUMBER()` = Assign 1, 2, 3, ...\n",
    "\n",
    "**Result:** Each customer's orders are numbered, 1 = most recent!"
   ]
  },
  {
   "cell_type": "markdown",
   "id": "cell-26",
   "metadata": {},
   "source": [
    "### Step 2: Filter to Latest Only"
   ]
  },
  {
   "cell_type": "code",
   "execution_count": null,
   "id": "cell-27",
   "metadata": {
    "execution": {
     "iopub.execute_input": "2025-10-13T14:25:31.536719Z",
     "iopub.status.busy": "2025-10-13T14:25:31.536657Z",
     "iopub.status.idle": "2025-10-13T14:25:31.544703Z",
     "shell.execute_reply": "2025-10-13T14:25:31.544517Z"
    }
   },
   "outputs": [],
   "source": [
    "# Now filter to row_num = 1 using a subquery\n",
    "con.execute(\"\"\"\n",
    "    SELECT \n",
    "        \"Customer ID\",\n",
    "        \"Customer Name\",\n",
    "        \"Order ID\",\n",
    "        \"Order Date\",\n",
    "        Category,\n",
    "        \"Product Name\",\n",
    "        Sales\n",
    "    FROM (\n",
    "        SELECT \n",
    "            \"Customer ID\",\n",
    "            \"Customer Name\",\n",
    "            \"Order ID\",\n",
    "            \"Order Date\",\n",
    "            Category,\n",
    "            \"Product Name\",\n",
    "            Sales,\n",
    "            ROW_NUMBER() OVER (\n",
    "                PARTITION BY \"Customer ID\" \n",
    "                ORDER BY \"Order Date\" DESC\n",
    "            ) AS row_num\n",
    "        FROM superstore\n",
    "    )\n",
    "    WHERE row_num = 1\n",
    "    ORDER BY \"Order Date\" DESC\n",
    "    LIMIT 10\n",
    "\"\"\").df()"
   ]
  },
  {
   "cell_type": "markdown",
   "id": "cell-28",
   "metadata": {},
   "source": [
    "**Perfect!** Now we have:\n",
    "- ✅ Latest order per customer\n",
    "- ✅ All order details (Product, Category, Sales, etc.)\n",
    "- ✅ No information lost!\n",
    "\n",
    "**Key pattern:** Window functions add columns, they don't filter. Use a **subquery** to filter on the window result.\n",
    "\n",
    "---"
   ]
  },
  {
   "cell_type": "markdown",
   "id": "cell-29",
   "metadata": {},
   "source": [
    "### ⏸️ Pause and Try!\n",
    "\n",
    "**Your task:** Modify the query above to get the **TOP 3** orders per customer (not just the latest).\n",
    "\n",
    "**Requirements:**\n",
    "1. Use the same ROW_NUMBER pattern\n",
    "2. Change the `WHERE` filter to get top 3 instead of latest (hint: `<= 3`)\n",
    "3. Keep all the same columns in the output\n",
    "4. Order by Customer ID and row_num\n",
    "5. Limit to 15 rows total\n",
    "\n",
    "Replace the placeholder query in the cell below with your complete SQL query."
   ]
  },
  {
   "cell_type": "code",
   "execution_count": null,
   "id": "cell-30",
   "metadata": {
    "execution": {
     "iopub.execute_input": "2025-10-13T14:25:31.545595Z",
     "iopub.status.busy": "2025-10-13T14:25:31.545536Z",
     "iopub.status.idle": "2025-10-13T14:25:31.547704Z",
     "shell.execute_reply": "2025-10-13T14:25:31.547512Z"
    }
   },
   "outputs": [],
   "source": [
    "# Your turn! Write your TOP 3 query here:\n",
    "con.execute(\"SELECT 1 AS todo\").df()  # Replace this entire query with your answer"
   ]
  },
  {
   "cell_type": "markdown",
   "id": "cell-31",
   "metadata": {},
   "source": [
    "### Solution: Top 3 Orders Per Customer"
   ]
  },
  {
   "cell_type": "code",
   "execution_count": null,
   "id": "cell-32",
   "metadata": {
    "execution": {
     "iopub.execute_input": "2025-10-13T14:25:31.548597Z",
     "iopub.status.busy": "2025-10-13T14:25:31.548542Z",
     "iopub.status.idle": "2025-10-13T14:25:31.555905Z",
     "shell.execute_reply": "2025-10-13T14:25:31.555702Z"
    }
   },
   "outputs": [],
   "source": [
    "# Get top 3 most recent orders per customer\n",
    "con.execute(\"\"\"\n",
    "    SELECT \n",
    "        \"Customer ID\",\n",
    "        \"Customer Name\",\n",
    "        \"Order Date\",\n",
    "        Sales,\n",
    "        row_num\n",
    "    FROM (\n",
    "        SELECT \n",
    "            \"Customer ID\",\n",
    "            \"Customer Name\",\n",
    "            \"Order Date\",\n",
    "            Sales,\n",
    "            ROW_NUMBER() OVER (\n",
    "                PARTITION BY \"Customer ID\" \n",
    "                ORDER BY \"Order Date\" DESC\n",
    "            ) AS row_num\n",
    "        FROM superstore\n",
    "    )\n",
    "    WHERE row_num <= 3\n",
    "    ORDER BY \"Customer ID\", row_num\n",
    "    LIMIT 15\n",
    "\"\"\").df()"
   ]
  },
  {
   "cell_type": "markdown",
   "id": "cell-33",
   "metadata": {},
   "source": [
    "**Just change the filter!** `WHERE row_num <= 3` gives top 3 per customer.\n",
    "\n",
    "**This pattern works for:**\n",
    "- Top N products per category\n",
    "- Latest N transactions per account\n",
    "- Most recent N logins per user\n",
    "\n",
    "---"
   ]
  },
  {
   "cell_type": "markdown",
   "id": "cell-34",
   "metadata": {},
   "source": [
    "## 7. Summary: What You Learned\n",
    "\n",
    "### Key Concepts\n",
    "\n",
    "1. ✅ **Windows preserve rows, GROUP BY collapses**\n",
    "   - GROUP BY: 10,000 rows → 3 rows (summary)\n",
    "   - Windows: 10,000 rows → 10,000 rows (detail + calculation)\n",
    "\n",
    "2. ✅ **Use PARTITION BY for groups** (like GROUP BY for windows)\n",
    "   - `PARTITION BY Category` = \"For each category...\"\n",
    "   - But all rows are kept!\n",
    "\n",
    "3. ✅ **Use ORDER BY when order matters**\n",
    "   - Required for ROW_NUMBER() to know what \"first\" means\n",
    "   - `ORDER BY date DESC` = Newest first\n",
    "\n",
    "4. ✅ **ROW_NUMBER() for \"latest/top N per group\"**\n",
    "   - Add row numbers with PARTITION BY + ORDER BY\n",
    "   - Filter with subquery: `WHERE row_num = 1`\n",
    "\n",
    "5. ✅ **Pattern for filtering:** Use subquery\n",
    "   - Window functions ADD columns\n",
    "   - To FILTER on those columns, wrap in subquery\n",
    "\n",
    "### Syntax You Know\n",
    "\n",
    "```sql\n",
    "-- Basic window\n",
    "COUNT(*) OVER (PARTITION BY category)\n",
    "\n",
    "-- ROW_NUMBER for ranking\n",
    "ROW_NUMBER() OVER (PARTITION BY customer_id ORDER BY date DESC)\n",
    "\n",
    "-- Filter pattern (subquery)\n",
    "SELECT * FROM (\n",
    "    SELECT *, ROW_NUMBER() OVER (...) AS row_num\n",
    "    FROM table\n",
    ")\n",
    "WHERE row_num = 1\n",
    "```\n",
    "\n",
    "### Ready for More?\n",
    "\n",
    "This primer covered the essentials. If you want to learn:\n",
    "- **LAG()/LEAD()** for period-over-period comparisons (\"this month vs last month\")\n",
    "- **Moving averages** with ROWS BETWEEN frame specifications\n",
    "- **Advanced patterns** and edge cases\n",
    "\n",
    "→ See the **Window Functions Deep Dive** notebook!\n",
    "\n",
    "### You're Ready for HW1! 🎉\n",
    "\n",
    "You now know:\n",
    "- SELECT, WHERE, ORDER BY\n",
    "- GROUP BY, HAVING\n",
    "- Window functions with ROW_NUMBER()\n",
    "\n",
    "That's everything you need for Homework 1. Practice these patterns - you'll use them constantly in real data work!\n",
    "\n",
    "---"
   ]
  }
 ],
 "metadata": {
  "kernelspec": {
   "display_name": "Python 3",
   "language": "python",
   "name": "python3"
  },
  "language_info": {
   "codemirror_mode": {
    "name": "ipython",
    "version": 3
   },
   "file_extension": ".py",
   "mimetype": "text/x-python",
   "name": "python",
   "nbconvert_exporter": "python",
   "pygments_lexer": "ipython3",
   "version": "3.12.9"
  }
 },
 "nbformat": 4,
 "nbformat_minor": 5
}
