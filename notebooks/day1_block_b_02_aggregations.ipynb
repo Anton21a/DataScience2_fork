{
 "cells": [
  {
   "cell_type": "markdown",
   "metadata": {},
   "source": [
    "# Day 1, Block B: Aggregations & GROUP BY\n",
    "\n",
    "**Duration:** 25-30 minutes  \n",
    "**Course:** ECBS5294 - Introduction to Data Science: Working with Data  \n",
    "**Instructor:** Eduardo Ariño de la Rubia\n",
    "\n",
    "---\n",
    "\n",
    "## Learning Objectives\n",
    "\n",
    "By the end of this session, you will be able to:\n",
    "\n",
    "1. **Use aggregate functions** (COUNT, SUM, AVG, MIN, MAX)\n",
    "2. **Group data** with GROUP BY\n",
    "3. **Filter groups** with HAVING\n",
    "4. **Understand the critical difference** between WHERE and HAVING\n",
    "5. **Handle NULL values** in aggregations\n",
    "6. **Write queries** that answer business questions with summaries\n",
    "\n",
    "---"
   ]
  },
  {
   "cell_type": "markdown",
   "metadata": {},
   "source": [
    "## 1. Setup & Recap\n",
    "\n",
    "### What We Learned Last Time\n",
    "\n",
    "In Notebook 1, we learned:\n",
    "- **SELECT** - Choose columns\n",
    "- **WHERE** - Filter rows\n",
    "- **ORDER BY** - Sort results\n",
    "- **NULL handling** - IS NULL, not = NULL!\n",
    "\n",
    "### What's Next\n",
    "\n",
    "Now we'll learn to **summarize** data:\n",
    "- \"How many transactions?\"\n",
    "- \"What's the total revenue?\"\n",
    "- \"What's the average price per category?\"\n",
    "\n",
    "This is where SQL gets really powerful for analytics!\n",
    "\n",
    "---"
   ]
  },
  {
   "cell_type": "code",
   "execution_count": 1,
   "metadata": {
    "execution": {
     "iopub.execute_input": "2025-10-07T16:55:21.920334Z",
     "iopub.status.busy": "2025-10-07T16:55:21.920026Z",
     "iopub.status.idle": "2025-10-07T16:55:22.168229Z",
     "shell.execute_reply": "2025-10-07T16:55:22.167364Z"
    }
   },
   "outputs": [
    {
     "name": "stdout",
     "output_type": "stream",
     "text": [
      "✅ Libraries imported!\n"
     ]
    }
   ],
   "source": [
    "# Imports\n",
    "import duckdb\n",
    "import pandas as pd\n",
    "import numpy as np\n",
    "import warnings\n",
    "\n",
    "warnings.filterwarnings('ignore')\n",
    "\n",
    "print(\"✅ Libraries imported!\")"
   ]
  },
  {
   "cell_type": "code",
   "execution_count": 2,
   "metadata": {
    "execution": {
     "iopub.execute_input": "2025-10-07T16:55:22.188872Z",
     "iopub.status.busy": "2025-10-07T16:55:22.188555Z",
     "iopub.status.idle": "2025-10-07T16:55:22.223963Z",
     "shell.execute_reply": "2025-10-07T16:55:22.223750Z"
    }
   },
   "outputs": [
    {
     "name": "stdout",
     "output_type": "stream",
     "text": [
      "✅ Database connected and table loaded with clean types!\n"
     ]
    }
   ],
   "source": [
    "# Connect to DuckDB and load cafe sales data with proper types\n",
    "con = duckdb.connect(':memory:')\n",
    "\n",
    "# Clean the data types (just like we did in Notebook 1!)\n",
    "con.execute(\"\"\"\n",
    "    CREATE OR REPLACE TABLE cafe AS\n",
    "    SELECT \n",
    "        \"Transaction ID\",\n",
    "        Item,\n",
    "        TRY_CAST(Quantity AS INTEGER) AS Quantity,\n",
    "        TRY_CAST(\"Price Per Unit\" AS DECIMAL(10,2)) AS \"Price Per Unit\",\n",
    "        TRY_CAST(\"Total Spent\" AS DECIMAL(10,2)) AS \"Total Spent\",\n",
    "        \"Payment Method\",\n",
    "        Location,\n",
    "        TRY_CAST(\"Transaction Date\" AS DATE) AS \"Transaction Date\"\n",
    "    FROM '../data/day1/dirty_cafe_sales.csv'\n",
    "\"\"\")\n",
    "\n",
    "print(\"✅ Database connected and table loaded with clean types!\")"
   ]
  },
  {
   "cell_type": "code",
   "execution_count": 3,
   "metadata": {
    "execution": {
     "iopub.execute_input": "2025-10-07T16:55:22.225004Z",
     "iopub.status.busy": "2025-10-07T16:55:22.224929Z",
     "iopub.status.idle": "2025-10-07T16:55:22.230611Z",
     "shell.execute_reply": "2025-10-07T16:55:22.230318Z"
    }
   },
   "outputs": [
    {
     "data": {
      "text/html": [
       "<div>\n",
       "<style scoped>\n",
       "    .dataframe tbody tr th:only-of-type {\n",
       "        vertical-align: middle;\n",
       "    }\n",
       "\n",
       "    .dataframe tbody tr th {\n",
       "        vertical-align: top;\n",
       "    }\n",
       "\n",
       "    .dataframe thead th {\n",
       "        text-align: right;\n",
       "    }\n",
       "</style>\n",
       "<table border=\"1\" class=\"dataframe\">\n",
       "  <thead>\n",
       "    <tr style=\"text-align: right;\">\n",
       "      <th></th>\n",
       "      <th>Transaction ID</th>\n",
       "      <th>Item</th>\n",
       "      <th>Quantity</th>\n",
       "      <th>Price Per Unit</th>\n",
       "      <th>Total Spent</th>\n",
       "      <th>Payment Method</th>\n",
       "      <th>Location</th>\n",
       "      <th>Transaction Date</th>\n",
       "    </tr>\n",
       "  </thead>\n",
       "  <tbody>\n",
       "    <tr>\n",
       "      <th>0</th>\n",
       "      <td>TXN_1961373</td>\n",
       "      <td>Coffee</td>\n",
       "      <td>2</td>\n",
       "      <td>2.0</td>\n",
       "      <td>4.0</td>\n",
       "      <td>Credit Card</td>\n",
       "      <td>Takeaway</td>\n",
       "      <td>2023-09-08</td>\n",
       "    </tr>\n",
       "    <tr>\n",
       "      <th>1</th>\n",
       "      <td>TXN_4977031</td>\n",
       "      <td>Cake</td>\n",
       "      <td>4</td>\n",
       "      <td>3.0</td>\n",
       "      <td>12.0</td>\n",
       "      <td>Cash</td>\n",
       "      <td>In-store</td>\n",
       "      <td>2023-05-16</td>\n",
       "    </tr>\n",
       "    <tr>\n",
       "      <th>2</th>\n",
       "      <td>TXN_4271903</td>\n",
       "      <td>Cookie</td>\n",
       "      <td>4</td>\n",
       "      <td>1.0</td>\n",
       "      <td>NaN</td>\n",
       "      <td>Credit Card</td>\n",
       "      <td>In-store</td>\n",
       "      <td>2023-07-19</td>\n",
       "    </tr>\n",
       "  </tbody>\n",
       "</table>\n",
       "</div>"
      ],
      "text/plain": [
       "  Transaction ID    Item  Quantity  Price Per Unit  Total Spent  \\\n",
       "0    TXN_1961373  Coffee         2             2.0          4.0   \n",
       "1    TXN_4977031    Cake         4             3.0         12.0   \n",
       "2    TXN_4271903  Cookie         4             1.0          NaN   \n",
       "\n",
       "  Payment Method  Location Transaction Date  \n",
       "0    Credit Card  Takeaway       2023-09-08  \n",
       "1           Cash  In-store       2023-05-16  \n",
       "2    Credit Card  In-store       2023-07-19  "
      ]
     },
     "execution_count": 3,
     "metadata": {},
     "output_type": "execute_result"
    }
   ],
   "source": [
    "# Quick check\n",
    "con.execute(\"SELECT * FROM cafe LIMIT 3\").df()"
   ]
  },
  {
   "cell_type": "markdown",
   "metadata": {},
   "source": [
    "---\n",
    "\n",
    "## 2. What Are Aggregate Functions?\n",
    "\n",
    "> **Aggregate functions collapse many rows into one summary value**\n",
    "\n",
    "Think about it:\n",
    "- You have 10,000 transaction rows\n",
    "- You want to know: \"What's the total revenue?\"\n",
    "- Aggregate function: **Collapses 10,000 rows → 1 number**\n",
    "\n",
    "### Common Aggregate Functions\n",
    "\n",
    "| Function | What it does | Example |\n",
    "|----------|--------------|----------|\n",
    "| `COUNT(*)` | Counts all rows | How many transactions? |\n",
    "| `COUNT(column)` | Counts non-NULL values | How many have payment method? |\n",
    "| `SUM(column)` | Adds up numbers | Total revenue? |\n",
    "| `AVG(column)` | Average (mean) | Average price? |\n",
    "| `MIN(column)` | Smallest value | Cheapest item? |\n",
    "| `MAX(column)` | Largest value | Most expensive item? |\n",
    "\n",
    "---"
   ]
  },
  {
   "cell_type": "markdown",
   "metadata": {},
   "source": [
    "## 3. COUNT: How Many Rows?\n",
    "\n",
    "### COUNT(*) - Count All Rows\n",
    "\n",
    "**Business question:** \"How many transactions do we have?\""
   ]
  },
  {
   "cell_type": "code",
   "execution_count": 4,
   "metadata": {
    "execution": {
     "iopub.execute_input": "2025-10-07T16:55:22.231762Z",
     "iopub.status.busy": "2025-10-07T16:55:22.231690Z",
     "iopub.status.idle": "2025-10-07T16:55:22.234435Z",
     "shell.execute_reply": "2025-10-07T16:55:22.234209Z"
    }
   },
   "outputs": [
    {
     "data": {
      "text/html": [
       "<div>\n",
       "<style scoped>\n",
       "    .dataframe tbody tr th:only-of-type {\n",
       "        vertical-align: middle;\n",
       "    }\n",
       "\n",
       "    .dataframe tbody tr th {\n",
       "        vertical-align: top;\n",
       "    }\n",
       "\n",
       "    .dataframe thead th {\n",
       "        text-align: right;\n",
       "    }\n",
       "</style>\n",
       "<table border=\"1\" class=\"dataframe\">\n",
       "  <thead>\n",
       "    <tr style=\"text-align: right;\">\n",
       "      <th></th>\n",
       "      <th>total_transactions</th>\n",
       "    </tr>\n",
       "  </thead>\n",
       "  <tbody>\n",
       "    <tr>\n",
       "      <th>0</th>\n",
       "      <td>10000</td>\n",
       "    </tr>\n",
       "  </tbody>\n",
       "</table>\n",
       "</div>"
      ],
      "text/plain": [
       "   total_transactions\n",
       "0               10000"
      ]
     },
     "execution_count": 4,
     "metadata": {},
     "output_type": "execute_result"
    }
   ],
   "source": [
    "con.execute(\"\"\"\n",
    "    SELECT COUNT(*) AS total_transactions\n",
    "    FROM cafe\n",
    "\"\"\").df()"
   ]
  },
  {
   "cell_type": "markdown",
   "metadata": {},
   "source": [
    "**What happened?**\n",
    "- 10,000 rows → collapsed to 1 row\n",
    "- Result: The count\n",
    "\n",
    "This is the essence of aggregation!"
   ]
  },
  {
   "cell_type": "markdown",
   "metadata": {},
   "source": [
    "### COUNT(column) - Count Non-NULL Values\n",
    "\n",
    "**Business question:** \"How many transactions have a recorded payment method?\""
   ]
  },
  {
   "cell_type": "code",
   "execution_count": 5,
   "metadata": {
    "execution": {
     "iopub.execute_input": "2025-10-07T16:55:22.235576Z",
     "iopub.status.busy": "2025-10-07T16:55:22.235508Z",
     "iopub.status.idle": "2025-10-07T16:55:22.238227Z",
     "shell.execute_reply": "2025-10-07T16:55:22.238017Z"
    }
   },
   "outputs": [
    {
     "data": {
      "text/html": [
       "<div>\n",
       "<style scoped>\n",
       "    .dataframe tbody tr th:only-of-type {\n",
       "        vertical-align: middle;\n",
       "    }\n",
       "\n",
       "    .dataframe tbody tr th {\n",
       "        vertical-align: top;\n",
       "    }\n",
       "\n",
       "    .dataframe thead th {\n",
       "        text-align: right;\n",
       "    }\n",
       "</style>\n",
       "<table border=\"1\" class=\"dataframe\">\n",
       "  <thead>\n",
       "    <tr style=\"text-align: right;\">\n",
       "      <th></th>\n",
       "      <th>all_rows</th>\n",
       "      <th>with_payment_method</th>\n",
       "    </tr>\n",
       "  </thead>\n",
       "  <tbody>\n",
       "    <tr>\n",
       "      <th>0</th>\n",
       "      <td>10000</td>\n",
       "      <td>7421</td>\n",
       "    </tr>\n",
       "  </tbody>\n",
       "</table>\n",
       "</div>"
      ],
      "text/plain": [
       "   all_rows  with_payment_method\n",
       "0     10000                 7421"
      ]
     },
     "execution_count": 5,
     "metadata": {},
     "output_type": "execute_result"
    }
   ],
   "source": [
    "con.execute(\"\"\"\n",
    "    SELECT \n",
    "        COUNT(*) AS all_rows,\n",
    "        COUNT(\"Payment Method\") AS with_payment_method\n",
    "    FROM cafe\n",
    "\"\"\").df()"
   ]
  },
  {
   "cell_type": "markdown",
   "metadata": {},
   "source": [
    "**Critical difference:**\n",
    "- `COUNT(*)` counts **every row**, including rows with NULLs\n",
    "- `COUNT(column)` counts only **non-NULL values** in that column\n",
    "\n",
    "This is one of the most important NULL behaviors to understand!"
   ]
  },
  {
   "cell_type": "markdown",
   "metadata": {},
   "source": [
    "### Example: Finding Missing Data Percentage"
   ]
  },
  {
   "cell_type": "code",
   "execution_count": 6,
   "metadata": {
    "execution": {
     "iopub.execute_input": "2025-10-07T16:55:22.239427Z",
     "iopub.status.busy": "2025-10-07T16:55:22.239351Z",
     "iopub.status.idle": "2025-10-07T16:55:22.242306Z",
     "shell.execute_reply": "2025-10-07T16:55:22.242110Z"
    }
   },
   "outputs": [
    {
     "data": {
      "text/html": [
       "<div>\n",
       "<style scoped>\n",
       "    .dataframe tbody tr th:only-of-type {\n",
       "        vertical-align: middle;\n",
       "    }\n",
       "\n",
       "    .dataframe tbody tr th {\n",
       "        vertical-align: top;\n",
       "    }\n",
       "\n",
       "    .dataframe thead th {\n",
       "        text-align: right;\n",
       "    }\n",
       "</style>\n",
       "<table border=\"1\" class=\"dataframe\">\n",
       "  <thead>\n",
       "    <tr style=\"text-align: right;\">\n",
       "      <th></th>\n",
       "      <th>total_rows</th>\n",
       "      <th>with_payment</th>\n",
       "      <th>missing_payment</th>\n",
       "      <th>pct_missing</th>\n",
       "    </tr>\n",
       "  </thead>\n",
       "  <tbody>\n",
       "    <tr>\n",
       "      <th>0</th>\n",
       "      <td>10000</td>\n",
       "      <td>7421</td>\n",
       "      <td>2579</td>\n",
       "      <td>25.79</td>\n",
       "    </tr>\n",
       "  </tbody>\n",
       "</table>\n",
       "</div>"
      ],
      "text/plain": [
       "   total_rows  with_payment  missing_payment  pct_missing\n",
       "0       10000          7421             2579        25.79"
      ]
     },
     "execution_count": 6,
     "metadata": {},
     "output_type": "execute_result"
    }
   ],
   "source": [
    "con.execute(\"\"\"\n",
    "    SELECT \n",
    "        COUNT(*) AS total_rows,\n",
    "        COUNT(\"Payment Method\") AS with_payment,\n",
    "        COUNT(*) - COUNT(\"Payment Method\") AS missing_payment,\n",
    "        ROUND(100.0 * (COUNT(*) - COUNT(\"Payment Method\")) / COUNT(*), 2) AS pct_missing\n",
    "    FROM cafe\n",
    "\"\"\").df()"
   ]
  },
  {
   "cell_type": "markdown",
   "metadata": {},
   "source": [
    "**Business insight:** ~26% of our transactions are missing payment method data!"
   ]
  },
  {
   "cell_type": "markdown",
   "metadata": {},
   "source": [
    "---\n",
    "\n",
    "## 4. SUM: Add It Up\n",
    "\n",
    "**Business question:** \"What's our total revenue?\""
   ]
  },
  {
   "cell_type": "code",
   "execution_count": 7,
   "metadata": {
    "execution": {
     "iopub.execute_input": "2025-10-07T16:55:22.243381Z",
     "iopub.status.busy": "2025-10-07T16:55:22.243323Z",
     "iopub.status.idle": "2025-10-07T16:55:22.245730Z",
     "shell.execute_reply": "2025-10-07T16:55:22.245544Z"
    }
   },
   "outputs": [
    {
     "data": {
      "text/html": [
       "<div>\n",
       "<style scoped>\n",
       "    .dataframe tbody tr th:only-of-type {\n",
       "        vertical-align: middle;\n",
       "    }\n",
       "\n",
       "    .dataframe tbody tr th {\n",
       "        vertical-align: top;\n",
       "    }\n",
       "\n",
       "    .dataframe thead th {\n",
       "        text-align: right;\n",
       "    }\n",
       "</style>\n",
       "<table border=\"1\" class=\"dataframe\">\n",
       "  <thead>\n",
       "    <tr style=\"text-align: right;\">\n",
       "      <th></th>\n",
       "      <th>total_revenue</th>\n",
       "    </tr>\n",
       "  </thead>\n",
       "  <tbody>\n",
       "    <tr>\n",
       "      <th>0</th>\n",
       "      <td>80478.5</td>\n",
       "    </tr>\n",
       "  </tbody>\n",
       "</table>\n",
       "</div>"
      ],
      "text/plain": [
       "   total_revenue\n",
       "0        80478.5"
      ]
     },
     "execution_count": 7,
     "metadata": {},
     "output_type": "execute_result"
    }
   ],
   "source": [
    "con.execute(\"\"\"\n",
    "    SELECT \n",
    "        SUM(\"Price Per Unit\"* Quantity) AS total_revenue\n",
    "    FROM cafe\n",
    "    WHERE \"Price Per Unit\"IS NOT NULL AND Quantity IS NOT NULL\n",
    "\"\"\").df()"
   ]
  },
  {
   "cell_type": "markdown",
   "metadata": {},
   "source": [
    "**What happened:** Calculated `Price * Quantity` for each row, then summed all values.\n",
    "\n",
    "**Note:** We filter out NULLs in WHERE because we can't calculate revenue if price or quantity is NULL."
   ]
  },
  {
   "cell_type": "markdown",
   "metadata": {},
   "source": [
    "### Example: Multiple Sums"
   ]
  },
  {
   "cell_type": "code",
   "execution_count": 8,
   "metadata": {
    "execution": {
     "iopub.execute_input": "2025-10-07T16:55:22.246860Z",
     "iopub.status.busy": "2025-10-07T16:55:22.246805Z",
     "iopub.status.idle": "2025-10-07T16:55:22.249431Z",
     "shell.execute_reply": "2025-10-07T16:55:22.249242Z"
    }
   },
   "outputs": [
    {
     "data": {
      "text/html": [
       "<div>\n",
       "<style scoped>\n",
       "    .dataframe tbody tr th:only-of-type {\n",
       "        vertical-align: middle;\n",
       "    }\n",
       "\n",
       "    .dataframe tbody tr th {\n",
       "        vertical-align: top;\n",
       "    }\n",
       "\n",
       "    .dataframe thead th {\n",
       "        text-align: right;\n",
       "    }\n",
       "</style>\n",
       "<table border=\"1\" class=\"dataframe\">\n",
       "  <thead>\n",
       "    <tr style=\"text-align: right;\">\n",
       "      <th></th>\n",
       "      <th>total_revenue</th>\n",
       "      <th>total_items_sold</th>\n",
       "    </tr>\n",
       "  </thead>\n",
       "  <tbody>\n",
       "    <tr>\n",
       "      <th>0</th>\n",
       "      <td>80478.5</td>\n",
       "      <td>27230.0</td>\n",
       "    </tr>\n",
       "  </tbody>\n",
       "</table>\n",
       "</div>"
      ],
      "text/plain": [
       "   total_revenue  total_items_sold\n",
       "0        80478.5           27230.0"
      ]
     },
     "execution_count": 8,
     "metadata": {},
     "output_type": "execute_result"
    }
   ],
   "source": [
    "con.execute(\"\"\"\n",
    "    SELECT \n",
    "        SUM(\"Price Per Unit\"* Quantity) AS total_revenue,\n",
    "        SUM(Quantity) AS total_items_sold\n",
    "    FROM cafe\n",
    "    WHERE \"Price Per Unit\"IS NOT NULL AND Quantity IS NOT NULL\n",
    "\"\"\").df()"
   ]
  },
  {
   "cell_type": "markdown",
   "metadata": {},
   "source": [
    "---\n",
    "\n",
    "## 5. AVG, MIN, MAX\n",
    "\n",
    "**Business questions:**\n",
    "- \"What's the average price per unit?\"\n",
    "- \"What's our cheapest item?\"\n",
    "- \"What's our most expensive item?\""
   ]
  },
  {
   "cell_type": "code",
   "execution_count": 9,
   "metadata": {
    "execution": {
     "iopub.execute_input": "2025-10-07T16:55:22.250379Z",
     "iopub.status.busy": "2025-10-07T16:55:22.250326Z",
     "iopub.status.idle": "2025-10-07T16:55:22.253185Z",
     "shell.execute_reply": "2025-10-07T16:55:22.252953Z"
    }
   },
   "outputs": [
    {
     "data": {
      "text/html": [
       "<div>\n",
       "<style scoped>\n",
       "    .dataframe tbody tr th:only-of-type {\n",
       "        vertical-align: middle;\n",
       "    }\n",
       "\n",
       "    .dataframe tbody tr th {\n",
       "        vertical-align: top;\n",
       "    }\n",
       "\n",
       "    .dataframe thead th {\n",
       "        text-align: right;\n",
       "    }\n",
       "</style>\n",
       "<table border=\"1\" class=\"dataframe\">\n",
       "  <thead>\n",
       "    <tr style=\"text-align: right;\">\n",
       "      <th></th>\n",
       "      <th>avg_price</th>\n",
       "      <th>min_price</th>\n",
       "      <th>max_price</th>\n",
       "    </tr>\n",
       "  </thead>\n",
       "  <tbody>\n",
       "    <tr>\n",
       "      <th>0</th>\n",
       "      <td>2.95</td>\n",
       "      <td>1.0</td>\n",
       "      <td>5.0</td>\n",
       "    </tr>\n",
       "  </tbody>\n",
       "</table>\n",
       "</div>"
      ],
      "text/plain": [
       "   avg_price  min_price  max_price\n",
       "0       2.95        1.0        5.0"
      ]
     },
     "execution_count": 9,
     "metadata": {},
     "output_type": "execute_result"
    }
   ],
   "source": [
    "con.execute(\"\"\"\n",
    "    SELECT \n",
    "        ROUND(AVG(\"Price Per Unit\"), 2) AS avg_price,\n",
    "        MIN(\"Price Per Unit\") AS min_price,\n",
    "        MAX(\"Price Per Unit\") AS max_price\n",
    "    FROM cafe\n",
    "    WHERE \"Price Per Unit\"IS NOT NULL\n",
    "\"\"\").df()"
   ]
  },
  {
   "cell_type": "markdown",
   "metadata": {},
   "source": [
    "### All Together: Complete Summary Stats"
   ]
  },
  {
   "cell_type": "code",
   "execution_count": 10,
   "metadata": {
    "execution": {
     "iopub.execute_input": "2025-10-07T16:55:22.254204Z",
     "iopub.status.busy": "2025-10-07T16:55:22.254138Z",
     "iopub.status.idle": "2025-10-07T16:55:22.257381Z",
     "shell.execute_reply": "2025-10-07T16:55:22.257175Z"
    }
   },
   "outputs": [
    {
     "data": {
      "text/html": [
       "<div>\n",
       "<style scoped>\n",
       "    .dataframe tbody tr th:only-of-type {\n",
       "        vertical-align: middle;\n",
       "    }\n",
       "\n",
       "    .dataframe tbody tr th {\n",
       "        vertical-align: top;\n",
       "    }\n",
       "\n",
       "    .dataframe thead th {\n",
       "        text-align: right;\n",
       "    }\n",
       "</style>\n",
       "<table border=\"1\" class=\"dataframe\">\n",
       "  <thead>\n",
       "    <tr style=\"text-align: right;\">\n",
       "      <th></th>\n",
       "      <th>transactions_with_data</th>\n",
       "      <th>total_revenue</th>\n",
       "      <th>avg_transaction_value</th>\n",
       "      <th>min_transaction</th>\n",
       "      <th>max_transaction</th>\n",
       "    </tr>\n",
       "  </thead>\n",
       "  <tbody>\n",
       "    <tr>\n",
       "      <th>0</th>\n",
       "      <td>9006</td>\n",
       "      <td>80478.5</td>\n",
       "      <td>8.94</td>\n",
       "      <td>1.0</td>\n",
       "      <td>25.0</td>\n",
       "    </tr>\n",
       "  </tbody>\n",
       "</table>\n",
       "</div>"
      ],
      "text/plain": [
       "   transactions_with_data  total_revenue  avg_transaction_value  \\\n",
       "0                    9006        80478.5                   8.94   \n",
       "\n",
       "   min_transaction  max_transaction  \n",
       "0              1.0             25.0  "
      ]
     },
     "execution_count": 10,
     "metadata": {},
     "output_type": "execute_result"
    }
   ],
   "source": [
    "con.execute(\"\"\"\n",
    "    SELECT \n",
    "        COUNT(*) AS transactions_with_data,\n",
    "        SUM(\"Price Per Unit\" * Quantity) AS total_revenue,\n",
    "        ROUND(AVG(\"Price Per Unit\" * Quantity), 2) AS avg_transaction_value,\n",
    "        MIN(\"Price Per Unit\" * Quantity) AS min_transaction,\n",
    "        MAX(\"Price Per Unit\" * Quantity) AS max_transaction\n",
    "    FROM cafe\n",
    "    WHERE \"Price Per Unit\" IS NOT NULL AND Quantity IS NOT NULL\n",
    "\"\"\").df()"
   ]
  },
  {
   "cell_type": "markdown",
   "metadata": {},
   "source": [
    "**This is powerful!** One query gives you a complete statistical summary."
   ]
  },
  {
   "cell_type": "markdown",
   "metadata": {},
   "source": [
    "---\n",
    "\n",
    "## 6. NULL Behavior in Aggregates\n",
    "\n",
    "> **🚨 CRITICAL: Understand how aggregates handle NULL**\n",
    "\n",
    "Let's see it in action:"
   ]
  },
  {
   "cell_type": "code",
   "execution_count": 11,
   "metadata": {
    "execution": {
     "iopub.execute_input": "2025-10-07T16:55:22.258383Z",
     "iopub.status.busy": "2025-10-07T16:55:22.258324Z",
     "iopub.status.idle": "2025-10-07T16:55:22.261194Z",
     "shell.execute_reply": "2025-10-07T16:55:22.260997Z"
    }
   },
   "outputs": [
    {
     "data": {
      "text/html": [
       "<div>\n",
       "<style scoped>\n",
       "    .dataframe tbody tr th:only-of-type {\n",
       "        vertical-align: middle;\n",
       "    }\n",
       "\n",
       "    .dataframe tbody tr th {\n",
       "        vertical-align: top;\n",
       "    }\n",
       "\n",
       "    .dataframe thead th {\n",
       "        text-align: right;\n",
       "    }\n",
       "</style>\n",
       "<table border=\"1\" class=\"dataframe\">\n",
       "  <thead>\n",
       "    <tr style=\"text-align: right;\">\n",
       "      <th></th>\n",
       "      <th>id</th>\n",
       "      <th>value</th>\n",
       "    </tr>\n",
       "  </thead>\n",
       "  <tbody>\n",
       "    <tr>\n",
       "      <th>0</th>\n",
       "      <td>1</td>\n",
       "      <td>10</td>\n",
       "    </tr>\n",
       "    <tr>\n",
       "      <th>1</th>\n",
       "      <td>2</td>\n",
       "      <td>20</td>\n",
       "    </tr>\n",
       "    <tr>\n",
       "      <th>2</th>\n",
       "      <td>3</td>\n",
       "      <td>&lt;NA&gt;</td>\n",
       "    </tr>\n",
       "    <tr>\n",
       "      <th>3</th>\n",
       "      <td>4</td>\n",
       "      <td>30</td>\n",
       "    </tr>\n",
       "  </tbody>\n",
       "</table>\n",
       "</div>"
      ],
      "text/plain": [
       "   id  value\n",
       "0   1     10\n",
       "1   2     20\n",
       "2   3   <NA>\n",
       "3   4     30"
      ]
     },
     "execution_count": 11,
     "metadata": {},
     "output_type": "execute_result"
    }
   ],
   "source": [
    "# Create a small example table with NULLs\n",
    "con.execute(\"\"\"\n",
    "    CREATE OR REPLACE TABLE example AS\n",
    "    SELECT * FROM (VALUES \n",
    "        (1, 10),\n",
    "        (2, 20),\n",
    "        (3, NULL),\n",
    "        (4, 30)\n",
    "    ) AS t(id, value)\n",
    "\"\"\")\n",
    "\n",
    "con.execute(\"SELECT * FROM example\").df()"
   ]
  },
  {
   "cell_type": "code",
   "execution_count": 12,
   "metadata": {
    "execution": {
     "iopub.execute_input": "2025-10-07T16:55:22.262144Z",
     "iopub.status.busy": "2025-10-07T16:55:22.262077Z",
     "iopub.status.idle": "2025-10-07T16:55:22.264806Z",
     "shell.execute_reply": "2025-10-07T16:55:22.264553Z"
    }
   },
   "outputs": [
    {
     "data": {
      "text/html": [
       "<div>\n",
       "<style scoped>\n",
       "    .dataframe tbody tr th:only-of-type {\n",
       "        vertical-align: middle;\n",
       "    }\n",
       "\n",
       "    .dataframe tbody tr th {\n",
       "        vertical-align: top;\n",
       "    }\n",
       "\n",
       "    .dataframe thead th {\n",
       "        text-align: right;\n",
       "    }\n",
       "</style>\n",
       "<table border=\"1\" class=\"dataframe\">\n",
       "  <thead>\n",
       "    <tr style=\"text-align: right;\">\n",
       "      <th></th>\n",
       "      <th>count_all_rows</th>\n",
       "      <th>count_non_null_values</th>\n",
       "      <th>sum_values</th>\n",
       "      <th>avg_values</th>\n",
       "    </tr>\n",
       "  </thead>\n",
       "  <tbody>\n",
       "    <tr>\n",
       "      <th>0</th>\n",
       "      <td>4</td>\n",
       "      <td>3</td>\n",
       "      <td>60.0</td>\n",
       "      <td>20.0</td>\n",
       "    </tr>\n",
       "  </tbody>\n",
       "</table>\n",
       "</div>"
      ],
      "text/plain": [
       "   count_all_rows  count_non_null_values  sum_values  avg_values\n",
       "0               4                      3        60.0        20.0"
      ]
     },
     "execution_count": 12,
     "metadata": {},
     "output_type": "execute_result"
    }
   ],
   "source": [
    "# How do aggregates handle the NULL?\n",
    "con.execute(\"\"\"\n",
    "    SELECT \n",
    "        COUNT(*) AS count_all_rows,\n",
    "        COUNT(value) AS count_non_null_values,\n",
    "        SUM(value) AS sum_values,\n",
    "        AVG(value) AS avg_values\n",
    "    FROM example\n",
    "\"\"\").df()"
   ]
  },
  {
   "cell_type": "markdown",
   "metadata": {},
   "source": [
    "**What happened?**\n",
    "- `COUNT(*)` = 4 (all rows, including the one with NULL)\n",
    "- `COUNT(value)` = 3 (only non-NULL values)\n",
    "- `SUM(value)` = 60 (10 + 20 + 30, NULL ignored)\n",
    "- `AVG(value)` = 20 (sum of 60 ÷ 3 non-NULL values, **not** ÷ 4)\n",
    "\n",
    "**Key insight:** Most aggregates **ignore NULLs** (except COUNT(*))."
   ]
  },
  {
   "cell_type": "markdown",
   "metadata": {},
   "source": [
    "### Why This Matters\n",
    "\n",
    "**Scenario:** You have revenue data with some missing values.\n",
    "\n",
    "❌ **If you use 0 for missing:**\n",
    "```python\n",
    "df['revenue'].fillna(0)\n",
    "```\n",
    "→ Average includes the zeros (drags average down)\n",
    "\n",
    "✅ **If you use NULL for missing:**\n",
    "```python\n",
    "# Leave as NULL\n",
    "```\n",
    "→ Average excludes NULLs (average of known values)\n",
    "\n",
    "**Different meaning, different results!** This is what we learned in Block A about missing values."
   ]
  },
  {
   "cell_type": "markdown",
   "metadata": {},
   "source": [
    "---\n",
    "\n",
    "## 7. GROUP BY: The Game Changer\n",
    "\n",
    "> **Mental model: \"For each X, calculate Y\"**\n",
    "\n",
    "So far, we've aggregated **all rows**:\n",
    "- \"What's the **total** revenue?\" → One number\n",
    "\n",
    "But what if we want:\n",
    "- \"What's the total revenue **per payment method**?\" → One number per payment method\n",
    "- \"What's the total revenue **per item**?\" → One number per item\n",
    "\n",
    "This is what **GROUP BY** does!"
   ]
  },
  {
   "cell_type": "markdown",
   "metadata": {},
   "source": [
    "### Example 1: Count by Payment Method\n",
    "\n",
    "**Business question:** \"How many transactions per payment method?\""
   ]
  },
  {
   "cell_type": "code",
   "execution_count": 13,
   "metadata": {
    "execution": {
     "iopub.execute_input": "2025-10-07T16:55:22.266192Z",
     "iopub.status.busy": "2025-10-07T16:55:22.266129Z",
     "iopub.status.idle": "2025-10-07T16:55:22.269241Z",
     "shell.execute_reply": "2025-10-07T16:55:22.269032Z"
    }
   },
   "outputs": [
    {
     "data": {
      "text/html": [
       "<div>\n",
       "<style scoped>\n",
       "    .dataframe tbody tr th:only-of-type {\n",
       "        vertical-align: middle;\n",
       "    }\n",
       "\n",
       "    .dataframe tbody tr th {\n",
       "        vertical-align: top;\n",
       "    }\n",
       "\n",
       "    .dataframe thead th {\n",
       "        text-align: right;\n",
       "    }\n",
       "</style>\n",
       "<table border=\"1\" class=\"dataframe\">\n",
       "  <thead>\n",
       "    <tr style=\"text-align: right;\">\n",
       "      <th></th>\n",
       "      <th>Payment Method</th>\n",
       "      <th>transaction_count</th>\n",
       "    </tr>\n",
       "  </thead>\n",
       "  <tbody>\n",
       "    <tr>\n",
       "      <th>0</th>\n",
       "      <td>None</td>\n",
       "      <td>2579</td>\n",
       "    </tr>\n",
       "    <tr>\n",
       "      <th>1</th>\n",
       "      <td>Digital Wallet</td>\n",
       "      <td>2291</td>\n",
       "    </tr>\n",
       "    <tr>\n",
       "      <th>2</th>\n",
       "      <td>Credit Card</td>\n",
       "      <td>2273</td>\n",
       "    </tr>\n",
       "    <tr>\n",
       "      <th>3</th>\n",
       "      <td>Cash</td>\n",
       "      <td>2258</td>\n",
       "    </tr>\n",
       "    <tr>\n",
       "      <th>4</th>\n",
       "      <td>ERROR</td>\n",
       "      <td>306</td>\n",
       "    </tr>\n",
       "    <tr>\n",
       "      <th>5</th>\n",
       "      <td>UNKNOWN</td>\n",
       "      <td>293</td>\n",
       "    </tr>\n",
       "  </tbody>\n",
       "</table>\n",
       "</div>"
      ],
      "text/plain": [
       "   Payment Method  transaction_count\n",
       "0            None               2579\n",
       "1  Digital Wallet               2291\n",
       "2     Credit Card               2273\n",
       "3            Cash               2258\n",
       "4           ERROR                306\n",
       "5         UNKNOWN                293"
      ]
     },
     "execution_count": 13,
     "metadata": {},
     "output_type": "execute_result"
    }
   ],
   "source": [
    "con.execute(\"\"\"\n",
    "    SELECT \n",
    "        \"Payment Method\",\n",
    "        COUNT(*) AS transaction_count\n",
    "    FROM cafe\n",
    "    GROUP BY \"Payment Method\"\n",
    "    ORDER BY transaction_count DESC\n",
    "\"\"\").df()"
   ]
  },
  {
   "cell_type": "markdown",
   "metadata": {},
   "source": [
    "**What happened?**\n",
    "\n",
    "1. GROUP BY split data into groups (one per payment method)\n",
    "2. COUNT(*) calculated within each group\n",
    "3. Result: One row per payment method\n",
    "\n",
    "**Before:** 10,000 rows  \n",
    "**After:** 3-5 rows (one per payment method)"
   ]
  },
  {
   "cell_type": "markdown",
   "metadata": {},
   "source": [
    "### Visualizing GROUP BY\n",
    "\n",
    "```\n",
    "Original data (1000s of rows):\n",
    "Payment_Method | Price\n",
    "Credit Card    | 5.00\n",
    "Credit Card    | 3.50\n",
    "Cash           | 2.00\n",
    "Cash           | 4.00\n",
    "Credit Card    | 6.00\n",
    "...\n",
    "\n",
    "GROUP BY Payment_Method:\n",
    "\n",
    "Group 1 (Credit Card): 5.00, 3.50, 6.00, ...\n",
    "Group 2 (Cash): 2.00, 4.00, ...\n",
    "Group 3 (Debit): ...\n",
    "\n",
    "Then COUNT(*) within each group:\n",
    "\n",
    "Payment_Method | transaction_count\n",
    "Credit Card    | 3452\n",
    "Cash           | 2103\n",
    "Debit          | 1876\n",
    "```"
   ]
  },
  {
   "cell_type": "markdown",
   "metadata": {},
   "source": [
    "### Example 2: Revenue by Item\n",
    "\n",
    "**Business question:** \"What's our revenue per product?\""
   ]
  },
  {
   "cell_type": "code",
   "execution_count": 14,
   "metadata": {
    "execution": {
     "iopub.execute_input": "2025-10-07T16:55:22.270229Z",
     "iopub.status.busy": "2025-10-07T16:55:22.270174Z",
     "iopub.status.idle": "2025-10-07T16:55:22.273527Z",
     "shell.execute_reply": "2025-10-07T16:55:22.273308Z"
    }
   },
   "outputs": [
    {
     "data": {
      "text/html": [
       "<div>\n",
       "<style scoped>\n",
       "    .dataframe tbody tr th:only-of-type {\n",
       "        vertical-align: middle;\n",
       "    }\n",
       "\n",
       "    .dataframe tbody tr th {\n",
       "        vertical-align: top;\n",
       "    }\n",
       "\n",
       "    .dataframe thead th {\n",
       "        text-align: right;\n",
       "    }\n",
       "</style>\n",
       "<table border=\"1\" class=\"dataframe\">\n",
       "  <thead>\n",
       "    <tr style=\"text-align: right;\">\n",
       "      <th></th>\n",
       "      <th>Item</th>\n",
       "      <th>total_revenue</th>\n",
       "    </tr>\n",
       "  </thead>\n",
       "  <tbody>\n",
       "    <tr>\n",
       "      <th>0</th>\n",
       "      <td>Salad</td>\n",
       "      <td>15600.0</td>\n",
       "    </tr>\n",
       "    <tr>\n",
       "      <th>1</th>\n",
       "      <td>Sandwich</td>\n",
       "      <td>12296.0</td>\n",
       "    </tr>\n",
       "    <tr>\n",
       "      <th>2</th>\n",
       "      <td>Smoothie</td>\n",
       "      <td>12132.0</td>\n",
       "    </tr>\n",
       "    <tr>\n",
       "      <th>3</th>\n",
       "      <td>Juice</td>\n",
       "      <td>9561.0</td>\n",
       "    </tr>\n",
       "    <tr>\n",
       "      <th>4</th>\n",
       "      <td>Cake</td>\n",
       "      <td>9540.0</td>\n",
       "    </tr>\n",
       "    <tr>\n",
       "      <th>5</th>\n",
       "      <td>Coffee</td>\n",
       "      <td>6424.0</td>\n",
       "    </tr>\n",
       "    <tr>\n",
       "      <th>6</th>\n",
       "      <td>Tea</td>\n",
       "      <td>4431.0</td>\n",
       "    </tr>\n",
       "    <tr>\n",
       "      <th>7</th>\n",
       "      <td>Cookie</td>\n",
       "      <td>2898.0</td>\n",
       "    </tr>\n",
       "    <tr>\n",
       "      <th>8</th>\n",
       "      <td>None</td>\n",
       "      <td>2651.0</td>\n",
       "    </tr>\n",
       "    <tr>\n",
       "      <th>9</th>\n",
       "      <td>UNKNOWN</td>\n",
       "      <td>2550.0</td>\n",
       "    </tr>\n",
       "  </tbody>\n",
       "</table>\n",
       "</div>"
      ],
      "text/plain": [
       "       Item  total_revenue\n",
       "0     Salad        15600.0\n",
       "1  Sandwich        12296.0\n",
       "2  Smoothie        12132.0\n",
       "3     Juice         9561.0\n",
       "4      Cake         9540.0\n",
       "5    Coffee         6424.0\n",
       "6       Tea         4431.0\n",
       "7    Cookie         2898.0\n",
       "8      None         2651.0\n",
       "9   UNKNOWN         2550.0"
      ]
     },
     "execution_count": 14,
     "metadata": {},
     "output_type": "execute_result"
    }
   ],
   "source": [
    "con.execute(\"\"\"\n",
    "    SELECT \n",
    "        Item,\n",
    "        SUM(\"Price Per Unit\"* Quantity) AS total_revenue\n",
    "    FROM cafe\n",
    "    WHERE \"Price Per Unit\"IS NOT NULL AND Quantity IS NOT NULL\n",
    "    GROUP BY Item\n",
    "    ORDER BY total_revenue DESC\n",
    "    LIMIT 10\n",
    "\"\"\").df()"
   ]
  },
  {
   "cell_type": "markdown",
   "metadata": {},
   "source": [
    "**Business insight:** These are our top-selling products by revenue!"
   ]
  },
  {
   "cell_type": "markdown",
   "metadata": {},
   "source": [
    "### Example 3: Multiple Aggregates per Group\n",
    "\n",
    "**Business question:** \"For each item, show transactions, revenue, and average price.\""
   ]
  },
  {
   "cell_type": "code",
   "execution_count": 15,
   "metadata": {
    "execution": {
     "iopub.execute_input": "2025-10-07T16:55:22.274537Z",
     "iopub.status.busy": "2025-10-07T16:55:22.274485Z",
     "iopub.status.idle": "2025-10-07T16:55:22.278010Z",
     "shell.execute_reply": "2025-10-07T16:55:22.277833Z"
    }
   },
   "outputs": [
    {
     "data": {
      "text/html": [
       "<div>\n",
       "<style scoped>\n",
       "    .dataframe tbody tr th:only-of-type {\n",
       "        vertical-align: middle;\n",
       "    }\n",
       "\n",
       "    .dataframe tbody tr th {\n",
       "        vertical-align: top;\n",
       "    }\n",
       "\n",
       "    .dataframe thead th {\n",
       "        text-align: right;\n",
       "    }\n",
       "</style>\n",
       "<table border=\"1\" class=\"dataframe\">\n",
       "  <thead>\n",
       "    <tr style=\"text-align: right;\">\n",
       "      <th></th>\n",
       "      <th>Item</th>\n",
       "      <th>transactions</th>\n",
       "      <th>total_revenue</th>\n",
       "      <th>avg_price</th>\n",
       "    </tr>\n",
       "  </thead>\n",
       "  <tbody>\n",
       "    <tr>\n",
       "      <th>0</th>\n",
       "      <td>Salad</td>\n",
       "      <td>1030</td>\n",
       "      <td>15600.0</td>\n",
       "      <td>5.00</td>\n",
       "    </tr>\n",
       "    <tr>\n",
       "      <th>1</th>\n",
       "      <td>Sandwich</td>\n",
       "      <td>1022</td>\n",
       "      <td>12296.0</td>\n",
       "      <td>4.00</td>\n",
       "    </tr>\n",
       "    <tr>\n",
       "      <th>2</th>\n",
       "      <td>Smoothie</td>\n",
       "      <td>994</td>\n",
       "      <td>12132.0</td>\n",
       "      <td>4.00</td>\n",
       "    </tr>\n",
       "    <tr>\n",
       "      <th>3</th>\n",
       "      <td>Juice</td>\n",
       "      <td>1063</td>\n",
       "      <td>9561.0</td>\n",
       "      <td>3.00</td>\n",
       "    </tr>\n",
       "    <tr>\n",
       "      <th>4</th>\n",
       "      <td>Cake</td>\n",
       "      <td>1042</td>\n",
       "      <td>9540.0</td>\n",
       "      <td>3.00</td>\n",
       "    </tr>\n",
       "    <tr>\n",
       "      <th>5</th>\n",
       "      <td>Coffee</td>\n",
       "      <td>1048</td>\n",
       "      <td>6424.0</td>\n",
       "      <td>2.00</td>\n",
       "    </tr>\n",
       "    <tr>\n",
       "      <th>6</th>\n",
       "      <td>Tea</td>\n",
       "      <td>972</td>\n",
       "      <td>4431.0</td>\n",
       "      <td>1.50</td>\n",
       "    </tr>\n",
       "    <tr>\n",
       "      <th>7</th>\n",
       "      <td>Cookie</td>\n",
       "      <td>976</td>\n",
       "      <td>2898.0</td>\n",
       "      <td>1.00</td>\n",
       "    </tr>\n",
       "    <tr>\n",
       "      <th>8</th>\n",
       "      <td>None</td>\n",
       "      <td>293</td>\n",
       "      <td>2651.0</td>\n",
       "      <td>2.98</td>\n",
       "    </tr>\n",
       "    <tr>\n",
       "      <th>9</th>\n",
       "      <td>UNKNOWN</td>\n",
       "      <td>304</td>\n",
       "      <td>2550.0</td>\n",
       "      <td>2.88</td>\n",
       "    </tr>\n",
       "  </tbody>\n",
       "</table>\n",
       "</div>"
      ],
      "text/plain": [
       "       Item  transactions  total_revenue  avg_price\n",
       "0     Salad          1030        15600.0       5.00\n",
       "1  Sandwich          1022        12296.0       4.00\n",
       "2  Smoothie           994        12132.0       4.00\n",
       "3     Juice          1063         9561.0       3.00\n",
       "4      Cake          1042         9540.0       3.00\n",
       "5    Coffee          1048         6424.0       2.00\n",
       "6       Tea           972         4431.0       1.50\n",
       "7    Cookie           976         2898.0       1.00\n",
       "8      None           293         2651.0       2.98\n",
       "9   UNKNOWN           304         2550.0       2.88"
      ]
     },
     "execution_count": 15,
     "metadata": {},
     "output_type": "execute_result"
    }
   ],
   "source": [
    "con.execute(\"\"\"\n",
    "    SELECT \n",
    "        Item,\n",
    "        COUNT(*) AS transactions,\n",
    "        ROUND(SUM(\"Price Per Unit\"* Quantity), 2) AS total_revenue,\n",
    "        ROUND(AVG(\"Price Per Unit\"), 2) AS avg_price\n",
    "    FROM cafe\n",
    "    WHERE \"Price Per Unit\"IS NOT NULL AND Quantity IS NOT NULL\n",
    "    GROUP BY Item\n",
    "    ORDER BY total_revenue DESC\n",
    "    LIMIT 10\n",
    "\"\"\").df()"
   ]
  },
  {
   "cell_type": "markdown",
   "metadata": {},
   "source": [
    "**Rich analysis!** Multiple metrics per group."
   ]
  },
  {
   "cell_type": "markdown",
   "metadata": {},
   "source": [
    "---\n",
    "\n",
    "### ⏸️ Pause and Try!\n",
    "\n",
    "**Your task:** Write a complete GROUP BY query to analyze revenue by payment method.\n",
    "\n",
    "**Requirements:**\n",
    "1. Calculate **total revenue** per payment method (`SUM` of Price × Quantity)\n",
    "2. Calculate **average transaction value** per payment method (`AVG` of Price × Quantity)\n",
    "3. Include **count of transactions** per payment method\n",
    "4. Filter out NULL prices and quantities (use `WHERE`)\n",
    "5. Order results by **total revenue descending**\n",
    "\n",
    "Replace the placeholder query in the cell below with your complete SQL query."
   ]
  },
  {
   "cell_type": "markdown",
   "metadata": {},
   "source": [
    "---\n",
    "\n",
    "### ⏸️ Pause and Try!\n",
    "\n",
    "**Your task:** Write a complete GROUP BY query to analyze revenue by payment method.\n",
    "\n",
    "**Requirements:**\n",
    "1. Calculate **total revenue** per payment method (`SUM` of Price × Quantity)\n",
    "2. Calculate **average transaction value** per payment method (`AVG` of Price × Quantity)\n",
    "3. Include **count of transactions** per payment method\n",
    "4. Filter out NULL prices and quantities (use `WHERE`)\n",
    "5. Order results by **total revenue descending**\n",
    "\n",
    "Replace the placeholder query in the cell below with your complete SQL query."
   ]
  },
  {
   "cell_type": "markdown",
   "metadata": {},
   "source": [
    "### Example 4: GROUP BY Multiple Columns\n",
    "\n",
    "**Business question:** \"Revenue by item AND payment method.\""
   ]
  },
  {
   "cell_type": "code",
   "execution_count": 16,
   "metadata": {
    "execution": {
     "iopub.execute_input": "2025-10-07T16:55:22.279125Z",
     "iopub.status.busy": "2025-10-07T16:55:22.279071Z",
     "iopub.status.idle": "2025-10-07T16:55:22.282733Z",
     "shell.execute_reply": "2025-10-07T16:55:22.282537Z"
    }
   },
   "outputs": [
    {
     "data": {
      "text/html": [
       "<div>\n",
       "<style scoped>\n",
       "    .dataframe tbody tr th:only-of-type {\n",
       "        vertical-align: middle;\n",
       "    }\n",
       "\n",
       "    .dataframe tbody tr th {\n",
       "        vertical-align: top;\n",
       "    }\n",
       "\n",
       "    .dataframe thead th {\n",
       "        text-align: right;\n",
       "    }\n",
       "</style>\n",
       "<table border=\"1\" class=\"dataframe\">\n",
       "  <thead>\n",
       "    <tr style=\"text-align: right;\">\n",
       "      <th></th>\n",
       "      <th>Item</th>\n",
       "      <th>Payment Method</th>\n",
       "      <th>transactions</th>\n",
       "      <th>revenue</th>\n",
       "    </tr>\n",
       "  </thead>\n",
       "  <tbody>\n",
       "    <tr>\n",
       "      <th>0</th>\n",
       "      <td>Salad</td>\n",
       "      <td>Cash</td>\n",
       "      <td>260</td>\n",
       "      <td>3890.0</td>\n",
       "    </tr>\n",
       "    <tr>\n",
       "      <th>1</th>\n",
       "      <td>Salad</td>\n",
       "      <td>Credit Card</td>\n",
       "      <td>256</td>\n",
       "      <td>3765.0</td>\n",
       "    </tr>\n",
       "    <tr>\n",
       "      <th>2</th>\n",
       "      <td>Salad</td>\n",
       "      <td>Digital Wallet</td>\n",
       "      <td>217</td>\n",
       "      <td>3360.0</td>\n",
       "    </tr>\n",
       "    <tr>\n",
       "      <th>3</th>\n",
       "      <td>Sandwich</td>\n",
       "      <td>Digital Wallet</td>\n",
       "      <td>231</td>\n",
       "      <td>2884.0</td>\n",
       "    </tr>\n",
       "    <tr>\n",
       "      <th>4</th>\n",
       "      <td>Smoothie</td>\n",
       "      <td>Digital Wallet</td>\n",
       "      <td>233</td>\n",
       "      <td>2824.0</td>\n",
       "    </tr>\n",
       "    <tr>\n",
       "      <th>5</th>\n",
       "      <td>Smoothie</td>\n",
       "      <td>Cash</td>\n",
       "      <td>219</td>\n",
       "      <td>2800.0</td>\n",
       "    </tr>\n",
       "    <tr>\n",
       "      <th>6</th>\n",
       "      <td>Sandwich</td>\n",
       "      <td>Cash</td>\n",
       "      <td>225</td>\n",
       "      <td>2756.0</td>\n",
       "    </tr>\n",
       "    <tr>\n",
       "      <th>7</th>\n",
       "      <td>Smoothie</td>\n",
       "      <td>Credit Card</td>\n",
       "      <td>223</td>\n",
       "      <td>2724.0</td>\n",
       "    </tr>\n",
       "    <tr>\n",
       "      <th>8</th>\n",
       "      <td>Sandwich</td>\n",
       "      <td>Credit Card</td>\n",
       "      <td>231</td>\n",
       "      <td>2712.0</td>\n",
       "    </tr>\n",
       "    <tr>\n",
       "      <th>9</th>\n",
       "      <td>Cake</td>\n",
       "      <td>Cash</td>\n",
       "      <td>254</td>\n",
       "      <td>2307.0</td>\n",
       "    </tr>\n",
       "    <tr>\n",
       "      <th>10</th>\n",
       "      <td>Juice</td>\n",
       "      <td>Digital Wallet</td>\n",
       "      <td>259</td>\n",
       "      <td>2298.0</td>\n",
       "    </tr>\n",
       "    <tr>\n",
       "      <th>11</th>\n",
       "      <td>Juice</td>\n",
       "      <td>Credit Card</td>\n",
       "      <td>251</td>\n",
       "      <td>2292.0</td>\n",
       "    </tr>\n",
       "    <tr>\n",
       "      <th>12</th>\n",
       "      <td>Cake</td>\n",
       "      <td>Credit Card</td>\n",
       "      <td>234</td>\n",
       "      <td>2223.0</td>\n",
       "    </tr>\n",
       "    <tr>\n",
       "      <th>13</th>\n",
       "      <td>Juice</td>\n",
       "      <td>Cash</td>\n",
       "      <td>244</td>\n",
       "      <td>2082.0</td>\n",
       "    </tr>\n",
       "    <tr>\n",
       "      <th>14</th>\n",
       "      <td>Cake</td>\n",
       "      <td>Digital Wallet</td>\n",
       "      <td>222</td>\n",
       "      <td>2064.0</td>\n",
       "    </tr>\n",
       "  </tbody>\n",
       "</table>\n",
       "</div>"
      ],
      "text/plain": [
       "        Item  Payment Method  transactions  revenue\n",
       "0      Salad            Cash           260   3890.0\n",
       "1      Salad     Credit Card           256   3765.0\n",
       "2      Salad  Digital Wallet           217   3360.0\n",
       "3   Sandwich  Digital Wallet           231   2884.0\n",
       "4   Smoothie  Digital Wallet           233   2824.0\n",
       "5   Smoothie            Cash           219   2800.0\n",
       "6   Sandwich            Cash           225   2756.0\n",
       "7   Smoothie     Credit Card           223   2724.0\n",
       "8   Sandwich     Credit Card           231   2712.0\n",
       "9       Cake            Cash           254   2307.0\n",
       "10     Juice  Digital Wallet           259   2298.0\n",
       "11     Juice     Credit Card           251   2292.0\n",
       "12      Cake     Credit Card           234   2223.0\n",
       "13     Juice            Cash           244   2082.0\n",
       "14      Cake  Digital Wallet           222   2064.0"
      ]
     },
     "execution_count": 16,
     "metadata": {},
     "output_type": "execute_result"
    }
   ],
   "source": [
    "con.execute(\"\"\"\n",
    "    SELECT \n",
    "        Item,\n",
    "        \"Payment Method\",\n",
    "        COUNT(*) AS transactions,\n",
    "        ROUND(SUM(\"Price Per Unit\"* Quantity), 2) AS revenue\n",
    "    FROM cafe\n",
    "    WHERE \"Price Per Unit\"IS NOT NULL \n",
    "      AND Quantity IS NOT NULL\n",
    "      AND \"Payment Method\" IS NOT NULL\n",
    "    GROUP BY Item, \"Payment Method\"\n",
    "    ORDER BY revenue DESC\n",
    "    LIMIT 15\n",
    "\"\"\").df()"
   ]
  },
  {
   "cell_type": "markdown",
   "metadata": {},
   "source": [
    "**What happened:** One row for each **combination** of (Item, Payment_Method).\n",
    "\n",
    "**Insight:** \"Coffee paid by Credit Card\" vs \"Coffee paid by Cash\" are separate groups."
   ]
  },
  {
   "cell_type": "markdown",
   "metadata": {},
   "source": [
    "---\n",
    "\n",
    "## 8. GROUP BY Rules\n",
    "\n",
    "> **🚨 RULE: Every column in SELECT must be either:**\n",
    "> 1. **In the GROUP BY clause**, OR\n",
    "> 2. **Inside an aggregate function**\n",
    "\n",
    "Let's see what happens if you break this rule:"
   ]
  },
  {
   "cell_type": "code",
   "execution_count": 17,
   "metadata": {
    "execution": {
     "iopub.execute_input": "2025-10-07T16:55:22.283693Z",
     "iopub.status.busy": "2025-10-07T16:55:22.283646Z",
     "iopub.status.idle": "2025-10-07T16:55:22.285277Z",
     "shell.execute_reply": "2025-10-07T16:55:22.285090Z"
    }
   },
   "outputs": [
    {
     "name": "stdout",
     "output_type": "stream",
     "text": [
      "❌ Error: Binder Error: column \"Price Per Unit\" must appear in the GROUP BY clause or must be part of an aggregate function.\n",
      "Either add it to the GROUP BY list, or use \"ANY_VALUE(Price Per Unit)\" if the exact value of \"Price Per Unit\" is not important.\n",
      "\n",
      "LINE 4:             \"Price Per Unit\",\n",
      "                    ^\n"
     ]
    }
   ],
   "source": [
    "# ❌ WRONG - \"Price Per Unit\" is not in GROUP BY and not aggregated\n",
    "try:\n",
    "    con.execute(\"\"\"\n",
    "        SELECT \n",
    "            Item,\n",
    "            \"Price Per Unit\",\n",
    "            COUNT(*) AS transactions\n",
    "        FROM cafe\n",
    "        GROUP BY Item\n",
    "    \"\"\").df()\n",
    "except Exception as e:\n",
    "    print(f\"❌ Error: {e}\")"
   ]
  },
  {
   "cell_type": "markdown",
   "metadata": {},
   "source": [
    "**Why this fails:** \n",
    "- We're grouping by `Item`\n",
    "- But `Price` is not in GROUP BY\n",
    "- Each item has MANY prices - which one should SQL show?\n",
    "- SQL doesn't know, so it errors!"
   ]
  },
  {
   "cell_type": "code",
   "execution_count": 18,
   "metadata": {
    "execution": {
     "iopub.execute_input": "2025-10-07T16:55:22.286142Z",
     "iopub.status.busy": "2025-10-07T16:55:22.286094Z",
     "iopub.status.idle": "2025-10-07T16:55:22.289150Z",
     "shell.execute_reply": "2025-10-07T16:55:22.288969Z"
    }
   },
   "outputs": [
    {
     "data": {
      "text/html": [
       "<div>\n",
       "<style scoped>\n",
       "    .dataframe tbody tr th:only-of-type {\n",
       "        vertical-align: middle;\n",
       "    }\n",
       "\n",
       "    .dataframe tbody tr th {\n",
       "        vertical-align: top;\n",
       "    }\n",
       "\n",
       "    .dataframe thead th {\n",
       "        text-align: right;\n",
       "    }\n",
       "</style>\n",
       "<table border=\"1\" class=\"dataframe\">\n",
       "  <thead>\n",
       "    <tr style=\"text-align: right;\">\n",
       "      <th></th>\n",
       "      <th>Item</th>\n",
       "      <th>avg_price</th>\n",
       "      <th>transactions</th>\n",
       "    </tr>\n",
       "  </thead>\n",
       "  <tbody>\n",
       "    <tr>\n",
       "      <th>0</th>\n",
       "      <td>Juice</td>\n",
       "      <td>3.00</td>\n",
       "      <td>1110</td>\n",
       "    </tr>\n",
       "    <tr>\n",
       "      <th>1</th>\n",
       "      <td>Coffee</td>\n",
       "      <td>2.00</td>\n",
       "      <td>1108</td>\n",
       "    </tr>\n",
       "    <tr>\n",
       "      <th>2</th>\n",
       "      <td>Cake</td>\n",
       "      <td>3.00</td>\n",
       "      <td>1085</td>\n",
       "    </tr>\n",
       "    <tr>\n",
       "      <th>3</th>\n",
       "      <td>Sandwich</td>\n",
       "      <td>4.00</td>\n",
       "      <td>1082</td>\n",
       "    </tr>\n",
       "    <tr>\n",
       "      <th>4</th>\n",
       "      <td>Salad</td>\n",
       "      <td>5.00</td>\n",
       "      <td>1082</td>\n",
       "    </tr>\n",
       "    <tr>\n",
       "      <th>5</th>\n",
       "      <td>Smoothie</td>\n",
       "      <td>4.00</td>\n",
       "      <td>1036</td>\n",
       "    </tr>\n",
       "    <tr>\n",
       "      <th>6</th>\n",
       "      <td>Cookie</td>\n",
       "      <td>1.00</td>\n",
       "      <td>1026</td>\n",
       "    </tr>\n",
       "    <tr>\n",
       "      <th>7</th>\n",
       "      <td>Tea</td>\n",
       "      <td>1.50</td>\n",
       "      <td>1023</td>\n",
       "    </tr>\n",
       "    <tr>\n",
       "      <th>8</th>\n",
       "      <td>UNKNOWN</td>\n",
       "      <td>2.88</td>\n",
       "      <td>326</td>\n",
       "    </tr>\n",
       "    <tr>\n",
       "      <th>9</th>\n",
       "      <td>None</td>\n",
       "      <td>2.98</td>\n",
       "      <td>310</td>\n",
       "    </tr>\n",
       "  </tbody>\n",
       "</table>\n",
       "</div>"
      ],
      "text/plain": [
       "       Item  avg_price  transactions\n",
       "0     Juice       3.00          1110\n",
       "1    Coffee       2.00          1108\n",
       "2      Cake       3.00          1085\n",
       "3  Sandwich       4.00          1082\n",
       "4     Salad       5.00          1082\n",
       "5  Smoothie       4.00          1036\n",
       "6    Cookie       1.00          1026\n",
       "7       Tea       1.50          1023\n",
       "8   UNKNOWN       2.88           326\n",
       "9      None       2.98           310"
      ]
     },
     "execution_count": 18,
     "metadata": {},
     "output_type": "execute_result"
    }
   ],
   "source": [
    "# ✅ CORRECT - \"Price Per Unit\" is aggregated\n",
    "con.execute(\"\"\"\n",
    "    SELECT \n",
    "        Item,\n",
    "        ROUND(AVG(\"Price Per Unit\"), 2) AS avg_price,\n",
    "        COUNT(*) AS transactions\n",
    "    FROM cafe\n",
    "    WHERE \"Price Per Unit\"IS NOT NULL\n",
    "    GROUP BY Item\n",
    "    ORDER BY transactions DESC\n",
    "    LIMIT 10\n",
    "\"\"\").df()"
   ]
  },
  {
   "cell_type": "markdown",
   "metadata": {},
   "source": [
    "**Now it works!** Because `Price` is aggregated with `AVG()`."
   ]
  },
  {
   "cell_type": "markdown",
   "metadata": {},
   "source": [
    "---\n",
    "\n",
    "## 9. WHERE vs HAVING: The Critical Distinction\n",
    "\n",
    "> **🚨 MOST IMPORTANT CONCEPT IN THIS NOTEBOOK**\n",
    "\n",
    "### The Difference\n",
    "\n",
    "| | WHERE | HAVING |\n",
    "|---|---|---|\n",
    "| **What it filters** | Individual rows | Groups (after aggregation) |\n",
    "| **When it runs** | BEFORE grouping | AFTER grouping |\n",
    "| **Can use aggregates?** | ❌ No | ✅ Yes |\n",
    "| **Example** | \"Transactions over $5\" | \"Items with >100 transactions\" |"
   ]
  },
  {
   "cell_type": "markdown",
   "metadata": {},
   "source": [
    "### Example 1: WHERE Filters Rows BEFORE Grouping\n",
    "\n",
    "**Business question:** \"Revenue per item, but only include transactions $4 or more.\""
   ]
  },
  {
   "cell_type": "code",
   "execution_count": 19,
   "metadata": {
    "execution": {
     "iopub.execute_input": "2025-10-07T16:55:22.290164Z",
     "iopub.status.busy": "2025-10-07T16:55:22.290103Z",
     "iopub.status.idle": "2025-10-07T16:55:22.293180Z",
     "shell.execute_reply": "2025-10-07T16:55:22.292986Z"
    }
   },
   "outputs": [
    {
     "data": {
      "text/html": [
       "<div>\n",
       "<style scoped>\n",
       "    .dataframe tbody tr th:only-of-type {\n",
       "        vertical-align: middle;\n",
       "    }\n",
       "\n",
       "    .dataframe tbody tr th {\n",
       "        vertical-align: top;\n",
       "    }\n",
       "\n",
       "    .dataframe thead th {\n",
       "        text-align: right;\n",
       "    }\n",
       "</style>\n",
       "<table border=\"1\" class=\"dataframe\">\n",
       "  <thead>\n",
       "    <tr style=\"text-align: right;\">\n",
       "      <th></th>\n",
       "      <th>Item</th>\n",
       "      <th>transactions</th>\n",
       "      <th>revenue</th>\n",
       "    </tr>\n",
       "  </thead>\n",
       "  <tbody>\n",
       "    <tr>\n",
       "      <th>0</th>\n",
       "      <td>Salad</td>\n",
       "      <td>1030</td>\n",
       "      <td>15600.0</td>\n",
       "    </tr>\n",
       "    <tr>\n",
       "      <th>1</th>\n",
       "      <td>Sandwich</td>\n",
       "      <td>1022</td>\n",
       "      <td>12296.0</td>\n",
       "    </tr>\n",
       "    <tr>\n",
       "      <th>2</th>\n",
       "      <td>Smoothie</td>\n",
       "      <td>994</td>\n",
       "      <td>12132.0</td>\n",
       "    </tr>\n",
       "    <tr>\n",
       "      <th>3</th>\n",
       "      <td>None</td>\n",
       "      <td>113</td>\n",
       "      <td>1512.0</td>\n",
       "    </tr>\n",
       "    <tr>\n",
       "      <th>4</th>\n",
       "      <td>UNKNOWN</td>\n",
       "      <td>106</td>\n",
       "      <td>1382.0</td>\n",
       "    </tr>\n",
       "    <tr>\n",
       "      <th>5</th>\n",
       "      <td>ERROR</td>\n",
       "      <td>94</td>\n",
       "      <td>1272.0</td>\n",
       "    </tr>\n",
       "  </tbody>\n",
       "</table>\n",
       "</div>"
      ],
      "text/plain": [
       "       Item  transactions  revenue\n",
       "0     Salad          1030  15600.0\n",
       "1  Sandwich          1022  12296.0\n",
       "2  Smoothie           994  12132.0\n",
       "3      None           113   1512.0\n",
       "4   UNKNOWN           106   1382.0\n",
       "5     ERROR            94   1272.0"
      ]
     },
     "execution_count": 19,
     "metadata": {},
     "output_type": "execute_result"
    }
   ],
   "source": [
    "con.execute(\"\"\"\n",
    "    SELECT \n",
    "        Item,\n",
    "        COUNT(*) AS transactions,\n",
    "        ROUND(SUM(\"Price Per Unit\" * Quantity), 2) AS revenue\n",
    "    FROM cafe\n",
    "    WHERE \"Price Per Unit\" >= 4.00  -- Filter ROWS before grouping\n",
    "      AND \"Price Per Unit\" IS NOT NULL \n",
    "      AND Quantity IS NOT NULL\n",
    "    GROUP BY Item\n",
    "    ORDER BY revenue DESC\n",
    "    LIMIT 10\n",
    "\"\"\").df()"
   ]
  },
  {
   "cell_type": "markdown",
   "metadata": {},
   "source": [
    "**Execution order:**\n",
    "1. WHERE filters out rows with Price < $4\n",
    "2. Then GROUP BY groups remaining rows\n",
    "3. Then COUNT and SUM within each group"
   ]
  },
  {
   "cell_type": "markdown",
   "metadata": {},
   "source": [
    "### Example 2: HAVING Filters Groups AFTER Aggregation\n",
    "\n",
    "**Business question:** \"Show me items with more than 100 transactions.\""
   ]
  },
  {
   "cell_type": "code",
   "execution_count": 20,
   "metadata": {
    "execution": {
     "iopub.execute_input": "2025-10-07T16:55:22.294167Z",
     "iopub.status.busy": "2025-10-07T16:55:22.294107Z",
     "iopub.status.idle": "2025-10-07T16:55:22.297582Z",
     "shell.execute_reply": "2025-10-07T16:55:22.297388Z"
    }
   },
   "outputs": [
    {
     "data": {
      "text/html": [
       "<div>\n",
       "<style scoped>\n",
       "    .dataframe tbody tr th:only-of-type {\n",
       "        vertical-align: middle;\n",
       "    }\n",
       "\n",
       "    .dataframe tbody tr th {\n",
       "        vertical-align: top;\n",
       "    }\n",
       "\n",
       "    .dataframe thead th {\n",
       "        text-align: right;\n",
       "    }\n",
       "</style>\n",
       "<table border=\"1\" class=\"dataframe\">\n",
       "  <thead>\n",
       "    <tr style=\"text-align: right;\">\n",
       "      <th></th>\n",
       "      <th>Item</th>\n",
       "      <th>transactions</th>\n",
       "      <th>revenue</th>\n",
       "    </tr>\n",
       "  </thead>\n",
       "  <tbody>\n",
       "    <tr>\n",
       "      <th>0</th>\n",
       "      <td>Juice</td>\n",
       "      <td>1063</td>\n",
       "      <td>9561.0</td>\n",
       "    </tr>\n",
       "    <tr>\n",
       "      <th>1</th>\n",
       "      <td>Coffee</td>\n",
       "      <td>1048</td>\n",
       "      <td>6424.0</td>\n",
       "    </tr>\n",
       "    <tr>\n",
       "      <th>2</th>\n",
       "      <td>Cake</td>\n",
       "      <td>1042</td>\n",
       "      <td>9540.0</td>\n",
       "    </tr>\n",
       "    <tr>\n",
       "      <th>3</th>\n",
       "      <td>Salad</td>\n",
       "      <td>1030</td>\n",
       "      <td>15600.0</td>\n",
       "    </tr>\n",
       "    <tr>\n",
       "      <th>4</th>\n",
       "      <td>Sandwich</td>\n",
       "      <td>1022</td>\n",
       "      <td>12296.0</td>\n",
       "    </tr>\n",
       "    <tr>\n",
       "      <th>5</th>\n",
       "      <td>Smoothie</td>\n",
       "      <td>994</td>\n",
       "      <td>12132.0</td>\n",
       "    </tr>\n",
       "    <tr>\n",
       "      <th>6</th>\n",
       "      <td>Cookie</td>\n",
       "      <td>976</td>\n",
       "      <td>2898.0</td>\n",
       "    </tr>\n",
       "    <tr>\n",
       "      <th>7</th>\n",
       "      <td>Tea</td>\n",
       "      <td>972</td>\n",
       "      <td>4431.0</td>\n",
       "    </tr>\n",
       "    <tr>\n",
       "      <th>8</th>\n",
       "      <td>UNKNOWN</td>\n",
       "      <td>304</td>\n",
       "      <td>2550.0</td>\n",
       "    </tr>\n",
       "    <tr>\n",
       "      <th>9</th>\n",
       "      <td>None</td>\n",
       "      <td>293</td>\n",
       "      <td>2651.0</td>\n",
       "    </tr>\n",
       "    <tr>\n",
       "      <th>10</th>\n",
       "      <td>ERROR</td>\n",
       "      <td>262</td>\n",
       "      <td>2395.5</td>\n",
       "    </tr>\n",
       "  </tbody>\n",
       "</table>\n",
       "</div>"
      ],
      "text/plain": [
       "        Item  transactions  revenue\n",
       "0      Juice          1063   9561.0\n",
       "1     Coffee          1048   6424.0\n",
       "2       Cake          1042   9540.0\n",
       "3      Salad          1030  15600.0\n",
       "4   Sandwich          1022  12296.0\n",
       "5   Smoothie           994  12132.0\n",
       "6     Cookie           976   2898.0\n",
       "7        Tea           972   4431.0\n",
       "8    UNKNOWN           304   2550.0\n",
       "9       None           293   2651.0\n",
       "10     ERROR           262   2395.5"
      ]
     },
     "execution_count": 20,
     "metadata": {},
     "output_type": "execute_result"
    }
   ],
   "source": [
    "con.execute(\"\"\"\n",
    "    SELECT \n",
    "        Item,\n",
    "        COUNT(*) AS transactions,\n",
    "        ROUND(SUM(\"Price Per Unit\"* Quantity), 2) AS revenue\n",
    "    FROM cafe\n",
    "    WHERE \"Price Per Unit\"IS NOT NULL AND Quantity IS NOT NULL\n",
    "    GROUP BY Item\n",
    "    HAVING COUNT(*) > 100  -- Filter GROUPS after aggregation\n",
    "    ORDER BY transactions DESC\n",
    "\"\"\").df()"
   ]
  },
  {
   "cell_type": "markdown",
   "metadata": {},
   "source": [
    "**Execution order:**\n",
    "1. WHERE filters individual rows (NULL check)\n",
    "2. GROUP BY groups remaining rows\n",
    "3. COUNT and SUM within each group\n",
    "4. HAVING filters out groups with COUNT ≤ 100"
   ]
  },
  {
   "cell_type": "markdown",
   "metadata": {},
   "source": [
    "### Example 3: Using Both WHERE and HAVING\n",
    "\n",
    "**Business question:** \"Items with >50 transactions, but only count transactions over $3.\""
   ]
  },
  {
   "cell_type": "code",
   "execution_count": 21,
   "metadata": {
    "execution": {
     "iopub.execute_input": "2025-10-07T16:55:22.298558Z",
     "iopub.status.busy": "2025-10-07T16:55:22.298509Z",
     "iopub.status.idle": "2025-10-07T16:55:22.301670Z",
     "shell.execute_reply": "2025-10-07T16:55:22.301493Z"
    }
   },
   "outputs": [
    {
     "data": {
      "text/html": [
       "<div>\n",
       "<style scoped>\n",
       "    .dataframe tbody tr th:only-of-type {\n",
       "        vertical-align: middle;\n",
       "    }\n",
       "\n",
       "    .dataframe tbody tr th {\n",
       "        vertical-align: top;\n",
       "    }\n",
       "\n",
       "    .dataframe thead th {\n",
       "        text-align: right;\n",
       "    }\n",
       "</style>\n",
       "<table border=\"1\" class=\"dataframe\">\n",
       "  <thead>\n",
       "    <tr style=\"text-align: right;\">\n",
       "      <th></th>\n",
       "      <th>Item</th>\n",
       "      <th>transactions</th>\n",
       "      <th>avg_price</th>\n",
       "      <th>revenue</th>\n",
       "    </tr>\n",
       "  </thead>\n",
       "  <tbody>\n",
       "    <tr>\n",
       "      <th>0</th>\n",
       "      <td>Salad</td>\n",
       "      <td>1030</td>\n",
       "      <td>5.00</td>\n",
       "      <td>15600.0</td>\n",
       "    </tr>\n",
       "    <tr>\n",
       "      <th>1</th>\n",
       "      <td>Sandwich</td>\n",
       "      <td>1022</td>\n",
       "      <td>4.00</td>\n",
       "      <td>12296.0</td>\n",
       "    </tr>\n",
       "    <tr>\n",
       "      <th>2</th>\n",
       "      <td>Smoothie</td>\n",
       "      <td>994</td>\n",
       "      <td>4.00</td>\n",
       "      <td>12132.0</td>\n",
       "    </tr>\n",
       "    <tr>\n",
       "      <th>3</th>\n",
       "      <td>None</td>\n",
       "      <td>113</td>\n",
       "      <td>4.32</td>\n",
       "      <td>1512.0</td>\n",
       "    </tr>\n",
       "    <tr>\n",
       "      <th>4</th>\n",
       "      <td>UNKNOWN</td>\n",
       "      <td>106</td>\n",
       "      <td>4.41</td>\n",
       "      <td>1382.0</td>\n",
       "    </tr>\n",
       "    <tr>\n",
       "      <th>5</th>\n",
       "      <td>ERROR</td>\n",
       "      <td>94</td>\n",
       "      <td>4.40</td>\n",
       "      <td>1272.0</td>\n",
       "    </tr>\n",
       "  </tbody>\n",
       "</table>\n",
       "</div>"
      ],
      "text/plain": [
       "       Item  transactions  avg_price  revenue\n",
       "0     Salad          1030       5.00  15600.0\n",
       "1  Sandwich          1022       4.00  12296.0\n",
       "2  Smoothie           994       4.00  12132.0\n",
       "3      None           113       4.32   1512.0\n",
       "4   UNKNOWN           106       4.41   1382.0\n",
       "5     ERROR            94       4.40   1272.0"
      ]
     },
     "execution_count": 21,
     "metadata": {},
     "output_type": "execute_result"
    }
   ],
   "source": [
    "con.execute(\"\"\"\n",
    "    SELECT \n",
    "        Item,\n",
    "        COUNT(*) AS transactions,\n",
    "        ROUND(AVG(\"Price Per Unit\"), 2) AS avg_price,\n",
    "        ROUND(SUM(\"Price Per Unit\"* Quantity), 2) AS revenue\n",
    "    FROM cafe\n",
    "    WHERE \"Price Per Unit\"> 3.00          -- Filter rows: only include price > $3\n",
    "      AND \"Price Per Unit\"IS NOT NULL \n",
    "      AND Quantity IS NOT NULL\n",
    "    GROUP BY Item\n",
    "    HAVING COUNT(*) > 50        -- Filter groups: only show items with >50 transactions\n",
    "    ORDER BY revenue DESC\n",
    "    LIMIT 10\n",
    "\"\"\").df()"
   ]
  },
  {
   "cell_type": "markdown",
   "metadata": {},
   "source": [
    "**Execution order:**\n",
    "1. **WHERE** filters rows (Price > $3)\n",
    "2. **GROUP BY** groups remaining rows by Item\n",
    "3. Aggregates calculated (COUNT, AVG, SUM)\n",
    "4. **HAVING** filters groups (COUNT > 50)\n",
    "5. **ORDER BY** sorts results"
   ]
  },
  {
   "cell_type": "markdown",
   "metadata": {},
   "source": [
    "### Side-by-Side Comparison\n",
    "\n",
    "Let's see the difference clearly:"
   ]
  },
  {
   "cell_type": "code",
   "execution_count": 22,
   "metadata": {
    "execution": {
     "iopub.execute_input": "2025-10-07T16:55:22.302601Z",
     "iopub.status.busy": "2025-10-07T16:55:22.302554Z",
     "iopub.status.idle": "2025-10-07T16:55:22.304839Z",
     "shell.execute_reply": "2025-10-07T16:55:22.304650Z"
    }
   },
   "outputs": [
    {
     "name": "stdout",
     "output_type": "stream",
     "text": [
      "Query 1: WHERE \"Price Per Unit\" > 3 (filters rows before grouping)\n",
      "   Payment Method  transactions\n",
      "0            None           885\n",
      "1     Credit Card           831\n",
      "2            Cash           813\n",
      "3  Digital Wallet           802\n",
      "4           ERROR           106\n",
      "5         UNKNOWN            98\n",
      "\n"
     ]
    }
   ],
   "source": [
    "# Query 1: WHERE only\n",
    "result1 = con.execute(\"\"\"\n",
    "    SELECT \n",
    "        \"Payment Method\",\n",
    "        COUNT(*) AS transactions\n",
    "    FROM cafe\n",
    "    WHERE \"Price Per Unit\" > 3.00  -- Filter rows\n",
    "      AND \"Price Per Unit\" IS NOT NULL\n",
    "    GROUP BY \"Payment Method\"\n",
    "    ORDER BY transactions DESC\n",
    "\"\"\").df()\n",
    "\n",
    "print('Query 1: WHERE \"Price Per Unit\" > 3 (filters rows before grouping)')\n",
    "print(result1)\n",
    "print()"
   ]
  },
  {
   "cell_type": "code",
   "execution_count": 23,
   "metadata": {
    "execution": {
     "iopub.execute_input": "2025-10-07T16:55:22.305691Z",
     "iopub.status.busy": "2025-10-07T16:55:22.305636Z",
     "iopub.status.idle": "2025-10-07T16:55:22.307922Z",
     "shell.execute_reply": "2025-10-07T16:55:22.307753Z"
    }
   },
   "outputs": [
    {
     "name": "stdout",
     "output_type": "stream",
     "text": [
      "Query 2: HAVING COUNT > 100 (filters groups after aggregation)\n",
      "   Payment Method  transactions\n",
      "0            Cash          2143\n",
      "1     Credit Card          2145\n",
      "2            None          2439\n",
      "3         UNKNOWN           279\n",
      "4           ERROR           286\n",
      "5  Digital Wallet          2175\n"
     ]
    }
   ],
   "source": [
    "# Query 2: HAVING only\n",
    "result2 = con.execute(\"\"\"\n",
    "    SELECT \n",
    "        \"Payment Method\",\n",
    "        COUNT(*) AS transactions\n",
    "    FROM cafe\n",
    "    WHERE \"Price Per Unit\"IS NOT NULL\n",
    "    GROUP BY \"Payment Method\"\n",
    "    HAVING COUNT(*) > 100  -- Filter groups\n",
    "\"\"\").df()\n",
    "\n",
    "print(\"Query 2: HAVING COUNT > 100 (filters groups after aggregation)\")\n",
    "print(result2)"
   ]
  },
  {
   "cell_type": "markdown",
   "metadata": {},
   "source": [
    "**See the difference?**\n",
    "- Query 1: Fewer transactions per group (because we filtered rows first)\n",
    "- Query 2: Some payment methods excluded entirely (because their counts were ≤100)"
   ]
  },
  {
   "cell_type": "markdown",
   "metadata": {},
   "source": [
    "### Common Mistake: Using Aggregate in WHERE\n",
    "\n",
    "❌ **This doesn't work:**"
   ]
  },
  {
   "cell_type": "code",
   "execution_count": 24,
   "metadata": {
    "execution": {
     "iopub.execute_input": "2025-10-07T16:55:22.308846Z",
     "iopub.status.busy": "2025-10-07T16:55:22.308789Z",
     "iopub.status.idle": "2025-10-07T16:55:22.310487Z",
     "shell.execute_reply": "2025-10-07T16:55:22.310271Z"
    }
   },
   "outputs": [
    {
     "name": "stdout",
     "output_type": "stream",
     "text": [
      "❌ Error: Binder Error: WHERE clause cannot contain aggregates!\n",
      "\n",
      "LINE 6:         WHERE COUNT(*) > 100  -- ❌ Wr...\n"
     ]
    }
   ],
   "source": [
    "# ❌ WRONG - Can't use aggregate in WHERE\n",
    "try:\n",
    "    con.execute(\"\"\"\n",
    "        SELECT \n",
    "            Item,\n",
    "            COUNT(*) AS transactions\n",
    "        FROM cafe\n",
    "        WHERE COUNT(*) > 100  -- ❌ Wrong!\n",
    "        GROUP BY Item\n",
    "    \"\"\").df()\n",
    "except Exception as e:\n",
    "    print(f\"❌ Error: {str(e)[:100]}...\")"
   ]
  },
  {
   "cell_type": "markdown",
   "metadata": {},
   "source": [
    "✅ **Use HAVING instead:**"
   ]
  },
  {
   "cell_type": "markdown",
   "metadata": {},
   "source": [
    "---\n",
    "\n",
    "### ⏸️ Pause and Try!\n",
    "\n",
    "**Your task:** Write a complete query using HAVING to filter aggregated groups.\n",
    "\n",
    "**Requirements:**\n",
    "1. Find items with **more than 200 transactions**\n",
    "2. Show: Item name, transaction count, and total revenue\n",
    "3. Filter out NULL prices and quantities (use `WHERE`)\n",
    "4. Use `HAVING` to filter groups (NOT WHERE - this filters after aggregation)\n",
    "5. Order results by **revenue descending**\n",
    "\n",
    "Replace the placeholder query in the cell below with your complete SQL query."
   ]
  },
  {
   "cell_type": "markdown",
   "metadata": {},
   "source": [
    "---\n",
    "\n",
    "### ⏸️ Pause and Try!\n",
    "\n",
    "**Your task:** Write a complete query using HAVING to filter aggregated groups.\n",
    "\n",
    "**Requirements:**\n",
    "1. Find items with **more than 200 transactions**\n",
    "2. Show: Item name, transaction count, and total revenue\n",
    "3. Filter out NULL prices and quantities (use `WHERE`)\n",
    "4. Use `HAVING` to filter groups (NOT WHERE - this filters after aggregation)\n",
    "5. Order results by **revenue descending**\n",
    "\n",
    "Replace the placeholder query in the cell below with your complete SQL query."
   ]
  },
  {
   "cell_type": "code",
   "execution_count": 25,
   "metadata": {
    "execution": {
     "iopub.execute_input": "2025-10-07T16:55:22.311492Z",
     "iopub.status.busy": "2025-10-07T16:55:22.311438Z",
     "iopub.status.idle": "2025-10-07T16:55:22.313952Z",
     "shell.execute_reply": "2025-10-07T16:55:22.313773Z"
    }
   },
   "outputs": [
    {
     "data": {
      "text/html": [
       "<div>\n",
       "<style scoped>\n",
       "    .dataframe tbody tr th:only-of-type {\n",
       "        vertical-align: middle;\n",
       "    }\n",
       "\n",
       "    .dataframe tbody tr th {\n",
       "        vertical-align: top;\n",
       "    }\n",
       "\n",
       "    .dataframe thead th {\n",
       "        text-align: right;\n",
       "    }\n",
       "</style>\n",
       "<table border=\"1\" class=\"dataframe\">\n",
       "  <thead>\n",
       "    <tr style=\"text-align: right;\">\n",
       "      <th></th>\n",
       "      <th>Item</th>\n",
       "      <th>transactions</th>\n",
       "    </tr>\n",
       "  </thead>\n",
       "  <tbody>\n",
       "    <tr>\n",
       "      <th>0</th>\n",
       "      <td>Juice</td>\n",
       "      <td>1171</td>\n",
       "    </tr>\n",
       "    <tr>\n",
       "      <th>1</th>\n",
       "      <td>Coffee</td>\n",
       "      <td>1165</td>\n",
       "    </tr>\n",
       "    <tr>\n",
       "      <th>2</th>\n",
       "      <td>Salad</td>\n",
       "      <td>1148</td>\n",
       "    </tr>\n",
       "    <tr>\n",
       "      <th>3</th>\n",
       "      <td>Cake</td>\n",
       "      <td>1139</td>\n",
       "    </tr>\n",
       "    <tr>\n",
       "      <th>4</th>\n",
       "      <td>Sandwich</td>\n",
       "      <td>1131</td>\n",
       "    </tr>\n",
       "    <tr>\n",
       "      <th>5</th>\n",
       "      <td>Smoothie</td>\n",
       "      <td>1096</td>\n",
       "    </tr>\n",
       "    <tr>\n",
       "      <th>6</th>\n",
       "      <td>Cookie</td>\n",
       "      <td>1092</td>\n",
       "    </tr>\n",
       "    <tr>\n",
       "      <th>7</th>\n",
       "      <td>Tea</td>\n",
       "      <td>1089</td>\n",
       "    </tr>\n",
       "    <tr>\n",
       "      <th>8</th>\n",
       "      <td>UNKNOWN</td>\n",
       "      <td>344</td>\n",
       "    </tr>\n",
       "    <tr>\n",
       "      <th>9</th>\n",
       "      <td>None</td>\n",
       "      <td>333</td>\n",
       "    </tr>\n",
       "  </tbody>\n",
       "</table>\n",
       "</div>"
      ],
      "text/plain": [
       "       Item  transactions\n",
       "0     Juice          1171\n",
       "1    Coffee          1165\n",
       "2     Salad          1148\n",
       "3      Cake          1139\n",
       "4  Sandwich          1131\n",
       "5  Smoothie          1096\n",
       "6    Cookie          1092\n",
       "7       Tea          1089\n",
       "8   UNKNOWN           344\n",
       "9      None           333"
      ]
     },
     "execution_count": 25,
     "metadata": {},
     "output_type": "execute_result"
    }
   ],
   "source": [
    "# ✅ CORRECT - Use HAVING for aggregates\n",
    "con.execute(\"\"\"\n",
    "    SELECT \n",
    "        Item,\n",
    "        COUNT(*) AS transactions\n",
    "    FROM cafe\n",
    "    GROUP BY Item\n",
    "    HAVING COUNT(*) > 100  -- ✅ Correct!\n",
    "    ORDER BY transactions DESC\n",
    "    LIMIT 10\n",
    "\"\"\").df()"
   ]
  },
  {
   "cell_type": "markdown",
   "metadata": {},
   "source": [
    "---\n",
    "\n",
    "## 10. Decision Guide: WHERE vs HAVING\n",
    "\n",
    "**Ask yourself: \"Am I filtering individual rows or aggregated groups?\"**\n",
    "\n",
    "### Use WHERE when:\n",
    "- ✅ Filtering **individual rows**\n",
    "- ✅ Condition doesn't involve aggregates\n",
    "- ✅ Examples:\n",
    "  - \"Only transactions over $5\"\n",
    "  - \"Only coffee sales\"\n",
    "  - \"Only credit card payments\"\n",
    "\n",
    "### Use HAVING when:\n",
    "- ✅ Filtering **groups** after aggregation\n",
    "- ✅ Condition involves aggregates (COUNT, SUM, AVG, etc.)\n",
    "- ✅ Examples:\n",
    "  - \"Items with more than 100 transactions\"\n",
    "  - \"Categories with revenue over $1000\"\n",
    "  - \"Customers with average purchase over $50\"\n",
    "\n",
    "### Use BOTH when:\n",
    "```sql\n",
    "SELECT category, COUNT(*), SUM(revenue)\n",
    "FROM sales\n",
    "WHERE price > 10         -- Filter rows first\n",
    "GROUP BY category\n",
    "HAVING COUNT(*) > 100    -- Then filter groups\n",
    "```\n",
    "\n",
    "---"
   ]
  },
  {
   "cell_type": "markdown",
   "metadata": {},
   "source": [
    "## 11. Putting It All Together\n",
    "\n",
    "### Complex Business Question\n",
    "\n",
    "**Question:** \n",
    "> \"Which items had more than 50 transactions with prices between $4-$7, and what was their total revenue? Show top 10 by revenue.\""
   ]
  },
  {
   "cell_type": "code",
   "execution_count": 26,
   "metadata": {
    "execution": {
     "iopub.execute_input": "2025-10-07T16:55:22.314884Z",
     "iopub.status.busy": "2025-10-07T16:55:22.314837Z",
     "iopub.status.idle": "2025-10-07T16:55:22.318154Z",
     "shell.execute_reply": "2025-10-07T16:55:22.317967Z"
    }
   },
   "outputs": [
    {
     "data": {
      "text/html": [
       "<div>\n",
       "<style scoped>\n",
       "    .dataframe tbody tr th:only-of-type {\n",
       "        vertical-align: middle;\n",
       "    }\n",
       "\n",
       "    .dataframe tbody tr th {\n",
       "        vertical-align: top;\n",
       "    }\n",
       "\n",
       "    .dataframe thead th {\n",
       "        text-align: right;\n",
       "    }\n",
       "</style>\n",
       "<table border=\"1\" class=\"dataframe\">\n",
       "  <thead>\n",
       "    <tr style=\"text-align: right;\">\n",
       "      <th></th>\n",
       "      <th>Item</th>\n",
       "      <th>transactions</th>\n",
       "      <th>avg_price</th>\n",
       "      <th>total_revenue</th>\n",
       "    </tr>\n",
       "  </thead>\n",
       "  <tbody>\n",
       "    <tr>\n",
       "      <th>0</th>\n",
       "      <td>Salad</td>\n",
       "      <td>1030</td>\n",
       "      <td>5.00</td>\n",
       "      <td>15600.0</td>\n",
       "    </tr>\n",
       "    <tr>\n",
       "      <th>1</th>\n",
       "      <td>Sandwich</td>\n",
       "      <td>1022</td>\n",
       "      <td>4.00</td>\n",
       "      <td>12296.0</td>\n",
       "    </tr>\n",
       "    <tr>\n",
       "      <th>2</th>\n",
       "      <td>Smoothie</td>\n",
       "      <td>994</td>\n",
       "      <td>4.00</td>\n",
       "      <td>12132.0</td>\n",
       "    </tr>\n",
       "    <tr>\n",
       "      <th>3</th>\n",
       "      <td>None</td>\n",
       "      <td>113</td>\n",
       "      <td>4.32</td>\n",
       "      <td>1512.0</td>\n",
       "    </tr>\n",
       "    <tr>\n",
       "      <th>4</th>\n",
       "      <td>UNKNOWN</td>\n",
       "      <td>106</td>\n",
       "      <td>4.41</td>\n",
       "      <td>1382.0</td>\n",
       "    </tr>\n",
       "    <tr>\n",
       "      <th>5</th>\n",
       "      <td>ERROR</td>\n",
       "      <td>94</td>\n",
       "      <td>4.40</td>\n",
       "      <td>1272.0</td>\n",
       "    </tr>\n",
       "  </tbody>\n",
       "</table>\n",
       "</div>"
      ],
      "text/plain": [
       "       Item  transactions  avg_price  total_revenue\n",
       "0     Salad          1030       5.00        15600.0\n",
       "1  Sandwich          1022       4.00        12296.0\n",
       "2  Smoothie           994       4.00        12132.0\n",
       "3      None           113       4.32         1512.0\n",
       "4   UNKNOWN           106       4.41         1382.0\n",
       "5     ERROR            94       4.40         1272.0"
      ]
     },
     "execution_count": 26,
     "metadata": {},
     "output_type": "execute_result"
    }
   ],
   "source": [
    "con.execute(\"\"\"\n",
    "    SELECT \n",
    "        Item,\n",
    "        COUNT(*) AS transactions,\n",
    "        ROUND(AVG(\"Price Per Unit\"), 2) AS avg_price,\n",
    "        ROUND(SUM(\"Price Per Unit\"* Quantity), 2) AS total_revenue\n",
    "    FROM cafe\n",
    "    WHERE \"Price Per Unit\" BETWEEN 4.00 AND 7.00  -- Filter rows: price range\n",
    "      AND \"Price Per Unit\"IS NOT NULL \n",
    "      AND Quantity IS NOT NULL\n",
    "    GROUP BY Item                      -- Group by item\n",
    "    HAVING COUNT(*) > 50               -- Filter groups: >50 transactions\n",
    "    ORDER BY total_revenue DESC        -- Sort by revenue\n",
    "    LIMIT 10                           -- Top 10\n",
    "\"\"\").df()"
   ]
  },
  {
   "cell_type": "markdown",
   "metadata": {},
   "source": [
    "**Breaking it down:**\n",
    "1. **WHERE** - Include only rows with price $4-$7\n",
    "2. **GROUP BY** - Group by Item\n",
    "3. **Aggregates** - COUNT, AVG, SUM within each group\n",
    "4. **HAVING** - Keep only items with >50 transactions\n",
    "5. **ORDER BY** - Sort by revenue descending\n",
    "6. **LIMIT** - Show top 10\n",
    "\n",
    "This query answers a complex business question in 10 lines!"
   ]
  },
  {
   "cell_type": "markdown",
   "metadata": {},
   "source": [
    "---\n",
    "\n",
    "## 12. Common Mistakes Summary\n",
    "\n",
    "### ❌ Mistake 1: Using aggregate in WHERE\n",
    "```sql\n",
    "WHERE COUNT(*) > 100  -- ❌ Wrong!\n",
    "HAVING COUNT(*) > 100 -- ✅ Correct\n",
    "```\n",
    "\n",
    "### ❌ Mistake 2: Forgetting column in GROUP BY\n",
    "```sql\n",
    "SELECT Item, Price, COUNT(*)  -- ❌ Price not in GROUP BY or aggregated\n",
    "FROM sales\n",
    "GROUP BY Item\n",
    "```\n",
    "\n",
    "### ❌ Mistake 3: Expecting detail rows after GROUP BY\n",
    "```sql\n",
    "-- After GROUP BY, you only get one row per group\n",
    "-- Detail rows are gone!\n",
    "SELECT Item, COUNT(*)   -- Only 10 rows if 10 unique items\n",
    "FROM sales              -- Even if sales has 10,000 rows\n",
    "GROUP BY Item\n",
    "```\n",
    "\n",
    "### ❌ Mistake 4: Not handling NULLs\n",
    "```sql\n",
    "-- NULLs will form their own group!\n",
    "SELECT Payment_Method, COUNT(*)\n",
    "FROM sales\n",
    "GROUP BY Payment_Method  -- Includes a NULL group if any NULLs exist\n",
    "```\n",
    "\n",
    "---"
   ]
  },
  {
   "cell_type": "markdown",
   "metadata": {},
   "source": [
    "## 13. Summary: What We Learned\n",
    "\n",
    "### Aggregate Functions\n",
    "1. **COUNT(*)** - Counts all rows (including NULLs)\n",
    "2. **COUNT(column)** - Counts non-NULL values\n",
    "3. **SUM, AVG, MIN, MAX** - All ignore NULLs\n",
    "\n",
    "### GROUP BY\n",
    "4. **Mental model:** \"For each X, calculate Y\"\n",
    "5. **Rule:** SELECT columns must be in GROUP BY or aggregated\n",
    "6. **Result:** One row per group (collapses detail rows)\n",
    "\n",
    "### WHERE vs HAVING\n",
    "7. **WHERE** - Filters rows BEFORE grouping\n",
    "8. **HAVING** - Filters groups AFTER aggregation\n",
    "9. **Can't** use aggregates in WHERE\n",
    "10. **Must** use aggregates in HAVING (that's its purpose!)\n",
    "\n",
    "### Most Important Takeaway\n",
    "> **🚨 Filtering rows? → WHERE**  \n",
    "> **🚨 Filtering groups? → HAVING**\n",
    "\n",
    "Master this distinction and you've mastered aggregations!\n",
    "\n",
    "---"
   ]
  },
  {
   "cell_type": "markdown",
   "metadata": {},
   "source": [
    "## Next: Window Functions\n",
    "\n",
    "In the next notebook, we'll learn **window functions** - GROUP BY's more flexible cousin:\n",
    "- \"I want the total per category, but keep all detail rows\"\n",
    "- \"Show me the latest transaction per customer\"\n",
    "- \"Calculate month-over-month growth\"\n",
    "\n",
    "**The key difference:**\n",
    "- GROUP BY: Collapses rows → fewer rows\n",
    "- Window functions: Keep all rows, add calculations\n",
    "\n",
    "This is advanced SQL, but incredibly powerful!\n",
    "\n",
    "**Ready?** Open `day1_block_b_03_window_functions.ipynb`\n",
    "\n",
    "---\n",
    "\n",
    "**Excellent progress!** 🎉 You can now summarize data like a pro."
   ]
  },
  {
   "cell_type": "markdown",
   "metadata": {},
   "source": [
    "---\n",
    "\n",
    "## ⏸️ Take a 5-Minute Break!\n",
    "\n",
    "Before starting **Window Functions** (Notebook 3), give your brain a rest.\n",
    "\n",
    "Window functions are **conceptually challenging** - they require a different mental model than GROUP BY. You'll learn better with a fresh mind.\n",
    "\n",
    "☕ **Stretch, get water, clear your head!**\n",
    "\n",
    "**When you're ready:** Open `day1_block_b_03_window_functions.ipynb`\n",
    "\n",
    "> **Remember:** Windows PRESERVE rows, GROUP BY COLLAPSES rows. This is the key insight you'll need next!"
   ]
  }
 ],
 "metadata": {
  "kernelspec": {
   "display_name": "Python 3 (ipykernel)",
   "language": "python",
   "name": "python3"
  },
  "language_info": {
   "codemirror_mode": {
    "name": "ipython",
    "version": 3
   },
   "file_extension": ".py",
   "mimetype": "text/x-python",
   "name": "python",
   "nbconvert_exporter": "python",
   "pygments_lexer": "ipython3",
   "version": "3.12.9"
  }
 },
 "nbformat": 4,
 "nbformat_minor": 4
}
