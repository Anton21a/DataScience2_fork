{
 "cells": [
  {
   "cell_type": "markdown",
   "metadata": {},
   "source": [
    "# Homework 2: TechMart - QuickBuy Acquisition Data Integration\n",
    "\n",
    "**Analyst:** [Your Name Here]  \n",
    "**Due:** Day 3, Start of Class  \n",
    "**Total Points:** 100  \n",
    "**Deadline Context:** Board meeting Wednesday 9 AM - we need this by Tuesday EOD!\n",
    "\n",
    "---\n",
    "\n",
    "## \ud83c\udfe2 Executive Summary\n",
    "\n",
    "TechMart has acquired QuickBuy for $12M. Their product catalog (194 products, 582 reviews) is trapped in nested JSON from their NoSQL database. \n",
    "\n",
    "**Your mission:** Transform this data into clean, normalized tables for our SQL-based analytics warehouse before tomorrow's board meeting.\n",
    "\n",
    "**Business Impact:**\n",
    "- $2.5M inventory decision (which product lines to keep)\n",
    "- Marketing budget allocation based on engagement\n",
    "- Customer satisfaction benchmarking\n",
    "- Integration roadmap for 50 developers\n",
    "\n",
    "---\n",
    "\n",
    "## \ud83d\udcca Communication Framework\n",
    "\n",
    "**Remember:** You're not just processing data - you're informing $12M worth of business decisions!\n",
    "\n",
    "For each analysis section, consider:\n",
    "- **What** does the data show? (facts)\n",
    "- **So what** does it mean? (interpretation)\n",
    "- **Now what** should we do? (recommendation)\n",
    "\n",
    "Different stakeholders need different information:\n",
    "- **Board/CEO:** Strategic decisions, risks, timeline\n",
    "- **CMO:** Customer insights, engagement patterns\n",
    "- **Product Team:** Feature priorities, development roadmap\n",
    "- **Engineering:** Technical specifications, integration complexity\n",
    "- **Data Quality:** Risk assessment, monitoring needs\n",
    "\n",
    "---\n",
    "\n",
    "## Instructions\n",
    "\n",
    "1. Complete all TODO sections below\n",
    "2. **Add stakeholder communications where marked** (critical for grade!)\n",
    "3. Ensure all assertions pass (data quality is critical!)\n",
    "4. Before submitting: **Kernel \u2192 Restart & Run All Cells**\n",
    "5. Verify all outputs are visible\n",
    "6. Rename file to `hw2_[your_name].ipynb`\n",
    "\n",
    "**Read the README.md for full business context, requirements, and grading rubric!**\n",
    "\n",
    "---"
   ],
   "id": "58afc773"
  },
  {
   "cell_type": "markdown",
   "metadata": {},
   "source": [
    "## Setup\n",
    "\n",
    "Run these cells to set up your analysis environment."
   ],
   "id": "fcd600d8"
  },
  {
   "cell_type": "code",
   "execution_count": null,
   "metadata": {},
   "outputs": [],
   "source": [
    "# Install required packages (if needed)\n",
    "!pip install duckdb pandas -q"
   ],
   "id": "b1414d38"
  },
  {
   "cell_type": "code",
   "execution_count": null,
   "metadata": {},
   "outputs": [],
   "source": [
    "# Import libraries\n",
    "import json\n",
    "import pandas as pd\n",
    "import duckdb\n",
    "from datetime import datetime\n",
    "import warnings\n",
    "warnings.filterwarnings('ignore')\n",
    "\n",
    "print(\"\u2705 Libraries imported successfully!\")\n",
    "print(f\"\ud83d\udcc5 Analysis date: {datetime.now().strftime('%Y-%m-%d')}\")\n",
    "print(\"\u23f0 Remember: Board meeting is Wednesday 9 AM!\")"
   ],
   "id": "1f8c0f21"
  },
  {
   "cell_type": "code",
   "execution_count": null,
   "metadata": {},
   "outputs": [],
   "source": [
    "# Connect to DuckDB (our data warehouse)\n",
    "con = duckdb.connect(':memory:')\n",
    "print(\"\u2705 Connected to TechMart Data Warehouse (DuckDB)!\")"
   ],
   "id": "988733f2"
  },
  {
   "cell_type": "markdown",
   "metadata": {},
   "source": [
    "---\n",
    "\n",
    "## Part 1: Data Ingestion & Exploration (15 points)\n",
    "\n",
    "**Context:** The Head of Analytics just asked: *\"What exactly did we buy? I need to understand QuickBuy's data structure before we integrate.\"*\n",
    "\n",
    "Let's explore what QuickBuy's JSON export contains."
   ],
   "id": "21b12ca9"
  },
  {
   "cell_type": "markdown",
   "metadata": {},
   "source": [
    "### Question 1.1: Load the JSON Data (3 points)\n",
    "\n",
    "**Business Context:** First, we need to load QuickBuy's product catalog export.\n",
    "\n",
    "**Requirements:**\n",
    "- Load the JSON file from `data/products.json`\n",
    "- Store the products array in a variable called `products`\n",
    "- Print the total number of products\n",
    "- Show the data structure type"
   ],
   "id": "e363bd0c"
  },
  {
   "cell_type": "code",
   "execution_count": null,
   "metadata": {},
   "outputs": [],
   "source": [
    "# TODO: Load the JSON file\n",
    "# Hint: Use json.load() with open()\n",
    "\n",
    "# with open('data/products.json', 'r') as f:\n",
    "#     data = ...\n",
    "\n",
    "# products = ...\n",
    "\n",
    "# TODO: Print summary for the Head of Analytics\n",
    "# print(f\"\ud83d\udcca QuickBuy Product Catalog Summary:\")\n",
    "# print(f\"Total products acquired: ...\")\n",
    "# print(f\"Data structure type: ...\")\n"
   ],
   "id": "9f570823"
  },
  {
   "cell_type": "markdown",
   "metadata": {},
   "source": [
    "### Question 1.2: Explore the Structure (4 points)\n",
    "\n",
    "**Business Context:** The CFO wants to know: *\"How many customer reviews are we inheriting? This affects our customer insights strategy.\"*\n",
    "\n",
    "**Requirements:**\n",
    "- Display all keys from the first product\n",
    "- Count the total number of reviews across ALL products\n",
    "- Find which product has the most reviews (show id and title)"
   ],
   "id": "17665d49"
  },
  {
   "cell_type": "code",
   "execution_count": null,
   "metadata": {},
   "outputs": [],
   "source": [
    "# TODO: Show structure of first product\n",
    "print(\"\ud83d\udd0d First product structure:\")\n",
    "# print(\"Keys:\", ...)\n",
    "\n",
    "# TODO: Count total reviews\n",
    "total_reviews = 0\n",
    "# for product in products:\n",
    "#     total_reviews += ...\n",
    "\n",
    "print(f\"\\n\ud83d\udcac Total customer reviews in QuickBuy data: {total_reviews}\")\n",
    "\n",
    "# TODO: Find product with most reviews\n",
    "max_reviews = 0\n",
    "most_reviewed_product = None\n",
    "# for product in products:\n",
    "#     if len(product['reviews']) > max_reviews:\n",
    "#         ...\n",
    "\n",
    "# print(f\"\\n\ud83c\udfc6 Most reviewed product:\")\n",
    "# print(f\"   ID: {most_reviewed_product['id']}\")\n",
    "# print(f\"   Title: {most_reviewed_product['title']}\")\n",
    "# print(f\"   Review count: {max_reviews}\")"
   ],
   "id": "0413015d"
  },
  {
   "cell_type": "markdown",
   "metadata": {},
   "source": [
    "### Question 1.3: Identify Nested Elements (4 points)\n",
    "\n",
    "**Business Context:** The BI Team Lead says: *\"I need to know what's nested so we can plan the normalization. Our Tableau dashboards expect flat tables.\"*\n",
    "\n",
    "**Requirements:**\n",
    "- List all fields that contain nested objects (dict type)\n",
    "- List all fields that contain arrays (list type)\n",
    "- Document which fields need normalization"
   ],
   "id": "fec4f80b"
  },
  {
   "cell_type": "code",
   "execution_count": null,
   "metadata": {},
   "outputs": [],
   "source": [
    "# TODO: Analyze first product to identify nested structures\n",
    "sample_product = products[0]\n",
    "\n",
    "nested_objects = []\n",
    "array_fields = []\n",
    "simple_fields = []\n",
    "\n",
    "# TODO: Categorize each field\n",
    "# for key, value in sample_product.items():\n",
    "#     if isinstance(value, dict):\n",
    "#         nested_objects.append(key)\n",
    "#     elif isinstance(value, list):\n",
    "#         array_fields.append(key)\n",
    "#     else:\n",
    "#         simple_fields.append(key)\n",
    "\n",
    "print(\"\ud83d\udccb Data Structure Analysis for BI Team:\")\n",
    "print(f\"\\n\ud83d\uddc2\ufe0f Nested objects to flatten: {nested_objects}\")\n",
    "print(f\"\ud83d\udcda Array fields to normalize: {array_fields}\")\n",
    "print(f\"\u2705 Simple fields (ready to use): {simple_fields[:5]}...\")  # Show first 5"
   ],
   "id": "abb7008d"
  },
  {
   "cell_type": "markdown",
   "metadata": {},
   "source": [
    "### Question 1.4: Data Quality Check (4 points)\n",
    "\n",
    "**Business Context:** The Head of Data Quality warns: *\"QuickBuy's last acquisition failed due to poor data quality. Check for any missing critical fields!\"*\n",
    "\n",
    "**Requirements:**\n",
    "- Check if any products are missing 'id', 'title', or 'price'\n",
    "- Count unique product categories\n",
    "- Verify all products have at least one review"
   ],
   "id": "c7117707"
  },
  {
   "cell_type": "code",
   "execution_count": null,
   "metadata": {},
   "outputs": [],
   "source": [
    "# TODO: Check for missing critical fields\n",
    "missing_critical = []\n",
    "# for product in products:\n",
    "#     if 'id' not in product or 'title' not in product or 'price' not in product:\n",
    "#         missing_critical.append(product.get('id', 'NO_ID'))\n",
    "\n",
    "# TODO: Count unique categories\n",
    "categories = set()\n",
    "# for product in products:\n",
    "#     categories.add(...)\n",
    "\n",
    "# TODO: Verify all products have reviews\n",
    "products_without_reviews = []\n",
    "# for product in products:\n",
    "#     if len(product.get('reviews', [])) == 0:\n",
    "#         ...\n",
    "\n",
    "print(\"\u2705 Data Quality Report:\")\n",
    "print(f\"\\n\ud83d\udd0d Products missing critical fields: {len(missing_critical)}\")\n",
    "print(f\"\ud83d\udcc2 Unique categories: {len(categories)}\")\n",
    "print(f\"\ud83d\udcac Products without reviews: {len(products_without_reviews)}\")\n",
    "\n",
    "# TODO: List categories for executive review\n",
    "# print(f\"\\n\ud83d\udcca Categories for board review: {sorted(categories)}\")"
   ],
   "id": "df6a7daa"
  },
  {
   "cell_type": "markdown",
   "metadata": {},
   "source": [
    "### \ud83d\udcdd Stakeholder Communication: Initial Assessment\n",
    "\n",
    "**TODO: Brief the Head of Analytics on QuickBuy's data (3-4 sentences)**\n",
    "\n",
    "Consider:\n",
    "- Overall data quality assessment\n",
    "- Complexity of the integration task\n",
    "- Any immediate red flags or pleasant surprises\n",
    "- Estimated effort for normalization\n",
    "\n",
    "[Write your assessment here for the Head of Analytics]"
   ],
   "id": "6402f1ad"
  },
  {
   "cell_type": "markdown",
   "metadata": {},
   "source": [
    "---\n",
    "\n",
    "## Part 2: Data Normalization (35 points)\n",
    "\n",
    "**Context:** The BI Team Lead just called: *\"I need this data in three clean tables by end of day. Our dashboards are waiting!\"*\n",
    "\n",
    "Transform QuickBuy's nested JSON into normalized relational tables."
   ],
   "id": "25a5b404"
  },
  {
   "cell_type": "markdown",
   "metadata": {},
   "source": [
    "### Question 2.1: Create Products Table (12 points)\n",
    "\n",
    "**Business Context:** Create the main products table for inventory analysis.\n",
    "\n",
    "**Requirements:**\n",
    "- Flatten `dimensions` object to width, height, depth columns\n",
    "- Flatten `meta` object to created_at, updated_at, barcode, qr_code columns\n",
    "- Drop nested columns (dimensions, meta, reviews, tags, images)\n",
    "- Convert price to float, stock to int\n",
    "- Parse created_at and updated_at as datetime\n",
    "- Result: DataFrame with 25 columns and 100 rows"
   ],
   "id": "e6ba6ca6"
  },
  {
   "cell_type": "code",
   "execution_count": null,
   "metadata": {},
   "outputs": [],
   "source": [
    "# TODO: Create products DataFrame\n",
    "products_df = pd.DataFrame(products)\n",
    "\n",
    "# TODO: Flatten dimensions (width, height, depth)\n",
    "# Hint: products_df['width'] = products_df['dimensions'].apply(lambda x: x.get('width', None))\n",
    "\n",
    "\n",
    "# TODO: Flatten meta (created_at, updated_at, barcode, qr_code)\n",
    "\n",
    "\n",
    "# TODO: Drop nested columns that we'll normalize separately\n",
    "# columns_to_drop = ['dimensions', 'meta', 'reviews', 'tags', 'images']\n",
    "# products_df = products_df.drop(columns=columns_to_drop)\n",
    "\n",
    "# TODO: Fix data types\n",
    "# products_df['price'] = products_df['price'].astype(float)\n",
    "# products_df['stock'] = ...\n",
    "# products_df['created_at'] = pd.to_datetime(...)\n",
    "\n",
    "# TODO: Verify shape and display info\n",
    "print(\"\ud83d\udcca Products Table Created:\")\n",
    "print(f\"Shape: {products_df.shape}\")\n",
    "print(f\"\\nFirst 3 products:\")\n",
    "products_df.head(3)"
   ],
   "id": "53544b2f"
  },
  {
   "cell_type": "markdown",
   "metadata": {},
   "source": [
    "### Question 2.2: Create Reviews Table (12 points)\n",
    "\n",
    "**Business Context:** The CMO needs customer sentiment analysis: *\"Extract all reviews so we can analyze satisfaction by product category.\"*\n",
    "\n",
    "**Requirements:**\n",
    "- Extract reviews from each product\n",
    "- Maintain product_id as foreign key\n",
    "- Generate review_id as primary key (1, 2, 3...)\n",
    "- Parse review dates as datetime\n",
    "- Include: review_id, product_id, rating, comment, date, reviewer_name, reviewer_email\n",
    "- Result: DataFrame with ~300 rows and 7 columns"
   ],
   "id": "68c4ea18"
  },
  {
   "cell_type": "code",
   "execution_count": null,
   "metadata": {},
   "outputs": [],
   "source": [
    "# TODO: Extract all reviews with foreign key relationship\n",
    "reviews_list = []\n",
    "\n",
    "# for product in products:\n",
    "#     product_id = product['id']\n",
    "#     for review in product.get('reviews', []):\n",
    "#         review_row = {\n",
    "#             'product_id': product_id,\n",
    "#             'rating': ...,\n",
    "#             'comment': ...,\n",
    "#             'date': ...,\n",
    "#             'reviewer_name': ...,\n",
    "#             'reviewer_email': ...\n",
    "#         }\n",
    "#         reviews_list.append(review_row)\n",
    "\n",
    "# TODO: Create DataFrame and add review_id\n",
    "# reviews_df = pd.DataFrame(reviews_list)\n",
    "# reviews_df['review_id'] = range(1, len(reviews_df) + 1)\n",
    "\n",
    "# TODO: Fix data types\n",
    "# reviews_df['date'] = pd.to_datetime(reviews_df['date'])\n",
    "# reviews_df['rating'] = reviews_df['rating'].astype(int)\n",
    "\n",
    "# TODO: Reorder columns for clarity\n",
    "# reviews_df = reviews_df[['review_id', 'product_id', 'rating', 'comment', 'date', 'reviewer_name', 'reviewer_email']]\n",
    "\n",
    "print(\"\ud83d\udcac Reviews Table Created:\")\n",
    "print(f\"Shape: {reviews_df.shape}\")\n",
    "print(f\"Average rating: {reviews_df['rating'].mean():.2f}\")\n",
    "print(f\"\\nFirst 3 reviews:\")\n",
    "reviews_df.head(3)"
   ],
   "id": "f4f78bf4"
  },
  {
   "cell_type": "markdown",
   "metadata": {},
   "source": [
    "### Question 2.3: Create Product Tags Table (11 points)\n",
    "\n",
    "**Business Context:** The Marketing team needs this for SEO: *\"We need to know which tags are associated with which products for our search optimization.\"*\n",
    "\n",
    "**Requirements:**\n",
    "- Extract product-tag relationships\n",
    "- Create bridge table with product_id and tag\n",
    "- One row per product-tag combination\n",
    "- Result: DataFrame with ~250 rows and 2 columns"
   ],
   "id": "745015db"
  },
  {
   "cell_type": "code",
   "execution_count": null,
   "metadata": {},
   "outputs": [],
   "source": [
    "# TODO: Extract product-tag relationships\n",
    "tags_list = []\n",
    "\n",
    "# for product in products:\n",
    "#     product_id = product['id']\n",
    "#     for tag in product.get('tags', []):\n",
    "#         tags_list.append({\n",
    "#             'product_id': ...,\n",
    "#             'tag': ...\n",
    "#         })\n",
    "\n",
    "# TODO: Create DataFrame\n",
    "# tags_df = pd.DataFrame(tags_list)\n",
    "\n",
    "# TODO: Show tag statistics for marketing\n",
    "print(\"\ud83c\udff7\ufe0f Product Tags Table Created:\")\n",
    "print(f\"Shape: {tags_df.shape}\")\n",
    "print(f\"Unique tags: {tags_df['tag'].nunique()}\")\n",
    "print(f\"\\nTop 5 most common tags:\")\n",
    "# tags_df['tag'].value_counts().head()"
   ],
   "id": "62434150"
  },
  {
   "cell_type": "markdown",
   "metadata": {},
   "source": [
    "### \ud83d\udcdd Stakeholder Communication: Normalization Results\n",
    "\n",
    "**TODO: Brief the BI Team on the normalization outcome (3-4 sentences)**\n",
    "\n",
    "Consider:\n",
    "- How many tables were created and their relationships\n",
    "- Any data transformations or cleanups performed\n",
    "- Readiness for Tableau integration\n",
    "- Any limitations or caveats they should know\n",
    "\n",
    "[Write your normalization summary for the BI Team]"
   ],
   "id": "c7d0fdf9"
  },
  {
   "cell_type": "markdown",
   "metadata": {},
   "source": [
    "---\n",
    "\n",
    "## Part 3: Data Validation (20 points)\n",
    "\n",
    "**Context:** The Head of Data Quality insists: *\"QuickBuy's last merger failed because of duplicate records and broken relationships. Validate EVERYTHING!\"*\n",
    "\n",
    "Implement critical data quality checks."
   ],
   "id": "283170cc"
  },
  {
   "cell_type": "markdown",
   "metadata": {},
   "source": [
    "### Question 3.1: Primary Key Validation (5 points)\n",
    "\n",
    "Verify that our primary keys are unique (no duplicates)."
   ],
   "id": "2ac95d61"
  },
  {
   "cell_type": "code",
   "execution_count": null,
   "metadata": {},
   "outputs": [],
   "source": [
    "# TODO: Check primary key uniqueness\n",
    "print(\"\ud83d\udd11 Primary Key Validation:\")\n",
    "\n",
    "# Check products\n",
    "# assert products_df['id'].is_unique, \"\u274c CRITICAL: Duplicate product IDs found!\"\n",
    "print(\"\u2705 Product IDs are unique\")\n",
    "\n",
    "# Check reviews\n",
    "# assert reviews_df['review_id'].is_unique, \"\u274c CRITICAL: Duplicate review IDs found!\"\n",
    "print(\"\u2705 Review IDs are unique\")\n",
    "\n",
    "print(\"\\n\u2728 All primary keys valid!\")"
   ],
   "id": "a9a23cf2"
  },
  {
   "cell_type": "markdown",
   "metadata": {},
   "source": [
    "### Question 3.2: Foreign Key Integrity (5 points)\n",
    "\n",
    "Verify that all foreign keys point to valid primary keys."
   ],
   "id": "9ab5f96c"
  },
  {
   "cell_type": "code",
   "execution_count": null,
   "metadata": {},
   "outputs": [],
   "source": [
    "# TODO: Check foreign key relationships\n",
    "print(\"\ud83d\udd17 Foreign Key Validation:\")\n",
    "\n",
    "# Check reviews -> products\n",
    "# invalid_product_refs = ~reviews_df['product_id'].isin(products_df['id'])\n",
    "# assert not invalid_product_refs.any(), f\"\u274c {invalid_product_refs.sum()} reviews reference non-existent products!\"\n",
    "print(\"\u2705 All reviews link to valid products\")\n",
    "\n",
    "# Check tags -> products\n",
    "# invalid_tag_refs = ~tags_df['product_id'].isin(products_df['id'])\n",
    "# assert not invalid_tag_refs.any(), f\"\u274c {invalid_tag_refs.sum()} tags reference non-existent products!\"\n",
    "print(\"\u2705 All tags link to valid products\")\n",
    "\n",
    "print(\"\\n\u2728 All foreign keys valid!\")"
   ],
   "id": "9cb48329"
  },
  {
   "cell_type": "markdown",
   "metadata": {},
   "source": [
    "### Question 3.3: Data Type Validation (5 points)\n",
    "\n",
    "Verify that critical columns have the correct data types."
   ],
   "id": "1375257c"
  },
  {
   "cell_type": "code",
   "execution_count": null,
   "metadata": {},
   "outputs": [],
   "source": [
    "# TODO: Check data types\n",
    "print(\"\ud83d\udcca Data Type Validation:\")\n",
    "\n",
    "# Check numeric types\n",
    "# assert products_df['price'].dtype == 'float64', \"\u274c Price should be float\"\n",
    "# assert products_df['stock'].dtype in ['int64', 'int32'], \"\u274c Stock should be integer\"\n",
    "# assert reviews_df['rating'].dtype in ['int64', 'int32'], \"\u274c Rating should be integer\"\n",
    "print(\"\u2705 Numeric columns have correct types\")\n",
    "\n",
    "# Check datetime types\n",
    "# assert pd.api.types.is_datetime64_any_dtype(products_df['created_at']), \"\u274c created_at should be datetime\"\n",
    "# assert pd.api.types.is_datetime64_any_dtype(reviews_df['date']), \"\u274c review date should be datetime\"\n",
    "print(\"\u2705 Date columns are properly parsed\")\n",
    "\n",
    "print(\"\\n\u2728 All data types correct!\")"
   ],
   "id": "41970387"
  },
  {
   "cell_type": "markdown",
   "metadata": {},
   "source": [
    "### Question 3.4: Completeness Check (5 points)\n",
    "\n",
    "Verify that no data was lost during transformation."
   ],
   "id": "70fe09ef"
  },
  {
   "cell_type": "code",
   "execution_count": null,
   "metadata": {},
   "outputs": [],
   "source": [
    "# TODO: Verify completeness\n",
    "print(\"\ud83d\udcc8 Data Completeness Validation:\")\n",
    "\n",
    "# Count reviews in original JSON\n",
    "original_review_count = sum(len(p['reviews']) for p in products)\n",
    "# assert len(reviews_df) == original_review_count, f\"\u274c Review count mismatch! Original: {original_review_count}, Transformed: {len(reviews_df)}\"\n",
    "print(f\"\u2705 All {original_review_count} reviews preserved\")\n",
    "\n",
    "# Count tags in original JSON\n",
    "original_tag_count = sum(len(p['tags']) for p in products)\n",
    "# assert len(tags_df) == original_tag_count, f\"\u274c Tag count mismatch!\"\n",
    "print(f\"\u2705 All {original_tag_count} product-tag relationships preserved\")\n",
    "\n",
    "# Check product count\n",
    "# assert len(products_df) == len(products), f\"\u274c Product count mismatch!\"\n",
    "print(f\"\u2705 All {len(products)} products preserved\")\n",
    "\n",
    "print(\"\\n\u2728 No data lost in transformation!\")"
   ],
   "id": "821bd998"
  },
  {
   "cell_type": "markdown",
   "metadata": {},
   "source": [
    "### \ud83d\udcdd Stakeholder Communication: Data Quality Assessment\n",
    "\n",
    "**TODO: Write a data quality summary for the Head of Data Quality (3-4 sentences)**\n",
    "\n",
    "Consider:\n",
    "- Overall quality score (excellent/good/concerning)\n",
    "- Any red flags for the integration?\n",
    "- What should we monitor going forward?\n",
    "- Comparison to other acquisitions you've seen\n",
    "\n",
    "[Write your data quality assessment here]"
   ],
   "id": "d9554a87"
  },
  {
   "cell_type": "markdown",
   "metadata": {},
   "source": [
    "---\n",
    "\n",
    "## Part 4: Database Persistence (10 points)\n",
    "\n",
    "**Context:** The Data Engineering Lead says: *\"Load this into DuckDB now. The overnight ETL jobs need these tables by midnight!\"*\n",
    "\n",
    "Persist the normalized data to our data warehouse."
   ],
   "id": "0525b02b"
  },
  {
   "cell_type": "markdown",
   "metadata": {},
   "source": [
    "### Question 4.1: Create Database Tables (5 points)\n",
    "\n",
    "Load the normalized DataFrames into DuckDB."
   ],
   "id": "1f5934da"
  },
  {
   "cell_type": "code",
   "execution_count": null,
   "metadata": {},
   "outputs": [],
   "source": [
    "# TODO: Load tables into DuckDB\n",
    "print(\"\ud83c\udfd7\ufe0f Creating database tables...\")\n",
    "\n",
    "# Register DataFrames with DuckDB\n",
    "# con.register('products_staging', products_df)\n",
    "# con.register('reviews_staging', reviews_df)\n",
    "# con.register('tags_staging', tags_df)\n",
    "\n",
    "# Create permanent tables\n",
    "# con.execute(\"CREATE TABLE products AS SELECT * FROM products_staging\")\n",
    "# con.execute(\"CREATE TABLE reviews AS SELECT * FROM reviews_staging\")\n",
    "# con.execute(\"CREATE TABLE product_tags AS SELECT * FROM tags_staging\")\n",
    "\n",
    "print(\"\u2705 Tables created in TechMart Data Warehouse\")"
   ],
   "id": "3d323d00"
  },
  {
   "cell_type": "markdown",
   "metadata": {},
   "source": [
    "### Question 4.2: Verify Database Load (5 points)\n",
    "\n",
    "Confirm that all data loaded correctly."
   ],
   "id": "588cc67a"
  },
  {
   "cell_type": "markdown",
   "metadata": {},
   "source": [
    "---\n",
    "\n",
    "## Part 5: SQL Analysis - Board Questions (15 points)\n",
    "\n",
    "**Context:** It's Tuesday afternoon. The CEO just called: *\"I need answers to these specific questions for tomorrow's board meeting!\"*\n",
    "\n",
    "## \ud83d\udcca Analysis Communication Framework\n",
    "\n",
    "**Remember:** The board doesn't want SQL - they want decisions!\n",
    "\n",
    "For each analysis below:\n",
    "1. **Run the query** to get the data\n",
    "2. **Interpret the results** - what does it mean?\n",
    "3. **Make a recommendation** - what should we do?\n",
    "4. **Consider the audience** - tailor your message\n",
    "\n",
    "Use SQL to answer critical business questions."
   ],
   "id": "9143086d"
  },
  {
   "cell_type": "code",
   "execution_count": null,
   "metadata": {},
   "outputs": [],
   "source": [
    "# TODO: Verify table creation and row counts\n",
    "print(\"\ud83d\udcca Database Verification:\")\n",
    "print(\"=\" * 40)\n",
    "\n",
    "# Check products table\n",
    "# product_count = con.execute(\"SELECT COUNT(*) FROM products\").fetchone()[0]\n",
    "# print(f\"\u2705 Products table: {product_count} rows\")\n",
    "\n",
    "# Check reviews table\n",
    "# review_count = con.execute(\"SELECT COUNT(*) FROM reviews\").fetchone()[0]\n",
    "# print(f\"\u2705 Reviews table: {review_count} rows\")\n",
    "\n",
    "# Check product_tags table\n",
    "# tag_count = con.execute(\"SELECT COUNT(*) FROM product_tags\").fetchone()[0]\n",
    "# print(f\"\u2705 Product_tags table: {tag_count} rows\")\n",
    "\n",
    "print(\"\\n\ud83d\udccb Sample data from each table:\")\n",
    "\n",
    "# Show sample from products\n",
    "# print(\"\\nProducts (first 2):\")\n",
    "# con.execute(\"SELECT id, title, price, category FROM products LIMIT 2\").df()\n",
    "\n",
    "# Show sample from reviews\n",
    "# print(\"\\nReviews (first 2):\")\n",
    "# con.execute(\"SELECT review_id, product_id, rating, date FROM reviews LIMIT 2\").df()\n",
    "\n",
    "# Show sample from tags\n",
    "# print(\"\\nProduct Tags (first 5):\")\n",
    "# con.execute(\"SELECT * FROM product_tags LIMIT 5\").df()"
   ],
   "id": "d1093007"
  },
  {
   "cell_type": "markdown",
   "metadata": {},
   "source": [
    "---\n",
    "\n",
    "## Part 5: SQL Analysis - Board Questions (15 points)\n",
    "\n",
    "**Context:** It's Tuesday afternoon. The CEO just called: *\"I need answers to these specific questions for tomorrow's board meeting!\"*\n",
    "\n",
    "Use SQL to answer critical business questions."
   ],
   "id": "2d83a02b"
  },
  {
   "cell_type": "markdown",
   "metadata": {},
   "source": [
    "### \ud83d\udcdd CEO Recommendation: Category Strategy\n",
    "\n",
    "**TODO: What category strategy would you recommend to the board? (2-3 sentences)**\n",
    "\n",
    "Consider:\n",
    "- Which categories to prioritize/discontinue\n",
    "- Resource allocation implications\n",
    "- Risk vs. opportunity balance\n",
    "\n",
    "[Write your category recommendation for the CEO/Board]"
   ],
   "id": "166c21cf"
  },
  {
   "cell_type": "code",
   "execution_count": null,
   "metadata": {},
   "outputs": [],
   "source": [
    "# TODO: Write SQL query for category analysis\n",
    "query = \"\"\"\n",
    "-- CEO wants to know which categories to keep\n",
    "SELECT \n",
    "    p.category,\n",
    "    COUNT(DISTINCT p.id) as product_count,\n",
    "    COUNT(r.review_id) as review_count,\n",
    "    ROUND(AVG(r.rating), 2) as avg_rating\n",
    "FROM products p\n",
    "INNER JOIN reviews r ON p.id = r.product_id\n",
    "GROUP BY p.category\n",
    "ORDER BY avg_rating DESC\n",
    "LIMIT 10\n",
    "\"\"\"\n",
    "\n",
    "# result = con.execute(query).df()\n",
    "print(\"\ud83d\udcca Category Performance for Board Meeting:\")\n",
    "# result"
   ],
   "id": "33719da8"
  },
  {
   "cell_type": "markdown",
   "metadata": {},
   "source": [
    "**TODO: What category recommendation would you make to the board?**\n",
    "\n",
    "[Write 1-2 sentences with your recommendation based on the data]"
   ],
   "id": "84b30eda"
  },
  {
   "cell_type": "markdown",
   "metadata": {},
   "source": [
    "### \ud83d\udcdd CMO Recommendation: Marketing Strategy\n",
    "\n",
    "**TODO: What marketing strategy would you recommend based on engagement patterns? (2-3 sentences)**\n",
    "\n",
    "Consider:\n",
    "- Which products should feature in campaigns?\n",
    "- What makes these products engaging?\n",
    "- Cross-sell/upsell opportunities?\n",
    "- Any surprising findings?\n",
    "\n",
    "[Write your marketing strategy for the CMO]"
   ],
   "id": "a11d7b3d"
  },
  {
   "cell_type": "markdown",
   "metadata": {},
   "source": [
    "### Question 5.2: High-Engagement Products (4 points)\n",
    "\n",
    "**Board Question:** *\"Which products generate the most customer engagement? These might be our marketing champions.\"*\n",
    "\n",
    "**Requirements:**\n",
    "- Find products with more than 3 reviews\n",
    "- Show product title, review count, and average rating\n",
    "- Use HAVING clause\n",
    "- Order by review count DESC"
   ],
   "id": "33b60f69"
  },
  {
   "cell_type": "markdown",
   "metadata": {},
   "source": [
    "### \ud83d\udcdd Product Team Recommendation: Development Insights\n",
    "\n",
    "**TODO: What product development insights can we extract? (2-3 sentences)**\n",
    "\n",
    "Consider:\n",
    "- Which features should we prioritize in new products?\n",
    "- Any unexpected tag patterns or combinations?\n",
    "- Cross-category opportunities?\n",
    "- Features to potentially discontinue?\n",
    "\n",
    "[Write your product development insights for the Product Team]"
   ],
   "id": "d065f873"
  },
  {
   "cell_type": "code",
   "execution_count": null,
   "metadata": {},
   "outputs": [],
   "source": [
    "# TODO: Write SQL query for high-engagement products\n",
    "query = \"\"\"\n",
    "-- CMO wants to identify marketing champions\n",
    "\n",
    "\"\"\"\n",
    "\n",
    "# result = con.execute(query).df()\n",
    "print(\"\ud83c\udfaf High-Engagement Products (Marketing Champions):\")\n",
    "# result"
   ],
   "id": "cb0ca749"
  },
  {
   "cell_type": "markdown",
   "metadata": {},
   "source": [
    "### \ud83d\udcdd CEO Assessment: Integration Timing\n",
    "\n",
    "**TODO: What's your assessment of QuickBuy's trajectory for the CEO? (2-3 sentences)**\n",
    "\n",
    "Consider:\n",
    "- Is customer satisfaction improving or declining?\n",
    "- Should we accelerate or delay integration?\n",
    "- Any seasonal patterns to consider?\n",
    "- Risk assessment for the $12M investment\n",
    "\n",
    "[Write your timing assessment for the CEO]"
   ],
   "id": "b9bba3da"
  },
  {
   "cell_type": "markdown",
   "metadata": {},
   "source": [
    "### Question 5.3: Popular Features Analysis (4 points)\n",
    "\n",
    "**Board Question:** *\"What product features (tags) resonate most with customers? This drives our product strategy.\"*\n",
    "\n",
    "**Requirements:**\n",
    "- Count how often each tag appears\n",
    "- Show tag and product count\n",
    "- Order by frequency DESC\n",
    "- Show top 10 tags"
   ],
   "id": "7a56fda2"
  },
  {
   "cell_type": "code",
   "execution_count": null,
   "metadata": {},
   "outputs": [],
   "source": [
    "---\n",
    "\n",
    "## Executive Summary for Board Meeting\n",
    "\n",
    "**TODO: Write a comprehensive executive summary for tomorrow's board meeting (5-6 sentences)**\n",
    "\n",
    "Include:\n",
    "- Total data scope (products, reviews, categories)\n",
    "- Key insight about customer satisfaction trends\n",
    "- Primary recommendation for integration strategy\n",
    "- Major risks or concerns identified\n",
    "- Timeline recommendation (accelerate/maintain/delay)\n",
    "- Expected ROI or value creation opportunity\n",
    "\n",
    "[Write your executive summary here]"
   ],
   "id": "30d39ec0"
  },
  {
   "cell_type": "markdown",
   "metadata": {},
   "source": [
    "---\n",
    "\n",
    "## Submission Checklist\n",
    "\n",
    "Before submitting, verify:\n",
    "\n",
    "- [ ] All TODO sections completed\n",
    "- [ ] **All stakeholder communications written** (Part 1, 2, 3, 4, and all Part 5 subsections)\n",
    "- [ ] All assertions pass (no errors)\n",
    "- [ ] Three tables created: products (194 rows), reviews (582 rows), product_tags (364 rows)\n",
    "- [ ] All SQL queries return results\n",
    "- [ ] Data dictionary has all columns documented\n",
    "- [ ] Business insights included throughout\n",
    "- [ ] Executive summary written (5-6 sentences)\n",
    "- [ ] **CRITICAL:** Kernel \u2192 Restart & Run All Cells (no errors)\n",
    "- [ ] File renamed to `hw2_[your_name].ipynb`\n",
    "\n",
    "---\n",
    "\n",
    "## Reflection (Optional but Strongly Recommended)\n",
    "\n",
    "**What was the most challenging part of this integration?**\n",
    "\n",
    "[Your answer here]\n",
    "\n",
    "**What insight would be most valuable for the board?**\n",
    "\n",
    "[Your answer here]\n",
    "\n",
    "**How would you improve QuickBuy's data quality going forward?**\n",
    "\n",
    "[Your answer here]\n",
    "\n",
    "**If you had one more day, what additional analysis would you perform?**\n",
    "\n",
    "[Your answer here]\n",
    "\n",
    "---\n",
    "\n",
    "**\ud83c\udf89 Outstanding work, analyst!** You've successfully transformed QuickBuy's data for tomorrow's board meeting. The $2.5M inventory decision and the future of 50 developers' work rest on your analysis. The executives will be impressed with your thoroughness and business acumen!"
   ],
   "id": "2ea90e10"
  },
  {
   "cell_type": "code",
   "execution_count": null,
   "metadata": {},
   "outputs": [],
   "source": [
    "# TODO: Write SQL query for timeline analysis\n",
    "query = \"\"\"\n",
    "-- Board wants to know sentiment trend\n",
    "\n",
    "\"\"\"\n",
    "\n",
    "# result = con.execute(query).df()\n",
    "print(\"\ud83d\udcc5 Review Timeline (Sentiment Trend):\")\n",
    "# result"
   ],
   "id": "48a8eda1"
  },
  {
   "cell_type": "markdown",
   "metadata": {},
   "source": [
    "---\n",
    "\n",
    "## Part 6: Data Dictionary (5 points)\n",
    "\n",
    "**Context:** The Integration Team Lead says: *\"50 developers start migrating QuickBuy's systems tomorrow. They need clear documentation of your schema!\"*\n",
    "\n",
    "Create a comprehensive data dictionary for all tables."
   ],
   "id": "5fed0fc9"
  },
  {
   "cell_type": "code",
   "execution_count": null,
   "metadata": {},
   "outputs": [],
   "source": [
    "# TODO: Create data dictionary\n",
    "data_dictionary = pd.DataFrame([\n",
    "    # Products table\n",
    "    {'Table': 'products', 'Column': 'id', 'Type': 'INTEGER', 'Description': 'Unique product identifier (PK)', 'Example': '1'},\n",
    "    {'Table': 'products', 'Column': 'title', 'Type': 'VARCHAR', 'Description': 'Product name', 'Example': 'Essence Mascara'},\n",
    "    # TODO: Add all other product columns\n",
    "    \n",
    "    # Reviews table\n",
    "    {'Table': 'reviews', 'Column': 'review_id', 'Type': 'INTEGER', 'Description': 'Unique review identifier (PK)', 'Example': '1'},\n",
    "    # TODO: Add all other review columns\n",
    "    \n",
    "    # Product_tags table\n",
    "    {'Table': 'product_tags', 'Column': 'product_id', 'Type': 'INTEGER', 'Description': 'Product identifier (FK)', 'Example': '1'},\n",
    "    {'Table': 'product_tags', 'Column': 'tag', 'Type': 'VARCHAR', 'Description': 'Product feature tag', 'Example': 'electronics'},\n",
    "])\n",
    "\n",
    "print(\"\ud83d\udcda Data Dictionary for Integration Team:\")\n",
    "print(\"=\" * 50)\n",
    "print(f\"Total tables: 3\")\n",
    "print(f\"Total columns documented: {len(data_dictionary)}\")\n",
    "print(\"\\nSample entries:\")\n",
    "data_dictionary.head(10)"
   ],
   "id": "1162bf0b"
  },
  {
   "cell_type": "markdown",
   "metadata": {},
   "source": [
    "---\n",
    "\n",
    "## Executive Summary\n",
    "\n",
    "**TODO: Write a 3-4 sentence summary for the board meeting**\n",
    "\n",
    "Include:\n",
    "- Total data processed (products, reviews)\n",
    "- Key insight about categories or satisfaction\n",
    "- Your recommendation for the integration\n",
    "- Any risks or concerns\n",
    "\n",
    "[Your executive summary here]"
   ],
   "id": "c86f4f93"
  },
  {
   "cell_type": "markdown",
   "metadata": {},
   "source": [
    "---\n",
    "\n",
    "## Submission Checklist\n",
    "\n",
    "Before submitting, verify:\n",
    "\n",
    "- [ ] All TODO sections completed\n",
    "- [ ] All assertions pass (no errors)\n",
    "- [ ] Three tables created: products (100 rows), reviews (~300 rows), product_tags (~250 rows)\n",
    "- [ ] All SQL queries return results\n",
    "- [ ] Data dictionary has all columns documented\n",
    "- [ ] Business insights included throughout\n",
    "- [ ] Executive summary written\n",
    "- [ ] **CRITICAL:** Kernel \u2192 Restart & Run All Cells (no errors)\n",
    "- [ ] File renamed to `hw2_[your_name].ipynb`\n",
    "\n",
    "---\n",
    "\n",
    "## Reflection (Optional but Recommended)\n",
    "\n",
    "**What was the most challenging part of this integration?**\n",
    "\n",
    "[Your answer here]\n",
    "\n",
    "**What insight would be most valuable for the board?**\n",
    "\n",
    "[Your answer here]\n",
    "\n",
    "**How would you improve QuickBuy's data quality?**\n",
    "\n",
    "[Your answer here]\n",
    "\n",
    "---\n",
    "\n",
    "**\ud83c\udf89 Great work, analyst!** You've successfully transformed QuickBuy's data for tomorrow's board meeting. The $2.5M decision rests on your analysis. The executives will be impressed!"
   ],
   "id": "6e99c715"
  }
 ],
 "metadata": {
  "kernelspec": {
   "display_name": "Python 3 (ipykernel)",
   "language": "python",
   "name": "python3"
  },
  "language_info": {
   "codemirror_mode": {
    "name": "ipython",
    "version": 3
   },
   "file_extension": ".py",
   "mimetype": "text/x-python",
   "name": "python",
   "nbconvert_exporter": "python",
   "pygments_lexer": "ipython3",
   "version": "3.12.9"
  }
 },
 "nbformat": 4,
 "nbformat_minor": 5
}