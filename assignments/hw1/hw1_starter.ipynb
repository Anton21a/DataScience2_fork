{
 "cells": [
  {
   "cell_type": "markdown",
   "metadata": {},
   "source": [
    "# Homework 1: SQL Foundations with DuckDB\n",
    "\n",
    "**Name:** [Your Name Here]  \n",
    "**Due:** Day 2, Start of Class  \n",
    "**Total Points:** 100 (+ 10 bonus)\n",
    "\n",
    "---\n",
    "\n",
    "## Instructions\n",
    "\n",
    "1. Complete all TODO sections below\n",
    "2. Write SQL queries to answer each question\n",
    "3. Add markdown explanations where requested\n",
    "4. Before submitting: **Kernel → Restart & Run All Cells**\n",
    "5. Verify all outputs are visible\n",
    "6. Rename file to `hw1_[your_name].ipynb`\n",
    "\n",
    "**Read the README.md for full assignment details, rubric, and tips!**\n",
    "\n",
    "---"
   ]
  },
  {
   "cell_type": "markdown",
   "metadata": {},
   "source": [
    "## Setup\n",
    "\n",
    "Run these cells to set up your environment."
   ]
  },
  {
   "cell_type": "code",
   "execution_count": null,
   "metadata": {},
   "outputs": [],
   "source": [
    "# Install DuckDB (if not already installed)\n",
    "!pip install duckdb -q"
   ]
  },
  {
   "cell_type": "code",
   "execution_count": null,
   "metadata": {},
   "outputs": [],
   "source": [
    "# Import libraries\n",
    "import duckdb\n",
    "import pandas as pd\n",
    "import numpy as np\n",
    "import warnings\n",
    "\n",
    "warnings.filterwarnings('ignore')\n",
    "\n",
    "print(\"✅ Libraries imported successfully!\")"
   ]
  },
  {
   "cell_type": "code",
   "execution_count": null,
   "metadata": {},
   "outputs": [],
   "source": [
    "# Connect to DuckDB\n",
    "con = duckdb.connect(':memory:')\n",
    "\n",
    "print(\"✅ Connected to DuckDB!\")"
   ]
  },
  {
   "cell_type": "code",
   "execution_count": null,
   "metadata": {},
   "outputs": [],
   "source": [
    "# Load the Online Retail dataset\n",
    "# This creates a table called 'retail' that you'll query\n",
    "con.execute(\"\"\"\n",
    "    CREATE TABLE retail AS \n",
    "    SELECT * FROM 'data/online_retail_hw1.csv'\n",
    "\"\"\")\n",
    "\n",
    "print(\"✅ Dataset loaded!\")"
   ]
  },
  {
   "cell_type": "markdown",
   "metadata": {},
   "source": [
    "### Dataset Exploration\n",
    "\n",
    "Let's explore the data before starting the assignment."
   ]
  },
  {
   "cell_type": "code",
   "execution_count": null,
   "metadata": {},
   "outputs": [],
   "source": [
    "# Check row count\n",
    "con.execute(\"SELECT COUNT(*) as total_rows FROM retail\").df()"
   ]
  },
  {
   "cell_type": "code",
   "execution_count": null,
   "metadata": {},
   "outputs": [],
   "source": [
    "# View first few rows\n",
    "con.execute(\"SELECT * FROM retail LIMIT 5\").df()"
   ]
  },
  {
   "cell_type": "code",
   "execution_count": null,
   "metadata": {},
   "outputs": [],
   "source": [
    "# Check for NULL values in each column\n",
    "con.execute(\"\"\"\n",
    "    SELECT \n",
    "        COUNT(*) - COUNT(Invoice) AS invoice_nulls,\n",
    "        COUNT(*) - COUNT(StockCode) AS stockcode_nulls,\n",
    "        COUNT(*) - COUNT(Description) AS description_nulls,\n",
    "        COUNT(*) - COUNT(Quantity) AS quantity_nulls,\n",
    "        COUNT(*) - COUNT(InvoiceDate) AS date_nulls,\n",
    "        COUNT(*) - COUNT(Price) AS price_nulls,\n",
    "        COUNT(*) - COUNT(\"Customer ID\") AS customerid_nulls,\n",
    "        COUNT(*) - COUNT(Country) AS country_nulls\n",
    "    FROM retail\n",
    "\").df()"
   ]
  },
  {
   "cell_type": "code",
   "execution_count": null,
   "metadata": {},
   "outputs": [],
   "source": [
    "# Check date range\n",
    "con.execute(\"\"\"\n",
    "    SELECT \n",
    "        MIN(InvoiceDate) as first_transaction,\n",
    "        MAX(InvoiceDate) as last_transaction\n",
    "    FROM retail\n",
    "\").df()"
   ]
  },
  {
   "cell_type": "markdown",
   "metadata": {},
   "source": [
    "**Good!** Now you know:\n",
    "- Total row count\n",
    "- Which columns have NULLs (Customer ID and Description)\n",
    "- Date range covered\n",
    "\n",
    "Keep this in mind as you write queries!\n",
    "\n",
    "---"
   ]
  },
  {
   "cell_type": "markdown",
   "metadata": {},
   "source": [
    "## Part 1: Basic Queries (30 points)\n",
    "\n",
    "This section tests: SELECT, WHERE, ORDER BY, NULL handling, LIKE"
   ]
  },
  {
   "cell_type": "markdown",
   "metadata": {},
   "source": [
    "### Question 1.1: Guest Checkouts (8 points)\n",
    "\n",
    "**Business question:** How many transactions were guest checkouts (no Customer ID)?\n",
    "\n",
    "**Requirements:**\n",
    "- Count transactions where Customer ID is NULL\n",
    "- Also calculate what percentage of total transactions this represents\n",
    "- Your result should have two columns: `guest_transactions` and `pct_of_total`\n",
    "\n",
    "**Hint:** Remember to use `IS NULL`, not `= NULL`!"
   ]
  },
  {
   "cell_type": "code",
   "execution_count": null,
   "metadata": {},
   "outputs": [],
   "source": [
    "# TODO: Write your query here\n",
    "\n"
   ]
  },
  {
   "cell_type": "markdown",
   "metadata": {},
   "source": [
    "**TODO: Explain your result in 1-2 sentences:**\n",
    "\n",
    "[Your explanation here]"
   ]
  },
  {
   "cell_type": "markdown",
   "metadata": {},
   "source": [
    "---\n",
    "\n",
    "### Question 1.2: High-Value Transactions (7 points)\n",
    "\n",
    "**Business question:** Show the top 20 highest-value transactions (revenue = Quantity * Price).\n",
    "\n",
    "**Requirements:**\n",
    "- Calculate revenue as Quantity * Price\n",
    "- Show: Invoice, Description, Quantity, Price, Revenue\n",
    "- Only include rows where Quantity and Price are both positive\n",
    "- Filter out NULL values appropriately\n",
    "- Sort by revenue descending\n",
    "- Limit to top 20\n",
    "\n",
    "**Hint:** Use calculated column with AS to name it `revenue`"
   ]
  },
  {
   "cell_type": "code",
   "execution_count": null,
   "metadata": {},
   "outputs": [],
   "source": [
    "# TODO: Write your query here\n",
    "\n"
   ]
  },
  {
   "cell_type": "markdown",
   "metadata": {},
   "source": [
    "---\n",
    "\n",
    "### Question 1.3: Product Search (7 points)\n",
    "\n",
    "**Business question:** Find all products with \"CHRISTMAS\" in the description.\n",
    "\n",
    "**Requirements:**\n",
    "- Use LIKE with wildcard pattern matching\n",
    "- Show: StockCode, Description\n",
    "- Get distinct products only (no duplicates)\n",
    "- Sort alphabetically by Description\n",
    "- Limit to first 15 results\n",
    "\n",
    "**Hint:** LIKE is case-sensitive in some databases, but DuckDB is case-insensitive by default"
   ]
  },
  {
   "cell_type": "code",
   "execution_count": null,
   "metadata": {},
   "outputs": [],
   "source": [
    "# TODO: Write your query here\n",
    "\n"
   ]
  },
  {
   "cell_type": "markdown",
   "metadata": {},
   "source": [
    "---\n",
    "\n",
    "### Question 1.4: Multi-Country Orders (8 points)\n",
    "\n",
    "**Business question:** Show transactions from France, Germany, or Spain, with quantity greater than 10.\n",
    "\n",
    "**Requirements:**\n",
    "- Use IN operator for country filtering\n",
    "- Filter for Quantity > 10\n",
    "- Show: Invoice, Country, Description, Quantity, Price\n",
    "- Sort by Country, then Quantity descending\n",
    "- Limit to 25 rows\n",
    "- Handle NULLs appropriately\n",
    "\n",
    "**Hint:** Combine IN with AND for multiple conditions"
   ]
  },
  {
   "cell_type": "code",
   "execution_count": null,
   "metadata": {},
   "outputs": [],
   "source": [
    "# TODO: Write your query here\n",
    "\n"
   ]
  },
  {
   "cell_type": "markdown",
   "metadata": {},
   "source": [
    "**TODO: Why did you include (or not include) NULL checks in this query?**\n",
    "\n",
    "[Your explanation here]"
   ]
  },
  {
   "cell_type": "markdown",
   "metadata": {},
   "source": [
    "---\n",
    "\n",
    "## Part 2: Aggregations (40 points)\n",
    "\n",
    "This section tests: COUNT, SUM, AVG, GROUP BY, HAVING, WHERE vs HAVING"
   ]
  },
  {
   "cell_type": "markdown",
   "metadata": {},
   "source": [
    "### Question 2.1: Revenue by Country (10 points)\n",
    "\n",
    "**Business question:** What's our total revenue and transaction count for each country?\n",
    "\n",
    "**Requirements:**\n",
    "- Calculate total revenue (Quantity * Price) per country\n",
    "- Count transactions per country\n",
    "- Only include positive quantities and non-NULL prices\n",
    "- Show: Country, total_revenue, transaction_count\n",
    "- Sort by total_revenue descending\n",
    "- Show all countries\n",
    "\n",
    "**Hint:** Use SUM() and COUNT() with GROUP BY"
   ]
  },
  {
   "cell_type": "code",
   "execution_count": null,
   "metadata": {},
   "outputs": [],
   "source": [
    "# TODO: Write your query here\n",
    "\n"
   ]
  },
  {
   "cell_type": "markdown",
   "metadata": {},
   "source": [
    "**TODO: Which country generates the most revenue? Does this surprise you?**\n",
    "\n",
    "[Your explanation here]"
   ]
  },
  {
   "cell_type": "markdown",
   "metadata": {},
   "source": [
    "---\n",
    "\n",
    "### Question 2.2: Popular Products (10 points)\n",
    "\n",
    "**Business question:** Which products have been ordered more than 1,000 times?\n",
    "\n",
    "**Requirements:**\n",
    "- Group by StockCode and Description\n",
    "- Count how many times each product appears\n",
    "- Calculate total quantity sold for each product\n",
    "- Filter to products with MORE than 1,000 transactions (use HAVING!)\n",
    "- Show: StockCode, Description, transaction_count, total_quantity_sold\n",
    "- Sort by transaction_count descending\n",
    "\n",
    "**Hint:** This requires HAVING, not WHERE, because you're filtering on an aggregate"
   ]
  },
  {
   "cell_type": "code",
   "execution_count": null,
   "metadata": {},
   "outputs": [],
   "source": [
    "# TODO: Write your query here\n",
    "\n"
   ]
  },
  {
   "cell_type": "markdown",
   "metadata": {},
   "source": [
    "**TODO: Explain why you used HAVING instead of WHERE for the >1000 filter:**\n",
    "\n",
    "[Your explanation here]"
   ]
  },
  {
   "cell_type": "markdown",
   "metadata": {},
   "source": [
    "---\n",
    "\n",
    "### Question 2.3: High-Value Customers (10 points)\n",
    "\n",
    "**Business question:** Which customers have spent more than £5,000 total?\n",
    "\n",
    "**Requirements:**\n",
    "- Calculate total spending (SUM of Quantity * Price) per customer\n",
    "- Count their number of transactions\n",
    "- Only include customers with Customer ID (exclude guest checkouts)\n",
    "- Only include positive quantities and prices\n",
    "- Filter to customers with total spending > 5000\n",
    "- Show: Customer ID, total_spent, transaction_count\n",
    "- Sort by total_spent descending\n",
    "\n",
    "**Hint:** Use WHERE for row-level filtering (NULLs, positive values) and HAVING for aggregate filtering (>5000)"
   ]
  },
  {
   "cell_type": "code",
   "execution_count": null,
   "metadata": {},
   "outputs": [],
   "source": [
    "# TODO: Write your query here\n",
    "\n"
   ]
  },
  {
   "cell_type": "markdown",
   "metadata": {},
   "source": [
    "---\n",
    "\n",
    "### Question 2.4: Monthly Revenue Trend (10 points)\n",
    "\n",
    "**Business question:** What's our revenue and transaction count by month?\n",
    "\n",
    "**Requirements:**\n",
    "- Extract month from InvoiceDate (use DATE_TRUNC('month', InvoiceDate))\n",
    "- Calculate total revenue per month\n",
    "- Count transactions per month\n",
    "- Calculate average transaction value per month\n",
    "- Only include positive quantities and prices\n",
    "- Show: month, total_revenue, transaction_count, avg_transaction_value\n",
    "- Sort by month chronologically\n",
    "\n",
    "**Hint:** DATE_TRUNC('month', date_column) gives you the first day of each month"
   ]
  },
  {
   "cell_type": "code",
   "execution_count": null,
   "metadata": {},
   "outputs": [],
   "source": [
    "# TODO: Write your query here\n",
    "\n"
   ]
  },
  {
   "cell_type": "markdown",
   "metadata": {},
   "source": [
    "**TODO: Do you see any seasonal patterns in the revenue?**\n",
    "\n",
    "[Your explanation here]"
   ]
  },
  {
   "cell_type": "markdown",
   "metadata": {},
   "source": [
    "---\n",
    "\n",
    "## Part 3: Window Functions (30 points)\n",
    "\n",
    "This section tests: ROW_NUMBER, LAG, moving averages"
   ]
  },
  {
   "cell_type": "markdown",
   "metadata": {},
   "source": [
    "### Question 3.1: Latest Purchase Per Customer (8 points)\n",
    "\n",
    "**Business question:** What was each customer's most recent purchase?\n",
    "\n",
    "**Requirements:**\n",
    "- Use ROW_NUMBER() to rank transactions per customer by date\n",
    "- Partition by Customer ID\n",
    "- Order by InvoiceDate descending (most recent first)\n",
    "- Filter to only the most recent transaction (row_num = 1)\n",
    "- Only include customers with Customer ID (no guest checkouts)\n",
    "- Show: Customer ID, Invoice, InvoiceDate, Description, Quantity, Price\n",
    "- Sort by InvoiceDate descending\n",
    "- Show first 20 customers\n",
    "\n",
    "**Hint:** You'll need a subquery - use ROW_NUMBER() in inner query, filter in outer query"
   ]
  },
  {
   "cell_type": "code",
   "execution_count": null,
   "metadata": {},
   "outputs": [],
   "source": [
    "# TODO: Write your query here\n",
    "# Structure: \n",
    "# SELECT ... FROM (\n",
    "#     SELECT ..., ROW_NUMBER() OVER (...) as row_num\n",
    "#     FROM retail\n",
    "# )\n",
    "# WHERE row_num = 1\n",
    "\n"
   ]
  },
  {
   "cell_type": "markdown",
   "metadata": {},
   "source": [
    "**TODO: Why did you use a window function instead of GROUP BY for this question?**\n",
    "\n",
    "[Your explanation here]"
   ]
  },
  {
   "cell_type": "markdown",
   "metadata": {},
   "source": [
    "---\n",
    "\n",
    "### Question 3.2: Week-over-Week Revenue Change (12 points)\n",
    "\n",
    "**Business question:** How is our weekly revenue changing week-over-week?\n",
    "\n",
    "**Requirements:**\n",
    "- First, aggregate to weekly level (use DATE_TRUNC('week', InvoiceDate))\n",
    "- Calculate total revenue per week\n",
    "- Use LAG() to get previous week's revenue\n",
    "- Calculate the change (current week - previous week)\n",
    "- Calculate percent change\n",
    "- Only include positive quantities and prices\n",
    "- Show: week, weekly_revenue, prev_week_revenue, revenue_change, pct_change\n",
    "- Sort by week chronologically\n",
    "- Show all weeks\n",
    "\n",
    "**Hint:** Build this incrementally - first get weekly totals, then add LAG, then calculate changes"
   ]
  },
  {
   "cell_type": "code",
   "execution_count": null,
   "metadata": {},
   "outputs": [],
   "source": [
    "# TODO: Write your query here\n",
    "# Consider using a WITH clause (CTE) to make it cleaner:\n",
    "# WITH weekly AS (\n",
    "#     SELECT ... GROUP BY week\n",
    "# )\n",
    "# SELECT ..., LAG(...) OVER (ORDER BY week) FROM weekly\n",
    "\n"
   ]
  },
  {
   "cell_type": "markdown",
   "metadata": {},
   "source": [
    "**TODO: Which week had the biggest increase in revenue? What might explain this?**\n",
    "\n",
    "[Your explanation here]"
   ]
  },
  {
   "cell_type": "markdown",
   "metadata": {},
   "source": [
    "---\n",
    "\n",
    "### Question 3.3: 7-Day Moving Average (10 points)\n",
    "\n",
    "**Business question:** What's the 7-day moving average of daily revenue?\n",
    "\n",
    "**Requirements:**\n",
    "- First, aggregate to daily level (DATE_TRUNC('day', InvoiceDate) or just InvoiceDate::DATE)\n",
    "- Calculate total revenue per day\n",
    "- Use window function with ROWS BETWEEN to calculate 7-day moving average\n",
    "- The moving average should include current day + 6 days before\n",
    "- Only include positive quantities and prices\n",
    "- Show: date, daily_revenue, moving_avg_7day\n",
    "- Sort by date\n",
    "- Show first 30 days\n",
    "\n",
    "**Hint:** ROWS BETWEEN 6 PRECEDING AND CURRENT ROW gives you 7 days total"
   ]
  },
  {
   "cell_type": "code",
   "execution_count": null,
   "metadata": {},
   "outputs": [],
   "source": [
    "# TODO: Write your query here\n",
    "# WITH daily AS (\n",
    "#     SELECT date, SUM(...) as daily_revenue\n",
    "#     FROM retail\n",
    "#     GROUP BY date\n",
    "# )\n",
    "# SELECT \n",
    "#     date,\n",
    "#     daily_revenue,\n",
    "#     AVG(daily_revenue) OVER (ORDER BY date ROWS BETWEEN 6 PRECEDING AND CURRENT ROW) as moving_avg\n",
    "# FROM daily\n",
    "\n"
   ]
  },
  {
   "cell_type": "markdown",
   "metadata": {},
   "source": [
    "**TODO: Why is a moving average useful for analyzing daily revenue?**\n",
    "\n",
    "[Your explanation here]"
   ]
  },
  {
   "cell_type": "markdown",
   "metadata": {},
   "source": [
    "---\n",
    "\n",
    "## Bonus Question (10 points)\n",
    "\n",
    "This tests: Synthesis of multiple concepts (window functions + GROUP BY)"
   ]
  },
  {
   "cell_type": "markdown",
   "metadata": {},
   "source": [
    "### Bonus: Top Product Per Country (10 points)\n",
    "\n",
    "**Business question:** What's the #1 best-selling product (by revenue) in each country?\n",
    "\n",
    "**Requirements:**\n",
    "- Calculate total revenue per product per country\n",
    "- Rank products within each country by revenue\n",
    "- Show only the #1 product for each country\n",
    "- Only include positive quantities and prices\n",
    "- Show: Country, StockCode, Description, total_revenue, rank\n",
    "- Sort by Country\n",
    "\n",
    "**Strategy:**\n",
    "1. First: GROUP BY country and product to get revenue per product per country\n",
    "2. Then: Use ROW_NUMBER() to rank products within each country\n",
    "3. Finally: Filter to rank = 1\n",
    "\n",
    "**Hint:** This combines aggregation (GROUP BY) with window functions (ROW_NUMBER)"
   ]
  },
  {
   "cell_type": "code",
   "execution_count": null,
   "metadata": {},
   "outputs": [],
   "source": [
    "# TODO: Write your query here (BONUS)\n",
    "# This is challenging! Break it into steps:\n",
    "# 1. Inner query: GROUP BY country and product\n",
    "# 2. Middle query: Add ROW_NUMBER() partitioned by country\n",
    "# 3. Outer query: Filter to row_num = 1\n",
    "\n"
   ]
  },
  {
   "cell_type": "markdown",
   "metadata": {},
   "source": [
    "**TODO: (Bonus) Explain your approach to this question:**\n",
    "\n",
    "[Your explanation here]"
   ]
  },
  {
   "cell_type": "markdown",
   "metadata": {},
   "source": [
    "---\n",
    "\n",
    "## Submission Checklist\n",
    "\n",
    "Before submitting, verify:\n",
    "\n",
    "- [ ] All TODO sections completed\n",
    "- [ ] All queries produce results (no errors)\n",
    "- [ ] All query outputs are visible\n",
    "- [ ] All markdown explanations completed\n",
    "- [ ] SQL formatted nicely (uppercase keywords, indented)\n",
    "- [ ] NULL values handled appropriately (IS NULL, not = NULL)\n",
    "- [ ] **CRITICAL:** Kernel → Restart & Run All Cells (no errors)\n",
    "- [ ] File renamed to `hw1_[your_name].ipynb`\n",
    "\n",
    "---\n",
    "\n",
    "## Reflection (Optional but Recommended)\n",
    "\n",
    "**What was the most challenging part of this assignment?**\n",
    "\n",
    "[Your answer here]\n",
    "\n",
    "**What concept do you feel most confident about now?**\n",
    "\n",
    "[Your answer here]\n",
    "\n",
    "**What would you like more practice with?**\n",
    "\n",
    "[Your answer here]\n",
    "\n",
    "---\n",
    "\n",
    "**Great work! 🎉** You've completed queries on 525,000 rows of real data. This is the kind of work data professionals do every day. Be proud!"
   ]
  }
 ],
 "metadata": {
  "kernelspec": {
   "display_name": "Python 3 (ipykernel)",
   "language": "python",
   "name": "python3"
  },
  "language_info": {
   "codemirror_mode": {
    "name": "ipython",
    "version": 3
   },
   "file_extension": ".py",
   "mimetype": "text/x-python",
   "name": "python",
   "nbconvert_exporter": "python",
   "pygments_lexer": "ipython3",
   "version": "3.12.9"
  }
 },
 "nbformat": 4,
 "nbformat_minor": 4
}
